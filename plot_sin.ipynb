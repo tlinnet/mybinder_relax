{
 "cells": [
  {
   "cell_type": "markdown",
   "metadata": {
    "slideshow": {
     "slide_type": "slide"
    }
   },
   "source": [
    "# Interactive plotting with ipywidgets\n",
    "\n",
    "When **this notebook is opened**, then select in the menu, Kernel -> Restart & Run all.<br>\n",
    "This is to refresh the widgets.\n",
    "\n",
    "* [This noteboook is available at github.com/tlinnet/mybinder_relax](https://github.com/tlinnet/mybinder_relax/blob/master/plot_sin.ipynb)\n",
    "\n",
    "* [The widgets can be seen at mybinder.org by clicking here](https://mybinder.org/v2/gh/tlinnet/mybinder_relax/master?filepath=plot_sin.ipynb)\n",
    "\n",
    "This is an illustration of a [damped sine wave](https://en.wikipedia.org/wiki/Damped_sine_wave)."
   ]
  },
  {
   "cell_type": "markdown",
   "metadata": {
    "slideshow": {
     "slide_type": "skip"
    }
   },
   "source": [
    "# Table of contents\n",
    "\n",
    "* [import of code](#importcode)\n",
    "* [Functions](#func)\n",
    "* [Damped sine wave widget](#sin_widget)"
   ]
  },
  {
   "cell_type": "markdown",
   "metadata": {
    "slideshow": {
     "slide_type": "slide"
    }
   },
   "source": [
    "# Import <a name=\"importcode\"></a>"
   ]
  },
  {
   "cell_type": "code",
   "execution_count": 1,
   "metadata": {
    "slideshow": {
     "slide_type": "-"
    }
   },
   "outputs": [],
   "source": [
    "# Import python packages\n",
    "import numpy as np\n",
    "# Set backend. This must be done before importing.\n",
    "%matplotlib notebook\n",
    "import matplotlib.pylab as plt\n",
    "\n",
    "# Widgets\n",
    "from ipywidgets import interact, interactive, fixed\n",
    "import ipywidgets as widgets"
   ]
  },
  {
   "cell_type": "markdown",
   "metadata": {
    "slideshow": {
     "slide_type": "slide"
    }
   },
   "source": [
    "# Functions <a name=\"func\"></a>\n",
    "$$y(t) = A \\cdot e^{-\\lambda t} \\cdot \\cos{(\\omega t + \\phi)} $$"
   ]
  },
  {
   "cell_type": "code",
   "execution_count": 2,
   "metadata": {
    "slideshow": {
     "slide_type": "-"
    }
   },
   "outputs": [],
   "source": [
    "def sin_calc(xt=None, A=None, l=None, o=None, p=None):\n",
    "    \"\"\"\n",
    "    @keyword xt:        The array of time points.\n",
    "    @keyword A:         The initial amplitude of the envelope.\n",
    "    @keyword l:         l=lambda, the decay constant, in the reciprocal of the time units of the X axis.\n",
    "    @keyword o:         o=omega, the angular frequency.\n",
    "    @keyword p:         p=phi, the phase angle at some arbitrary point.\n",
    "    \"\"\"\n",
    "    # Calculate y\n",
    "    y = A*np.exp(-l*xt)*np.cos(o*xt+p)\n",
    "    return y"
   ]
  },
  {
   "cell_type": "code",
   "execution_count": 3,
   "metadata": {
    "slideshow": {
     "slide_type": "slide"
    }
   },
   "outputs": [],
   "source": [
    "def sin_plot(fig=None, ax=None, \n",
    "                Amp_1=1., lambda_1=1., omega_1=2*np.pi, phi_1=0,\n",
    "                Amp_2=1.5, lambda_2=0.5, omega_2=2*np.pi, phi_2=0\n",
    "            ):\n",
    "    \"\"\"\n",
    "    @keyword fig:       The matplotlib figure.\n",
    "    @keyword ax:        The matplotlib axis to plot on.\n",
    "    @keyword Amp:       The initial amplitude of the envelope.\n",
    "    @keyword lambd:     lambda, the decay constant, in the reciprocal of the time units of the X axis.\n",
    "    @keyword omega:     omega, the angular frequency.\n",
    "    @keyword phi:       phi, the phase angle at some arbitrary point.\n",
    "    \"\"\"\n",
    "    # Make array of time points\n",
    "    xt = np.linspace(0, 5, num=1000)\n",
    "\n",
    "    # Gety values\n",
    "    y_1 = sin_calc(xt=xt, A=Amp_1, l=lambda_1, o=omega_1, p=phi_1)\n",
    "    y_2 = sin_calc(xt=xt, A=Amp_2, l=lambda_2, o=omega_2, p=phi_2)\n",
    "    \n",
    "    # Make label\n",
    "    label_1 = \"Amp=%.1f \\nlambda=%.1f \\nomega=%.1f \\nphi=%.1f\"%(Amp_1, lambda_1, omega_1, phi_1)\n",
    "    label_2 = \"Amp=%.1f \\nlambda=%.1f \\nomega=%.1f \\nphi=%.1f\"%(Amp_2, lambda_2, omega_2, phi_2)\n",
    "    \n",
    "    # Plot\n",
    "    # Update if already existing\n",
    "    if ax.lines:\n",
    "        # Update y-data. x-data is the same.\n",
    "        ax.lines[0].set_ydata(y_1)\n",
    "        ax.lines[1].set_ydata(y_2)\n",
    "        # Update legend\n",
    "        ax.legend((ax.lines[0], ax.lines[1]), (label_1, label_2), loc='center left', bbox_to_anchor=(1, 0.5))\n",
    "        # Set axis limits\n",
    "        p_ylim_up = np.max(np.concatenate((y_1, y_2)))\n",
    "        # Round up to nearest 2\n",
    "        p_ylim_up = p_ylim_up + (- p_ylim_up % 2 )\n",
    "        ax.set_ylim(-p_ylim_up, p_ylim_up)\n",
    "    # Create new plot, if not existing\n",
    "    else:\n",
    "        # Plot\n",
    "        plt.plot(xt, y_1, label=label_1)\n",
    "        plt.plot(xt, y_2, label=label_2)\n",
    "        # Set labels\n",
    "        ax.set_xlabel(\"Amplitude\")\n",
    "        ax.set_ylabel(\"Time\")\n",
    "\n",
    "        # Set axis limits\n",
    "        p_ylim_up = ax.get_ylim()[-1]\n",
    "        # Round up to nearest 2\n",
    "        p_ylim_up = p_ylim_up + (- p_ylim_up % 2 )\n",
    "        ax.set_ylim(-p_ylim_up, p_ylim_up)\n",
    "        # x_lim does not change\n",
    "        ax.set_xlim(xt[0], xt[-1])\n",
    "        # Put legend outside\n",
    "        box = ax.get_position()\n",
    "        ax.set_position([box.x0, box.y0, box.width * 0.8, box.height])\n",
    "        ax.legend(loc='center left', bbox_to_anchor=(1, 0.5))\n",
    "    # Update canvas\n",
    "    fig.canvas.draw()"
   ]
  },
  {
   "cell_type": "markdown",
   "metadata": {
    "slideshow": {
     "slide_type": "slide"
    }
   },
   "source": [
    "# Damped sine wave <a name=\"sin_widget\"></a>"
   ]
  },
  {
   "cell_type": "code",
   "execution_count": 4,
   "metadata": {
    "slideshow": {
     "slide_type": "-"
    }
   },
   "outputs": [],
   "source": [
    "def make_widget():\n",
    "    fig, ax = plt.subplots(1, figsize=(10, 4))\n",
    "    widget = interactive(sin_plot, fig=fixed(fig), ax=fixed(ax), \n",
    "                        Amp_1=(0.1, 5., 0.1), lambda_1=(0., 5., 0.1), omega_1=(0., 4*np.pi, 0.1), \n",
    "                        phi_1=( -round(2*np.pi, 1), round(2*np.pi, 1) ),\n",
    "                        Amp_2=(0.1, 5., 0.1), lambda_2=(0., 5., 0.1), omega_2=(0., 4*np.pi, 0.1), \n",
    "                        phi_2=( -round(2*np.pi, 1), round(2*np.pi, 1) )\n",
    "                    )\n",
    "    # Make figure\n",
    "    return widget"
   ]
  },
  {
   "cell_type": "code",
   "execution_count": 5,
   "metadata": {
    "slideshow": {
     "slide_type": "slide"
    }
   },
   "outputs": [
    {
     "data": {
      "application/javascript": [
       "/* Put everything inside the global mpl namespace */\n",
       "window.mpl = {};\n",
       "\n",
       "\n",
       "mpl.get_websocket_type = function() {\n",
       "    if (typeof(WebSocket) !== 'undefined') {\n",
       "        return WebSocket;\n",
       "    } else if (typeof(MozWebSocket) !== 'undefined') {\n",
       "        return MozWebSocket;\n",
       "    } else {\n",
       "        alert('Your browser does not have WebSocket support.' +\n",
       "              'Please try Chrome, Safari or Firefox ≥ 6. ' +\n",
       "              'Firefox 4 and 5 are also supported but you ' +\n",
       "              'have to enable WebSockets in about:config.');\n",
       "    };\n",
       "}\n",
       "\n",
       "mpl.figure = function(figure_id, websocket, ondownload, parent_element) {\n",
       "    this.id = figure_id;\n",
       "\n",
       "    this.ws = websocket;\n",
       "\n",
       "    this.supports_binary = (this.ws.binaryType != undefined);\n",
       "\n",
       "    if (!this.supports_binary) {\n",
       "        var warnings = document.getElementById(\"mpl-warnings\");\n",
       "        if (warnings) {\n",
       "            warnings.style.display = 'block';\n",
       "            warnings.textContent = (\n",
       "                \"This browser does not support binary websocket messages. \" +\n",
       "                    \"Performance may be slow.\");\n",
       "        }\n",
       "    }\n",
       "\n",
       "    this.imageObj = new Image();\n",
       "\n",
       "    this.context = undefined;\n",
       "    this.message = undefined;\n",
       "    this.canvas = undefined;\n",
       "    this.rubberband_canvas = undefined;\n",
       "    this.rubberband_context = undefined;\n",
       "    this.format_dropdown = undefined;\n",
       "\n",
       "    this.image_mode = 'full';\n",
       "\n",
       "    this.root = $('<div/>');\n",
       "    this._root_extra_style(this.root)\n",
       "    this.root.attr('style', 'display: inline-block');\n",
       "\n",
       "    $(parent_element).append(this.root);\n",
       "\n",
       "    this._init_header(this);\n",
       "    this._init_canvas(this);\n",
       "    this._init_toolbar(this);\n",
       "\n",
       "    var fig = this;\n",
       "\n",
       "    this.waiting = false;\n",
       "\n",
       "    this.ws.onopen =  function () {\n",
       "            fig.send_message(\"supports_binary\", {value: fig.supports_binary});\n",
       "            fig.send_message(\"send_image_mode\", {});\n",
       "            if (mpl.ratio != 1) {\n",
       "                fig.send_message(\"set_dpi_ratio\", {'dpi_ratio': mpl.ratio});\n",
       "            }\n",
       "            fig.send_message(\"refresh\", {});\n",
       "        }\n",
       "\n",
       "    this.imageObj.onload = function() {\n",
       "            if (fig.image_mode == 'full') {\n",
       "                // Full images could contain transparency (where diff images\n",
       "                // almost always do), so we need to clear the canvas so that\n",
       "                // there is no ghosting.\n",
       "                fig.context.clearRect(0, 0, fig.canvas.width, fig.canvas.height);\n",
       "            }\n",
       "            fig.context.drawImage(fig.imageObj, 0, 0);\n",
       "        };\n",
       "\n",
       "    this.imageObj.onunload = function() {\n",
       "        this.ws.close();\n",
       "    }\n",
       "\n",
       "    this.ws.onmessage = this._make_on_message_function(this);\n",
       "\n",
       "    this.ondownload = ondownload;\n",
       "}\n",
       "\n",
       "mpl.figure.prototype._init_header = function() {\n",
       "    var titlebar = $(\n",
       "        '<div class=\"ui-dialog-titlebar ui-widget-header ui-corner-all ' +\n",
       "        'ui-helper-clearfix\"/>');\n",
       "    var titletext = $(\n",
       "        '<div class=\"ui-dialog-title\" style=\"width: 100%; ' +\n",
       "        'text-align: center; padding: 3px;\"/>');\n",
       "    titlebar.append(titletext)\n",
       "    this.root.append(titlebar);\n",
       "    this.header = titletext[0];\n",
       "}\n",
       "\n",
       "\n",
       "\n",
       "mpl.figure.prototype._canvas_extra_style = function(canvas_div) {\n",
       "\n",
       "}\n",
       "\n",
       "\n",
       "mpl.figure.prototype._root_extra_style = function(canvas_div) {\n",
       "\n",
       "}\n",
       "\n",
       "mpl.figure.prototype._init_canvas = function() {\n",
       "    var fig = this;\n",
       "\n",
       "    var canvas_div = $('<div/>');\n",
       "\n",
       "    canvas_div.attr('style', 'position: relative; clear: both; outline: 0');\n",
       "\n",
       "    function canvas_keyboard_event(event) {\n",
       "        return fig.key_event(event, event['data']);\n",
       "    }\n",
       "\n",
       "    canvas_div.keydown('key_press', canvas_keyboard_event);\n",
       "    canvas_div.keyup('key_release', canvas_keyboard_event);\n",
       "    this.canvas_div = canvas_div\n",
       "    this._canvas_extra_style(canvas_div)\n",
       "    this.root.append(canvas_div);\n",
       "\n",
       "    var canvas = $('<canvas/>');\n",
       "    canvas.addClass('mpl-canvas');\n",
       "    canvas.attr('style', \"left: 0; top: 0; z-index: 0; outline: 0\")\n",
       "\n",
       "    this.canvas = canvas[0];\n",
       "    this.context = canvas[0].getContext(\"2d\");\n",
       "\n",
       "    var backingStore = this.context.backingStorePixelRatio ||\n",
       "\tthis.context.webkitBackingStorePixelRatio ||\n",
       "\tthis.context.mozBackingStorePixelRatio ||\n",
       "\tthis.context.msBackingStorePixelRatio ||\n",
       "\tthis.context.oBackingStorePixelRatio ||\n",
       "\tthis.context.backingStorePixelRatio || 1;\n",
       "\n",
       "    mpl.ratio = (window.devicePixelRatio || 1) / backingStore;\n",
       "\n",
       "    var rubberband = $('<canvas/>');\n",
       "    rubberband.attr('style', \"position: absolute; left: 0; top: 0; z-index: 1;\")\n",
       "\n",
       "    var pass_mouse_events = true;\n",
       "\n",
       "    canvas_div.resizable({\n",
       "        start: function(event, ui) {\n",
       "            pass_mouse_events = false;\n",
       "        },\n",
       "        resize: function(event, ui) {\n",
       "            fig.request_resize(ui.size.width, ui.size.height);\n",
       "        },\n",
       "        stop: function(event, ui) {\n",
       "            pass_mouse_events = true;\n",
       "            fig.request_resize(ui.size.width, ui.size.height);\n",
       "        },\n",
       "    });\n",
       "\n",
       "    function mouse_event_fn(event) {\n",
       "        if (pass_mouse_events)\n",
       "            return fig.mouse_event(event, event['data']);\n",
       "    }\n",
       "\n",
       "    rubberband.mousedown('button_press', mouse_event_fn);\n",
       "    rubberband.mouseup('button_release', mouse_event_fn);\n",
       "    // Throttle sequential mouse events to 1 every 20ms.\n",
       "    rubberband.mousemove('motion_notify', mouse_event_fn);\n",
       "\n",
       "    rubberband.mouseenter('figure_enter', mouse_event_fn);\n",
       "    rubberband.mouseleave('figure_leave', mouse_event_fn);\n",
       "\n",
       "    canvas_div.on(\"wheel\", function (event) {\n",
       "        event = event.originalEvent;\n",
       "        event['data'] = 'scroll'\n",
       "        if (event.deltaY < 0) {\n",
       "            event.step = 1;\n",
       "        } else {\n",
       "            event.step = -1;\n",
       "        }\n",
       "        mouse_event_fn(event);\n",
       "    });\n",
       "\n",
       "    canvas_div.append(canvas);\n",
       "    canvas_div.append(rubberband);\n",
       "\n",
       "    this.rubberband = rubberband;\n",
       "    this.rubberband_canvas = rubberband[0];\n",
       "    this.rubberband_context = rubberband[0].getContext(\"2d\");\n",
       "    this.rubberband_context.strokeStyle = \"#000000\";\n",
       "\n",
       "    this._resize_canvas = function(width, height) {\n",
       "        // Keep the size of the canvas, canvas container, and rubber band\n",
       "        // canvas in synch.\n",
       "        canvas_div.css('width', width)\n",
       "        canvas_div.css('height', height)\n",
       "\n",
       "        canvas.attr('width', width * mpl.ratio);\n",
       "        canvas.attr('height', height * mpl.ratio);\n",
       "        canvas.attr('style', 'width: ' + width + 'px; height: ' + height + 'px;');\n",
       "\n",
       "        rubberband.attr('width', width);\n",
       "        rubberband.attr('height', height);\n",
       "    }\n",
       "\n",
       "    // Set the figure to an initial 600x600px, this will subsequently be updated\n",
       "    // upon first draw.\n",
       "    this._resize_canvas(600, 600);\n",
       "\n",
       "    // Disable right mouse context menu.\n",
       "    $(this.rubberband_canvas).bind(\"contextmenu\",function(e){\n",
       "        return false;\n",
       "    });\n",
       "\n",
       "    function set_focus () {\n",
       "        canvas.focus();\n",
       "        canvas_div.focus();\n",
       "    }\n",
       "\n",
       "    window.setTimeout(set_focus, 100);\n",
       "}\n",
       "\n",
       "mpl.figure.prototype._init_toolbar = function() {\n",
       "    var fig = this;\n",
       "\n",
       "    var nav_element = $('<div/>')\n",
       "    nav_element.attr('style', 'width: 100%');\n",
       "    this.root.append(nav_element);\n",
       "\n",
       "    // Define a callback function for later on.\n",
       "    function toolbar_event(event) {\n",
       "        return fig.toolbar_button_onclick(event['data']);\n",
       "    }\n",
       "    function toolbar_mouse_event(event) {\n",
       "        return fig.toolbar_button_onmouseover(event['data']);\n",
       "    }\n",
       "\n",
       "    for(var toolbar_ind in mpl.toolbar_items) {\n",
       "        var name = mpl.toolbar_items[toolbar_ind][0];\n",
       "        var tooltip = mpl.toolbar_items[toolbar_ind][1];\n",
       "        var image = mpl.toolbar_items[toolbar_ind][2];\n",
       "        var method_name = mpl.toolbar_items[toolbar_ind][3];\n",
       "\n",
       "        if (!name) {\n",
       "            // put a spacer in here.\n",
       "            continue;\n",
       "        }\n",
       "        var button = $('<button/>');\n",
       "        button.addClass('ui-button ui-widget ui-state-default ui-corner-all ' +\n",
       "                        'ui-button-icon-only');\n",
       "        button.attr('role', 'button');\n",
       "        button.attr('aria-disabled', 'false');\n",
       "        button.click(method_name, toolbar_event);\n",
       "        button.mouseover(tooltip, toolbar_mouse_event);\n",
       "\n",
       "        var icon_img = $('<span/>');\n",
       "        icon_img.addClass('ui-button-icon-primary ui-icon');\n",
       "        icon_img.addClass(image);\n",
       "        icon_img.addClass('ui-corner-all');\n",
       "\n",
       "        var tooltip_span = $('<span/>');\n",
       "        tooltip_span.addClass('ui-button-text');\n",
       "        tooltip_span.html(tooltip);\n",
       "\n",
       "        button.append(icon_img);\n",
       "        button.append(tooltip_span);\n",
       "\n",
       "        nav_element.append(button);\n",
       "    }\n",
       "\n",
       "    var fmt_picker_span = $('<span/>');\n",
       "\n",
       "    var fmt_picker = $('<select/>');\n",
       "    fmt_picker.addClass('mpl-toolbar-option ui-widget ui-widget-content');\n",
       "    fmt_picker_span.append(fmt_picker);\n",
       "    nav_element.append(fmt_picker_span);\n",
       "    this.format_dropdown = fmt_picker[0];\n",
       "\n",
       "    for (var ind in mpl.extensions) {\n",
       "        var fmt = mpl.extensions[ind];\n",
       "        var option = $(\n",
       "            '<option/>', {selected: fmt === mpl.default_extension}).html(fmt);\n",
       "        fmt_picker.append(option)\n",
       "    }\n",
       "\n",
       "    // Add hover states to the ui-buttons\n",
       "    $( \".ui-button\" ).hover(\n",
       "        function() { $(this).addClass(\"ui-state-hover\");},\n",
       "        function() { $(this).removeClass(\"ui-state-hover\");}\n",
       "    );\n",
       "\n",
       "    var status_bar = $('<span class=\"mpl-message\"/>');\n",
       "    nav_element.append(status_bar);\n",
       "    this.message = status_bar[0];\n",
       "}\n",
       "\n",
       "mpl.figure.prototype.request_resize = function(x_pixels, y_pixels) {\n",
       "    // Request matplotlib to resize the figure. Matplotlib will then trigger a resize in the client,\n",
       "    // which will in turn request a refresh of the image.\n",
       "    this.send_message('resize', {'width': x_pixels, 'height': y_pixels});\n",
       "}\n",
       "\n",
       "mpl.figure.prototype.send_message = function(type, properties) {\n",
       "    properties['type'] = type;\n",
       "    properties['figure_id'] = this.id;\n",
       "    this.ws.send(JSON.stringify(properties));\n",
       "}\n",
       "\n",
       "mpl.figure.prototype.send_draw_message = function() {\n",
       "    if (!this.waiting) {\n",
       "        this.waiting = true;\n",
       "        this.ws.send(JSON.stringify({type: \"draw\", figure_id: this.id}));\n",
       "    }\n",
       "}\n",
       "\n",
       "\n",
       "mpl.figure.prototype.handle_save = function(fig, msg) {\n",
       "    var format_dropdown = fig.format_dropdown;\n",
       "    var format = format_dropdown.options[format_dropdown.selectedIndex].value;\n",
       "    fig.ondownload(fig, format);\n",
       "}\n",
       "\n",
       "\n",
       "mpl.figure.prototype.handle_resize = function(fig, msg) {\n",
       "    var size = msg['size'];\n",
       "    if (size[0] != fig.canvas.width || size[1] != fig.canvas.height) {\n",
       "        fig._resize_canvas(size[0], size[1]);\n",
       "        fig.send_message(\"refresh\", {});\n",
       "    };\n",
       "}\n",
       "\n",
       "mpl.figure.prototype.handle_rubberband = function(fig, msg) {\n",
       "    var x0 = msg['x0'] / mpl.ratio;\n",
       "    var y0 = (fig.canvas.height - msg['y0']) / mpl.ratio;\n",
       "    var x1 = msg['x1'] / mpl.ratio;\n",
       "    var y1 = (fig.canvas.height - msg['y1']) / mpl.ratio;\n",
       "    x0 = Math.floor(x0) + 0.5;\n",
       "    y0 = Math.floor(y0) + 0.5;\n",
       "    x1 = Math.floor(x1) + 0.5;\n",
       "    y1 = Math.floor(y1) + 0.5;\n",
       "    var min_x = Math.min(x0, x1);\n",
       "    var min_y = Math.min(y0, y1);\n",
       "    var width = Math.abs(x1 - x0);\n",
       "    var height = Math.abs(y1 - y0);\n",
       "\n",
       "    fig.rubberband_context.clearRect(\n",
       "        0, 0, fig.canvas.width, fig.canvas.height);\n",
       "\n",
       "    fig.rubberband_context.strokeRect(min_x, min_y, width, height);\n",
       "}\n",
       "\n",
       "mpl.figure.prototype.handle_figure_label = function(fig, msg) {\n",
       "    // Updates the figure title.\n",
       "    fig.header.textContent = msg['label'];\n",
       "}\n",
       "\n",
       "mpl.figure.prototype.handle_cursor = function(fig, msg) {\n",
       "    var cursor = msg['cursor'];\n",
       "    switch(cursor)\n",
       "    {\n",
       "    case 0:\n",
       "        cursor = 'pointer';\n",
       "        break;\n",
       "    case 1:\n",
       "        cursor = 'default';\n",
       "        break;\n",
       "    case 2:\n",
       "        cursor = 'crosshair';\n",
       "        break;\n",
       "    case 3:\n",
       "        cursor = 'move';\n",
       "        break;\n",
       "    }\n",
       "    fig.rubberband_canvas.style.cursor = cursor;\n",
       "}\n",
       "\n",
       "mpl.figure.prototype.handle_message = function(fig, msg) {\n",
       "    fig.message.textContent = msg['message'];\n",
       "}\n",
       "\n",
       "mpl.figure.prototype.handle_draw = function(fig, msg) {\n",
       "    // Request the server to send over a new figure.\n",
       "    fig.send_draw_message();\n",
       "}\n",
       "\n",
       "mpl.figure.prototype.handle_image_mode = function(fig, msg) {\n",
       "    fig.image_mode = msg['mode'];\n",
       "}\n",
       "\n",
       "mpl.figure.prototype.updated_canvas_event = function() {\n",
       "    // Called whenever the canvas gets updated.\n",
       "    this.send_message(\"ack\", {});\n",
       "}\n",
       "\n",
       "// A function to construct a web socket function for onmessage handling.\n",
       "// Called in the figure constructor.\n",
       "mpl.figure.prototype._make_on_message_function = function(fig) {\n",
       "    return function socket_on_message(evt) {\n",
       "        if (evt.data instanceof Blob) {\n",
       "            /* FIXME: We get \"Resource interpreted as Image but\n",
       "             * transferred with MIME type text/plain:\" errors on\n",
       "             * Chrome.  But how to set the MIME type?  It doesn't seem\n",
       "             * to be part of the websocket stream */\n",
       "            evt.data.type = \"image/png\";\n",
       "\n",
       "            /* Free the memory for the previous frames */\n",
       "            if (fig.imageObj.src) {\n",
       "                (window.URL || window.webkitURL).revokeObjectURL(\n",
       "                    fig.imageObj.src);\n",
       "            }\n",
       "\n",
       "            fig.imageObj.src = (window.URL || window.webkitURL).createObjectURL(\n",
       "                evt.data);\n",
       "            fig.updated_canvas_event();\n",
       "            fig.waiting = false;\n",
       "            return;\n",
       "        }\n",
       "        else if (typeof evt.data === 'string' && evt.data.slice(0, 21) == \"data:image/png;base64\") {\n",
       "            fig.imageObj.src = evt.data;\n",
       "            fig.updated_canvas_event();\n",
       "            fig.waiting = false;\n",
       "            return;\n",
       "        }\n",
       "\n",
       "        var msg = JSON.parse(evt.data);\n",
       "        var msg_type = msg['type'];\n",
       "\n",
       "        // Call the  \"handle_{type}\" callback, which takes\n",
       "        // the figure and JSON message as its only arguments.\n",
       "        try {\n",
       "            var callback = fig[\"handle_\" + msg_type];\n",
       "        } catch (e) {\n",
       "            console.log(\"No handler for the '\" + msg_type + \"' message type: \", msg);\n",
       "            return;\n",
       "        }\n",
       "\n",
       "        if (callback) {\n",
       "            try {\n",
       "                // console.log(\"Handling '\" + msg_type + \"' message: \", msg);\n",
       "                callback(fig, msg);\n",
       "            } catch (e) {\n",
       "                console.log(\"Exception inside the 'handler_\" + msg_type + \"' callback:\", e, e.stack, msg);\n",
       "            }\n",
       "        }\n",
       "    };\n",
       "}\n",
       "\n",
       "// from http://stackoverflow.com/questions/1114465/getting-mouse-location-in-canvas\n",
       "mpl.findpos = function(e) {\n",
       "    //this section is from http://www.quirksmode.org/js/events_properties.html\n",
       "    var targ;\n",
       "    if (!e)\n",
       "        e = window.event;\n",
       "    if (e.target)\n",
       "        targ = e.target;\n",
       "    else if (e.srcElement)\n",
       "        targ = e.srcElement;\n",
       "    if (targ.nodeType == 3) // defeat Safari bug\n",
       "        targ = targ.parentNode;\n",
       "\n",
       "    // jQuery normalizes the pageX and pageY\n",
       "    // pageX,Y are the mouse positions relative to the document\n",
       "    // offset() returns the position of the element relative to the document\n",
       "    var x = e.pageX - $(targ).offset().left;\n",
       "    var y = e.pageY - $(targ).offset().top;\n",
       "\n",
       "    return {\"x\": x, \"y\": y};\n",
       "};\n",
       "\n",
       "/*\n",
       " * return a copy of an object with only non-object keys\n",
       " * we need this to avoid circular references\n",
       " * http://stackoverflow.com/a/24161582/3208463\n",
       " */\n",
       "function simpleKeys (original) {\n",
       "  return Object.keys(original).reduce(function (obj, key) {\n",
       "    if (typeof original[key] !== 'object')\n",
       "        obj[key] = original[key]\n",
       "    return obj;\n",
       "  }, {});\n",
       "}\n",
       "\n",
       "mpl.figure.prototype.mouse_event = function(event, name) {\n",
       "    var canvas_pos = mpl.findpos(event)\n",
       "\n",
       "    if (name === 'button_press')\n",
       "    {\n",
       "        this.canvas.focus();\n",
       "        this.canvas_div.focus();\n",
       "    }\n",
       "\n",
       "    var x = canvas_pos.x * mpl.ratio;\n",
       "    var y = canvas_pos.y * mpl.ratio;\n",
       "\n",
       "    this.send_message(name, {x: x, y: y, button: event.button,\n",
       "                             step: event.step,\n",
       "                             guiEvent: simpleKeys(event)});\n",
       "\n",
       "    /* This prevents the web browser from automatically changing to\n",
       "     * the text insertion cursor when the button is pressed.  We want\n",
       "     * to control all of the cursor setting manually through the\n",
       "     * 'cursor' event from matplotlib */\n",
       "    event.preventDefault();\n",
       "    return false;\n",
       "}\n",
       "\n",
       "mpl.figure.prototype._key_event_extra = function(event, name) {\n",
       "    // Handle any extra behaviour associated with a key event\n",
       "}\n",
       "\n",
       "mpl.figure.prototype.key_event = function(event, name) {\n",
       "\n",
       "    // Prevent repeat events\n",
       "    if (name == 'key_press')\n",
       "    {\n",
       "        if (event.which === this._key)\n",
       "            return;\n",
       "        else\n",
       "            this._key = event.which;\n",
       "    }\n",
       "    if (name == 'key_release')\n",
       "        this._key = null;\n",
       "\n",
       "    var value = '';\n",
       "    if (event.ctrlKey && event.which != 17)\n",
       "        value += \"ctrl+\";\n",
       "    if (event.altKey && event.which != 18)\n",
       "        value += \"alt+\";\n",
       "    if (event.shiftKey && event.which != 16)\n",
       "        value += \"shift+\";\n",
       "\n",
       "    value += 'k';\n",
       "    value += event.which.toString();\n",
       "\n",
       "    this._key_event_extra(event, name);\n",
       "\n",
       "    this.send_message(name, {key: value,\n",
       "                             guiEvent: simpleKeys(event)});\n",
       "    return false;\n",
       "}\n",
       "\n",
       "mpl.figure.prototype.toolbar_button_onclick = function(name) {\n",
       "    if (name == 'download') {\n",
       "        this.handle_save(this, null);\n",
       "    } else {\n",
       "        this.send_message(\"toolbar_button\", {name: name});\n",
       "    }\n",
       "};\n",
       "\n",
       "mpl.figure.prototype.toolbar_button_onmouseover = function(tooltip) {\n",
       "    this.message.textContent = tooltip;\n",
       "};\n",
       "mpl.toolbar_items = [[\"Home\", \"Reset original view\", \"fa fa-home icon-home\", \"home\"], [\"Back\", \"Back to  previous view\", \"fa fa-arrow-left icon-arrow-left\", \"back\"], [\"Forward\", \"Forward to next view\", \"fa fa-arrow-right icon-arrow-right\", \"forward\"], [\"\", \"\", \"\", \"\"], [\"Pan\", \"Pan axes with left mouse, zoom with right\", \"fa fa-arrows icon-move\", \"pan\"], [\"Zoom\", \"Zoom to rectangle\", \"fa fa-square-o icon-check-empty\", \"zoom\"], [\"\", \"\", \"\", \"\"], [\"Download\", \"Download plot\", \"fa fa-floppy-o icon-save\", \"download\"]];\n",
       "\n",
       "mpl.extensions = [\"eps\", \"jpeg\", \"pdf\", \"png\", \"ps\", \"raw\", \"svg\", \"tif\"];\n",
       "\n",
       "mpl.default_extension = \"png\";var comm_websocket_adapter = function(comm) {\n",
       "    // Create a \"websocket\"-like object which calls the given IPython comm\n",
       "    // object with the appropriate methods. Currently this is a non binary\n",
       "    // socket, so there is still some room for performance tuning.\n",
       "    var ws = {};\n",
       "\n",
       "    ws.close = function() {\n",
       "        comm.close()\n",
       "    };\n",
       "    ws.send = function(m) {\n",
       "        //console.log('sending', m);\n",
       "        comm.send(m);\n",
       "    };\n",
       "    // Register the callback with on_msg.\n",
       "    comm.on_msg(function(msg) {\n",
       "        //console.log('receiving', msg['content']['data'], msg);\n",
       "        // Pass the mpl event to the overriden (by mpl) onmessage function.\n",
       "        ws.onmessage(msg['content']['data'])\n",
       "    });\n",
       "    return ws;\n",
       "}\n",
       "\n",
       "mpl.mpl_figure_comm = function(comm, msg) {\n",
       "    // This is the function which gets called when the mpl process\n",
       "    // starts-up an IPython Comm through the \"matplotlib\" channel.\n",
       "\n",
       "    var id = msg.content.data.id;\n",
       "    // Get hold of the div created by the display call when the Comm\n",
       "    // socket was opened in Python.\n",
       "    var element = $(\"#\" + id);\n",
       "    var ws_proxy = comm_websocket_adapter(comm)\n",
       "\n",
       "    function ondownload(figure, format) {\n",
       "        window.open(figure.imageObj.src);\n",
       "    }\n",
       "\n",
       "    var fig = new mpl.figure(id, ws_proxy,\n",
       "                           ondownload,\n",
       "                           element.get(0));\n",
       "\n",
       "    // Call onopen now - mpl needs it, as it is assuming we've passed it a real\n",
       "    // web socket which is closed, not our websocket->open comm proxy.\n",
       "    ws_proxy.onopen();\n",
       "\n",
       "    fig.parent_element = element.get(0);\n",
       "    fig.cell_info = mpl.find_output_cell(\"<div id='\" + id + \"'></div>\");\n",
       "    if (!fig.cell_info) {\n",
       "        console.error(\"Failed to find cell for figure\", id, fig);\n",
       "        return;\n",
       "    }\n",
       "\n",
       "    var output_index = fig.cell_info[2]\n",
       "    var cell = fig.cell_info[0];\n",
       "\n",
       "};\n",
       "\n",
       "mpl.figure.prototype.handle_close = function(fig, msg) {\n",
       "    var width = fig.canvas.width/mpl.ratio\n",
       "    fig.root.unbind('remove')\n",
       "\n",
       "    // Update the output cell to use the data from the current canvas.\n",
       "    fig.push_to_output();\n",
       "    var dataURL = fig.canvas.toDataURL();\n",
       "    // Re-enable the keyboard manager in IPython - without this line, in FF,\n",
       "    // the notebook keyboard shortcuts fail.\n",
       "    IPython.keyboard_manager.enable()\n",
       "    $(fig.parent_element).html('<img src=\"' + dataURL + '\" width=\"' + width + '\">');\n",
       "    fig.close_ws(fig, msg);\n",
       "}\n",
       "\n",
       "mpl.figure.prototype.close_ws = function(fig, msg){\n",
       "    fig.send_message('closing', msg);\n",
       "    // fig.ws.close()\n",
       "}\n",
       "\n",
       "mpl.figure.prototype.push_to_output = function(remove_interactive) {\n",
       "    // Turn the data on the canvas into data in the output cell.\n",
       "    var width = this.canvas.width/mpl.ratio\n",
       "    var dataURL = this.canvas.toDataURL();\n",
       "    this.cell_info[1]['text/html'] = '<img src=\"' + dataURL + '\" width=\"' + width + '\">';\n",
       "}\n",
       "\n",
       "mpl.figure.prototype.updated_canvas_event = function() {\n",
       "    // Tell IPython that the notebook contents must change.\n",
       "    IPython.notebook.set_dirty(true);\n",
       "    this.send_message(\"ack\", {});\n",
       "    var fig = this;\n",
       "    // Wait a second, then push the new image to the DOM so\n",
       "    // that it is saved nicely (might be nice to debounce this).\n",
       "    setTimeout(function () { fig.push_to_output() }, 1000);\n",
       "}\n",
       "\n",
       "mpl.figure.prototype._init_toolbar = function() {\n",
       "    var fig = this;\n",
       "\n",
       "    var nav_element = $('<div/>')\n",
       "    nav_element.attr('style', 'width: 100%');\n",
       "    this.root.append(nav_element);\n",
       "\n",
       "    // Define a callback function for later on.\n",
       "    function toolbar_event(event) {\n",
       "        return fig.toolbar_button_onclick(event['data']);\n",
       "    }\n",
       "    function toolbar_mouse_event(event) {\n",
       "        return fig.toolbar_button_onmouseover(event['data']);\n",
       "    }\n",
       "\n",
       "    for(var toolbar_ind in mpl.toolbar_items){\n",
       "        var name = mpl.toolbar_items[toolbar_ind][0];\n",
       "        var tooltip = mpl.toolbar_items[toolbar_ind][1];\n",
       "        var image = mpl.toolbar_items[toolbar_ind][2];\n",
       "        var method_name = mpl.toolbar_items[toolbar_ind][3];\n",
       "\n",
       "        if (!name) { continue; };\n",
       "\n",
       "        var button = $('<button class=\"btn btn-default\" href=\"#\" title=\"' + name + '\"><i class=\"fa ' + image + ' fa-lg\"></i></button>');\n",
       "        button.click(method_name, toolbar_event);\n",
       "        button.mouseover(tooltip, toolbar_mouse_event);\n",
       "        nav_element.append(button);\n",
       "    }\n",
       "\n",
       "    // Add the status bar.\n",
       "    var status_bar = $('<span class=\"mpl-message\" style=\"text-align:right; float: right;\"/>');\n",
       "    nav_element.append(status_bar);\n",
       "    this.message = status_bar[0];\n",
       "\n",
       "    // Add the close button to the window.\n",
       "    var buttongrp = $('<div class=\"btn-group inline pull-right\"></div>');\n",
       "    var button = $('<button class=\"btn btn-mini btn-primary\" href=\"#\" title=\"Stop Interaction\"><i class=\"fa fa-power-off icon-remove icon-large\"></i></button>');\n",
       "    button.click(function (evt) { fig.handle_close(fig, {}); } );\n",
       "    button.mouseover('Stop Interaction', toolbar_mouse_event);\n",
       "    buttongrp.append(button);\n",
       "    var titlebar = this.root.find($('.ui-dialog-titlebar'));\n",
       "    titlebar.prepend(buttongrp);\n",
       "}\n",
       "\n",
       "mpl.figure.prototype._root_extra_style = function(el){\n",
       "    var fig = this\n",
       "    el.on(\"remove\", function(){\n",
       "\tfig.close_ws(fig, {});\n",
       "    });\n",
       "}\n",
       "\n",
       "mpl.figure.prototype._canvas_extra_style = function(el){\n",
       "    // this is important to make the div 'focusable\n",
       "    el.attr('tabindex', 0)\n",
       "    // reach out to IPython and tell the keyboard manager to turn it's self\n",
       "    // off when our div gets focus\n",
       "\n",
       "    // location in version 3\n",
       "    if (IPython.notebook.keyboard_manager) {\n",
       "        IPython.notebook.keyboard_manager.register_events(el);\n",
       "    }\n",
       "    else {\n",
       "        // location in version 2\n",
       "        IPython.keyboard_manager.register_events(el);\n",
       "    }\n",
       "\n",
       "}\n",
       "\n",
       "mpl.figure.prototype._key_event_extra = function(event, name) {\n",
       "    var manager = IPython.notebook.keyboard_manager;\n",
       "    if (!manager)\n",
       "        manager = IPython.keyboard_manager;\n",
       "\n",
       "    // Check for shift+enter\n",
       "    if (event.shiftKey && event.which == 13) {\n",
       "        this.canvas_div.blur();\n",
       "        // select the cell after this one\n",
       "        var index = IPython.notebook.find_cell_index(this.cell_info[0]);\n",
       "        IPython.notebook.select(index + 1);\n",
       "    }\n",
       "}\n",
       "\n",
       "mpl.figure.prototype.handle_save = function(fig, msg) {\n",
       "    fig.ondownload(fig, null);\n",
       "}\n",
       "\n",
       "\n",
       "mpl.find_output_cell = function(html_output) {\n",
       "    // Return the cell and output element which can be found *uniquely* in the notebook.\n",
       "    // Note - this is a bit hacky, but it is done because the \"notebook_saving.Notebook\"\n",
       "    // IPython event is triggered only after the cells have been serialised, which for\n",
       "    // our purposes (turning an active figure into a static one), is too late.\n",
       "    var cells = IPython.notebook.get_cells();\n",
       "    var ncells = cells.length;\n",
       "    for (var i=0; i<ncells; i++) {\n",
       "        var cell = cells[i];\n",
       "        if (cell.cell_type === 'code'){\n",
       "            for (var j=0; j<cell.output_area.outputs.length; j++) {\n",
       "                var data = cell.output_area.outputs[j];\n",
       "                if (data.data) {\n",
       "                    // IPython >= 3 moved mimebundle to data attribute of output\n",
       "                    data = data.data;\n",
       "                }\n",
       "                if (data['text/html'] == html_output) {\n",
       "                    return [cell, data, j];\n",
       "                }\n",
       "            }\n",
       "        }\n",
       "    }\n",
       "}\n",
       "\n",
       "// Register the function which deals with the matplotlib target/channel.\n",
       "// The kernel may be null if the page has been refreshed.\n",
       "if (IPython.notebook.kernel != null) {\n",
       "    IPython.notebook.kernel.comm_manager.register_target('matplotlib', mpl.mpl_figure_comm);\n",
       "}\n"
      ],
      "text/plain": [
       "<IPython.core.display.Javascript object>"
      ]
     },
     "metadata": {},
     "output_type": "display_data"
    },
    {
     "data": {
      "text/html": [
       "<img src=\"data:image/png;base64,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\" width=\"1000\">"
      ],
      "text/plain": [
       "<IPython.core.display.HTML object>"
      ]
     },
     "metadata": {},
     "output_type": "display_data"
    },
    {
     "data": {
      "application/vnd.jupyter.widget-view+json": {
       "model_id": "e72b71468e7149e183d5a6ca64dae656",
       "version_major": 2,
       "version_minor": 0
      },
      "text/html": [
       "<p>Failed to display Jupyter Widget of type <code>interactive</code>.</p>\n",
       "<p>\n",
       "  If you're reading this message in Jupyter Notebook or JupyterLab, it may mean\n",
       "  that the widgets JavaScript is still loading. If this message persists, it\n",
       "  likely means that the widgets JavaScript library is either not installed or\n",
       "  not enabled. See the <a href=\"https://ipywidgets.readthedocs.io/en/stable/user_install.html\">Jupyter\n",
       "  Widgets Documentation</a> for setup instructions.\n",
       "</p>\n",
       "<p>\n",
       "  If you're reading this message in another notebook frontend (for example, a static\n",
       "  rendering on GitHub or <a href=\"https://nbviewer.jupyter.org/\">NBViewer</a>),\n",
       "  it may mean that your frontend doesn't currently support widgets.\n",
       "</p>\n"
      ],
      "text/plain": [
       "interactive(children=(FloatSlider(value=1.0, description='Amp_1', max=5.0, min=0.1), FloatSlider(value=1.0, description='lambda_1', max=5.0), FloatSlider(value=6.283185307179586, description='omega_1', max=12.566370614359172), FloatSlider(value=0.0, description='phi_1', max=6.3, min=-6.3), FloatSlider(value=1.5, description='Amp_2', max=5.0, min=0.1), FloatSlider(value=0.5, description='lambda_2', max=5.0), FloatSlider(value=6.283185307179586, description='omega_2', max=12.566370614359172), FloatSlider(value=0.0, description='phi_2', max=6.3, min=-6.3), Output()), _dom_classes=('widget-interact',))"
      ]
     },
     "metadata": {},
     "output_type": "display_data"
    }
   ],
   "source": [
    "widget = make_widget()\n",
    "widget"
   ]
  },
  {
   "cell_type": "code",
   "execution_count": null,
   "metadata": {},
   "outputs": [],
   "source": []
  }
 ],
 "metadata": {
  "celltoolbar": "Slideshow",
  "kernelspec": {
   "display_name": "Python 3",
   "language": "python",
   "name": "python3"
  },
  "language_info": {
   "codemirror_mode": {
    "name": "ipython",
    "version": 3
   },
   "file_extension": ".py",
   "mimetype": "text/x-python",
   "name": "python",
   "nbconvert_exporter": "python",
   "pygments_lexer": "ipython3",
   "version": "3.6.3"
  },
  "widgets": {
   "application/vnd.jupyter.widget-state+json": {
    "state": {
     "0082df935b7e41f3af1b7473f272bec5": {
      "model_module": "jupyter-js-widgets",
      "model_module_version": "~2.1.4",
      "model_name": "LayoutModel",
      "state": {
       "_model_module_version": "~2.1.4",
       "_view_module_version": "~2.1.4"
      }
     },
     "0333e6dda08b4670a5aa8b273af1f7b9": {
      "model_module": "@jupyter-widgets/controls",
      "model_module_version": "1.0.0",
      "model_name": "VBoxModel",
      "state": {
       "_dom_classes": [
        "widget-interact"
       ],
       "children": [
        "IPY_MODEL_42af0571bdd64c66bfd3c5c1b059beca",
        "IPY_MODEL_2c5b5b4d1c754113b2a88af151a57027",
        "IPY_MODEL_0913e54c41f24fdc877e2cbef27b9f36",
        "IPY_MODEL_4f3831f653f04b71b6a6d8bcd633d079",
        "IPY_MODEL_956e4bcb79ba4f749eeabd3f6c107c81",
        "IPY_MODEL_e4cbff63ca2a403382363ce2fde59745",
        "IPY_MODEL_bbbacd8c0476424d862b56367d2d095c",
        "IPY_MODEL_4f0b1c350c0d4ba8b16a4074e3991164",
        "IPY_MODEL_c193d3c52f3341e996718789df339a38"
       ],
       "layout": "IPY_MODEL_2327f88f61024e2a984549926057c43a"
      }
     },
     "049acad79a564478a68d36ba8acb4765": {
      "model_module": "@jupyter-widgets/controls",
      "model_module_version": "1.0.0",
      "model_name": "SliderStyleModel",
      "state": {
       "description_width": ""
      }
     },
     "0913e54c41f24fdc877e2cbef27b9f36": {
      "model_module": "@jupyter-widgets/controls",
      "model_module_version": "1.0.0",
      "model_name": "FloatSliderModel",
      "state": {
       "description": "omega_1",
       "layout": "IPY_MODEL_2ab93dce0f92409aae513fe5b316f656",
       "max": 12.566370614359172,
       "step": 0.1,
       "style": "IPY_MODEL_5c78285f9d6b4ee1babce1ac363e7e86",
       "value": 6.283185307179586
      }
     },
     "0b21dc30c639447bac6d86c0fc93af9e": {
      "model_module": "jupyter-js-widgets",
      "model_module_version": "~2.1.4",
      "model_name": "LayoutModel",
      "state": {
       "_model_module_version": "~2.1.4",
       "_view_module_version": "~2.1.4"
      }
     },
     "0bfcf6a0ac1b49a7b6f6a0fcd6afeda4": {
      "model_module": "jupyter-js-widgets",
      "model_module_version": "~2.1.4",
      "model_name": "FloatSliderModel",
      "state": {
       "_model_module_version": "~2.1.4",
       "_view_module_version": "~2.1.4",
       "description": "phi_1",
       "layout": "IPY_MODEL_0082df935b7e41f3af1b7473f272bec5",
       "max": 6.3,
       "min": -6.3,
       "step": 0.1
      }
     },
     "0d946b69e883442a916e0af9f80cc751": {
      "model_module": "jupyter-js-widgets",
      "model_module_version": "~2.1.4",
      "model_name": "LayoutModel",
      "state": {
       "_model_module_version": "~2.1.4",
       "_view_module_version": "~2.1.4"
      }
     },
     "155c271e15ea4ed388882a6a8d067cda": {
      "model_module": "jupyter-js-widgets",
      "model_module_version": "~2.1.4",
      "model_name": "OutputModel",
      "state": {
       "_model_module": "jupyter-js-widgets",
       "_model_module_version": "~2.1.4",
       "_view_module": "jupyter-js-widgets",
       "_view_module_version": "~2.1.4",
       "layout": "IPY_MODEL_2593c5e690474fb8b3764e5ec984e827",
       "msg_throttle": 1
      }
     },
     "17ece510f57e43fdb8da33b51cc4f30f": {
      "model_module": "jupyter-js-widgets",
      "model_module_version": "~2.1.4",
      "model_name": "FloatSliderModel",
      "state": {
       "_model_module_version": "~2.1.4",
       "_view_module_version": "~2.1.4",
       "description": "omega_1",
       "layout": "IPY_MODEL_d5db5c8372fc49be81a02b74daa9dfed",
       "max": 12.566370614359172,
       "step": 0.1,
       "value": 6.283185307179586
      }
     },
     "1b02b01e24e64aa787cf344d2ca975d3": {
      "model_module": "jupyter-js-widgets",
      "model_module_version": "~2.1.4",
      "model_name": "LayoutModel",
      "state": {
       "_model_module_version": "~2.1.4",
       "_view_module_version": "~2.1.4"
      }
     },
     "1d5eb88db4e441d0bb806a03ba4f042b": {
      "model_module": "jupyter-js-widgets",
      "model_module_version": "~2.1.4",
      "model_name": "LayoutModel",
      "state": {
       "_model_module_version": "~2.1.4",
       "_view_module_version": "~2.1.4"
      }
     },
     "2327f88f61024e2a984549926057c43a": {
      "model_module": "@jupyter-widgets/base",
      "model_module_version": "1.0.0",
      "model_name": "LayoutModel",
      "state": {}
     },
     "2533a923d05a41f6a595996efcb06c7c": {
      "model_module": "jupyter-js-widgets",
      "model_module_version": "~2.1.4",
      "model_name": "LayoutModel",
      "state": {
       "_model_module_version": "~2.1.4",
       "_view_module_version": "~2.1.4"
      }
     },
     "25430ebf5a1942769749f3aec9170fe2": {
      "model_module": "@jupyter-widgets/controls",
      "model_module_version": "1.0.0",
      "model_name": "SliderStyleModel",
      "state": {
       "description_width": ""
      }
     },
     "2593c5e690474fb8b3764e5ec984e827": {
      "model_module": "jupyter-js-widgets",
      "model_module_version": "~2.1.4",
      "model_name": "LayoutModel",
      "state": {
       "_model_module_version": "~2.1.4",
       "_view_module_version": "~2.1.4"
      }
     },
     "2817445cf1c04266948aab39bbddf7e2": {
      "model_module": "jupyter-js-widgets",
      "model_module_version": "~2.1.4",
      "model_name": "LayoutModel",
      "state": {
       "_model_module_version": "~2.1.4",
       "_view_module_version": "~2.1.4"
      }
     },
     "295533d023d24175874cfd499712e2a1": {
      "model_module": "jupyter-js-widgets",
      "model_module_version": "~2.1.4",
      "model_name": "LayoutModel",
      "state": {
       "_model_module_version": "~2.1.4",
       "_view_module_version": "~2.1.4"
      }
     },
     "2ab93dce0f92409aae513fe5b316f656": {
      "model_module": "@jupyter-widgets/base",
      "model_module_version": "1.0.0",
      "model_name": "LayoutModel",
      "state": {}
     },
     "2c5b5b4d1c754113b2a88af151a57027": {
      "model_module": "@jupyter-widgets/controls",
      "model_module_version": "1.0.0",
      "model_name": "FloatSliderModel",
      "state": {
       "description": "lambda_1",
       "layout": "IPY_MODEL_c6d5e6a962884649a3b20d64badff59f",
       "max": 5,
       "step": 0.1,
       "style": "IPY_MODEL_049acad79a564478a68d36ba8acb4765",
       "value": 1
      }
     },
     "2e536ff3107d4e55946d044ea3b30a2a": {
      "model_module": "jupyter-js-widgets",
      "model_module_version": "~2.1.4",
      "model_name": "FloatSliderModel",
      "state": {
       "_model_module_version": "~2.1.4",
       "_view_module_version": "~2.1.4",
       "description": "omega_2",
       "layout": "IPY_MODEL_cbfe3a71c154416ebc9f3515bb61eb76",
       "max": 12.566370614359172,
       "step": 0.1,
       "value": 6.283185307179586
      }
     },
     "2f6d1aebbd924efca1e1dac7cd9093da": {
      "model_module": "jupyter-js-widgets",
      "model_module_version": "~2.1.4",
      "model_name": "VBoxModel",
      "state": {
       "_dom_classes": [
        "widget-interact"
       ],
       "_model_module_version": "~2.1.4",
       "_view_module_version": "~2.1.4",
       "children": [
        "IPY_MODEL_8c82126dd7f74e54bd8a0d42ad46eb52",
        "IPY_MODEL_dee482da8f1d4af7b4e09d01b42317b4",
        "IPY_MODEL_17ece510f57e43fdb8da33b51cc4f30f",
        "IPY_MODEL_364450e3ac5243648bd9fe121ea454a2",
        "IPY_MODEL_ee5ffdf2632749bd8cd02f0c2ade0da5",
        "IPY_MODEL_54999527c1b045ef95be9da4ab3cece6",
        "IPY_MODEL_9fbb20fa137342ae9bb806bb2702c26c",
        "IPY_MODEL_eb2a2bba715d455dba5c0434eeb20cc7",
        "IPY_MODEL_cd9816bab0544e3f9348dea59a071420"
       ],
       "layout": "IPY_MODEL_6eed08c906274bf482b60fd55b37c3ad"
      }
     },
     "3027d0c0cba14f6daba3fd80d66210d9": {
      "model_module": "@jupyter-widgets/base",
      "model_module_version": "1.0.0",
      "model_name": "LayoutModel",
      "state": {}
     },
     "32487c2a3c9140f5ab4e8864fae3ab1b": {
      "model_module": "jupyter-js-widgets",
      "model_module_version": "~2.1.4",
      "model_name": "LayoutModel",
      "state": {
       "_model_module_version": "~2.1.4",
       "_view_module_version": "~2.1.4"
      }
     },
     "364450e3ac5243648bd9fe121ea454a2": {
      "model_module": "jupyter-js-widgets",
      "model_module_version": "~2.1.4",
      "model_name": "FloatSliderModel",
      "state": {
       "_model_module_version": "~2.1.4",
       "_view_module_version": "~2.1.4",
       "description": "phi_1",
       "layout": "IPY_MODEL_0b21dc30c639447bac6d86c0fc93af9e",
       "max": 6.3,
       "min": -6.3,
       "step": 0.1
      }
     },
     "3ed205dca8e341b1bb6cf6467c45c4c1": {
      "model_module": "jupyter-js-widgets",
      "model_module_version": "~2.1.4",
      "model_name": "LayoutModel",
      "state": {
       "_model_module_version": "~2.1.4",
       "_view_module_version": "~2.1.4"
      }
     },
     "42af0571bdd64c66bfd3c5c1b059beca": {
      "model_module": "@jupyter-widgets/controls",
      "model_module_version": "1.0.0",
      "model_name": "FloatSliderModel",
      "state": {
       "description": "Amp_1",
       "layout": "IPY_MODEL_9275002512fe4e90af5beca5b6e93ba7",
       "max": 5,
       "min": 0.1,
       "step": 0.1,
       "style": "IPY_MODEL_25430ebf5a1942769749f3aec9170fe2",
       "value": 1
      }
     },
     "46fbf0194e674f259f3f5cf4248a266c": {
      "model_module": "@jupyter-widgets/base",
      "model_module_version": "1.0.0",
      "model_name": "LayoutModel",
      "state": {}
     },
     "4708a4386e6d48dc85665ee0139c4d22": {
      "model_module": "jupyter-js-widgets",
      "model_module_version": "~2.1.4",
      "model_name": "FloatSliderModel",
      "state": {
       "_model_module_version": "~2.1.4",
       "_view_module_version": "~2.1.4",
       "description": "Amp_1",
       "layout": "IPY_MODEL_ccf3afd23f3a4d08b86d4d4ba23c1c43",
       "max": 5,
       "min": 0.1,
       "step": 0.1,
       "value": 1
      }
     },
     "4e71b1d9fa554b7cb8bdde0fa3ab3b00": {
      "model_module": "jupyter-js-widgets",
      "model_module_version": "~2.1.4",
      "model_name": "VBoxModel",
      "state": {
       "_dom_classes": [
        "widget-interact"
       ],
       "_model_module_version": "~2.1.4",
       "_view_module_version": "~2.1.4",
       "children": [
        "IPY_MODEL_4708a4386e6d48dc85665ee0139c4d22",
        "IPY_MODEL_5b417b5777f1445e937e82260887e506",
        "IPY_MODEL_5be29ffa2e5047ad8e3417e19d5862f5",
        "IPY_MODEL_7535344df8c845ec8b56537adb1447b3",
        "IPY_MODEL_4f166689fdc24477bb3591268c5be15e",
        "IPY_MODEL_c2e50e792fc64a49b06e6ead704845c2",
        "IPY_MODEL_9915b04ed0ef4cc09587e5aee708afee",
        "IPY_MODEL_87b94afec1a8453fad83be8a7080c114",
        "IPY_MODEL_155c271e15ea4ed388882a6a8d067cda"
       ],
       "layout": "IPY_MODEL_1d5eb88db4e441d0bb806a03ba4f042b"
      }
     },
     "4f0b1c350c0d4ba8b16a4074e3991164": {
      "model_module": "@jupyter-widgets/controls",
      "model_module_version": "1.0.0",
      "model_name": "FloatSliderModel",
      "state": {
       "description": "phi_2",
       "layout": "IPY_MODEL_90b745c9978944389e33117589908a42",
       "max": 6.3,
       "min": -6.3,
       "step": 0.1,
       "style": "IPY_MODEL_9556b1d23b584876bcaeafd3aad709f5"
      }
     },
     "4f166689fdc24477bb3591268c5be15e": {
      "model_module": "jupyter-js-widgets",
      "model_module_version": "~2.1.4",
      "model_name": "FloatSliderModel",
      "state": {
       "_model_module_version": "~2.1.4",
       "_view_module_version": "~2.1.4",
       "description": "Amp_2",
       "layout": "IPY_MODEL_1b02b01e24e64aa787cf344d2ca975d3",
       "max": 5,
       "min": 0.1,
       "step": 0.1,
       "value": 1.5
      }
     },
     "4f3831f653f04b71b6a6d8bcd633d079": {
      "model_module": "@jupyter-widgets/controls",
      "model_module_version": "1.0.0",
      "model_name": "FloatSliderModel",
      "state": {
       "description": "phi_1",
       "layout": "IPY_MODEL_3027d0c0cba14f6daba3fd80d66210d9",
       "max": 6.3,
       "min": -6.3,
       "step": 0.1,
       "style": "IPY_MODEL_c128fb41d69243e5af058854b4f51d06"
      }
     },
     "54999527c1b045ef95be9da4ab3cece6": {
      "model_module": "jupyter-js-widgets",
      "model_module_version": "~2.1.4",
      "model_name": "FloatSliderModel",
      "state": {
       "_model_module_version": "~2.1.4",
       "_view_module_version": "~2.1.4",
       "description": "lambda_2",
       "layout": "IPY_MODEL_85f57be149da4d70a11da663a4c4b94e",
       "max": 5,
       "step": 0.1,
       "value": 0.5
      }
     },
     "5b417b5777f1445e937e82260887e506": {
      "model_module": "jupyter-js-widgets",
      "model_module_version": "~2.1.4",
      "model_name": "FloatSliderModel",
      "state": {
       "_model_module_version": "~2.1.4",
       "_view_module_version": "~2.1.4",
       "description": "lambda_1",
       "layout": "IPY_MODEL_dc7f9f0f62cb47789a7224f8e8d2fe12",
       "max": 5,
       "step": 0.1,
       "value": 1
      }
     },
     "5be29ffa2e5047ad8e3417e19d5862f5": {
      "model_module": "jupyter-js-widgets",
      "model_module_version": "~2.1.4",
      "model_name": "FloatSliderModel",
      "state": {
       "_model_module_version": "~2.1.4",
       "_view_module_version": "~2.1.4",
       "description": "omega_1",
       "layout": "IPY_MODEL_b21c82dca7e14c8091389a04715d8a76",
       "max": 12.566370614359172,
       "step": 0.1,
       "value": 6.283185307179586
      }
     },
     "5c78285f9d6b4ee1babce1ac363e7e86": {
      "model_module": "@jupyter-widgets/controls",
      "model_module_version": "1.0.0",
      "model_name": "SliderStyleModel",
      "state": {
       "description_width": ""
      }
     },
     "5e82047962294ab5a8b76ea66510c5a7": {
      "model_module": "jupyter-js-widgets",
      "model_module_version": "~2.1.4",
      "model_name": "LayoutModel",
      "state": {
       "_model_module_version": "~2.1.4",
       "_view_module_version": "~2.1.4"
      }
     },
     "5e9d28a17f0a4472a3569c55f6208176": {
      "model_module": "jupyter-js-widgets",
      "model_module_version": "~2.1.4",
      "model_name": "LayoutModel",
      "state": {
       "_model_module_version": "~2.1.4",
       "_view_module_version": "~2.1.4"
      }
     },
     "691909eb7b9f40a1befe2111b83a3311": {
      "model_module": "@jupyter-widgets/controls",
      "model_module_version": "1.0.0",
      "model_name": "SliderStyleModel",
      "state": {
       "description_width": ""
      }
     },
     "6eed08c906274bf482b60fd55b37c3ad": {
      "model_module": "jupyter-js-widgets",
      "model_module_version": "~2.1.4",
      "model_name": "LayoutModel",
      "state": {
       "_model_module_version": "~2.1.4",
       "_view_module_version": "~2.1.4"
      }
     },
     "7248580179b4451f84ab6a02c42d150c": {
      "model_module": "jupyter-js-widgets",
      "model_module_version": "~2.1.4",
      "model_name": "LayoutModel",
      "state": {
       "_model_module_version": "~2.1.4",
       "_view_module_version": "~2.1.4"
      }
     },
     "7535344df8c845ec8b56537adb1447b3": {
      "model_module": "jupyter-js-widgets",
      "model_module_version": "~2.1.4",
      "model_name": "FloatSliderModel",
      "state": {
       "_model_module_version": "~2.1.4",
       "_view_module_version": "~2.1.4",
       "description": "phi_1",
       "layout": "IPY_MODEL_7248580179b4451f84ab6a02c42d150c",
       "max": 6.3,
       "min": -6.3,
       "step": 0.1
      }
     },
     "783eb0f42b114234b5105000c9a0e490": {
      "model_module": "@jupyter-widgets/base",
      "model_module_version": "1.0.0",
      "model_name": "LayoutModel",
      "state": {}
     },
     "85f57be149da4d70a11da663a4c4b94e": {
      "model_module": "jupyter-js-widgets",
      "model_module_version": "~2.1.4",
      "model_name": "LayoutModel",
      "state": {
       "_model_module_version": "~2.1.4",
       "_view_module_version": "~2.1.4"
      }
     },
     "86c3b8af4d2f440ead0e8ac1944be176": {
      "model_module": "jupyter-js-widgets",
      "model_module_version": "~2.1.4",
      "model_name": "FloatSliderModel",
      "state": {
       "_model_module_version": "~2.1.4",
       "_view_module_version": "~2.1.4",
       "description": "omega_1",
       "layout": "IPY_MODEL_5e9d28a17f0a4472a3569c55f6208176",
       "max": 12.566370614359172,
       "step": 0.1,
       "value": 6.283185307179586
      }
     },
     "87b94afec1a8453fad83be8a7080c114": {
      "model_module": "jupyter-js-widgets",
      "model_module_version": "~2.1.4",
      "model_name": "FloatSliderModel",
      "state": {
       "_model_module_version": "~2.1.4",
       "_view_module_version": "~2.1.4",
       "description": "phi_2",
       "layout": "IPY_MODEL_3ed205dca8e341b1bb6cf6467c45c4c1",
       "max": 6.3,
       "min": -6.3,
       "step": 0.1
      }
     },
     "88d0a18f0b8f4ed9bc9cde0dc3dc9f6c": {
      "model_module": "jupyter-js-widgets",
      "model_module_version": "~2.1.4",
      "model_name": "LayoutModel",
      "state": {
       "_model_module_version": "~2.1.4",
       "_view_module_version": "~2.1.4"
      }
     },
     "8c82126dd7f74e54bd8a0d42ad46eb52": {
      "model_module": "jupyter-js-widgets",
      "model_module_version": "~2.1.4",
      "model_name": "FloatSliderModel",
      "state": {
       "_model_module_version": "~2.1.4",
       "_view_module_version": "~2.1.4",
       "description": "Amp_1",
       "layout": "IPY_MODEL_c1b1f0a766554543abc5d9c928edd6e7",
       "max": 5,
       "min": 0.1,
       "step": 0.1,
       "value": 1
      }
     },
     "90b745c9978944389e33117589908a42": {
      "model_module": "@jupyter-widgets/base",
      "model_module_version": "1.0.0",
      "model_name": "LayoutModel",
      "state": {}
     },
     "9275002512fe4e90af5beca5b6e93ba7": {
      "model_module": "@jupyter-widgets/base",
      "model_module_version": "1.0.0",
      "model_name": "LayoutModel",
      "state": {}
     },
     "9556b1d23b584876bcaeafd3aad709f5": {
      "model_module": "@jupyter-widgets/controls",
      "model_module_version": "1.0.0",
      "model_name": "SliderStyleModel",
      "state": {
       "description_width": ""
      }
     },
     "956e4bcb79ba4f749eeabd3f6c107c81": {
      "model_module": "@jupyter-widgets/controls",
      "model_module_version": "1.0.0",
      "model_name": "FloatSliderModel",
      "state": {
       "description": "Amp_2",
       "layout": "IPY_MODEL_f31046146c6b42ef94fb44b2b1b1ec8b",
       "max": 5,
       "min": 0.1,
       "step": 0.1,
       "style": "IPY_MODEL_f185aa9cd3dc4ef0ac3148371e6e2a45",
       "value": 1.5
      }
     },
     "9915b04ed0ef4cc09587e5aee708afee": {
      "model_module": "jupyter-js-widgets",
      "model_module_version": "~2.1.4",
      "model_name": "FloatSliderModel",
      "state": {
       "_model_module_version": "~2.1.4",
       "_view_module_version": "~2.1.4",
       "description": "omega_2",
       "layout": "IPY_MODEL_5e82047962294ab5a8b76ea66510c5a7",
       "max": 12.566370614359172,
       "step": 0.1,
       "value": 6.283185307179586
      }
     },
     "9bd9a439ea5140d498028081bbfe0ca6": {
      "model_module": "jupyter-js-widgets",
      "model_module_version": "~2.1.4",
      "model_name": "LayoutModel",
      "state": {
       "_model_module_version": "~2.1.4",
       "_view_module_version": "~2.1.4"
      }
     },
     "9e366111574446e6bb6fdcbd897b505e": {
      "model_module": "jupyter-js-widgets",
      "model_module_version": "~2.1.4",
      "model_name": "FloatSliderModel",
      "state": {
       "_model_module_version": "~2.1.4",
       "_view_module_version": "~2.1.4",
       "description": "Amp_1",
       "layout": "IPY_MODEL_f27477ff092c4e878ccc5b02133a0745",
       "max": 5,
       "min": 0.1,
       "step": 0.1,
       "value": 1
      }
     },
     "9fa1be8026b04e028d823145d087e881": {
      "model_module": "jupyter-js-widgets",
      "model_module_version": "~2.1.4",
      "model_name": "LayoutModel",
      "state": {
       "_model_module_version": "~2.1.4",
       "_view_module_version": "~2.1.4"
      }
     },
     "9fbb20fa137342ae9bb806bb2702c26c": {
      "model_module": "jupyter-js-widgets",
      "model_module_version": "~2.1.4",
      "model_name": "FloatSliderModel",
      "state": {
       "_model_module_version": "~2.1.4",
       "_view_module_version": "~2.1.4",
       "description": "omega_2",
       "layout": "IPY_MODEL_c1adf63aea844d7fbae86b6713fd65a3",
       "max": 12.566370614359172,
       "step": 0.1,
       "value": 6.283185307179586
      }
     },
     "a1359428838442f99613c7b8b79c275b": {
      "model_module": "jupyter-js-widgets",
      "model_module_version": "~2.1.4",
      "model_name": "FloatSliderModel",
      "state": {
       "_model_module_version": "~2.1.4",
       "_view_module_version": "~2.1.4",
       "description": "lambda_1",
       "layout": "IPY_MODEL_9fa1be8026b04e028d823145d087e881",
       "max": 5,
       "step": 0.1,
       "value": 1
      }
     },
     "a7447c27b74e47acb73b8d5092c41c3c": {
      "model_module": "jupyter-js-widgets",
      "model_module_version": "~2.1.4",
      "model_name": "LayoutModel",
      "state": {
       "_model_module_version": "~2.1.4",
       "_view_module_version": "~2.1.4"
      }
     },
     "b21c82dca7e14c8091389a04715d8a76": {
      "model_module": "jupyter-js-widgets",
      "model_module_version": "~2.1.4",
      "model_name": "LayoutModel",
      "state": {
       "_model_module_version": "~2.1.4",
       "_view_module_version": "~2.1.4"
      }
     },
     "b2f433cfcf294d8f8b1fa6791b9c67fd": {
      "model_module": "jupyter-js-widgets",
      "model_module_version": "~2.1.4",
      "model_name": "VBoxModel",
      "state": {
       "_dom_classes": [
        "widget-interact"
       ],
       "_model_module_version": "~2.1.4",
       "_view_module_version": "~2.1.4",
       "children": [
        "IPY_MODEL_9e366111574446e6bb6fdcbd897b505e",
        "IPY_MODEL_a1359428838442f99613c7b8b79c275b",
        "IPY_MODEL_86c3b8af4d2f440ead0e8ac1944be176",
        "IPY_MODEL_0bfcf6a0ac1b49a7b6f6a0fcd6afeda4",
        "IPY_MODEL_c12a6435c3644ed981e54d28f81f4d19",
        "IPY_MODEL_e8222870e1b54a35abfe7ef335923460",
        "IPY_MODEL_2e536ff3107d4e55946d044ea3b30a2a",
        "IPY_MODEL_f9f5d2f0ff404ed3b3d7ca3227bf5b33",
        "IPY_MODEL_bc34bbb30e94403bb87f16b7495cadaa"
       ],
       "layout": "IPY_MODEL_0d946b69e883442a916e0af9f80cc751"
      }
     },
     "bbbacd8c0476424d862b56367d2d095c": {
      "model_module": "@jupyter-widgets/controls",
      "model_module_version": "1.0.0",
      "model_name": "FloatSliderModel",
      "state": {
       "description": "omega_2",
       "layout": "IPY_MODEL_fb9b3483202c4a72817d0e6630b6d895",
       "max": 12.566370614359172,
       "step": 0.1,
       "style": "IPY_MODEL_d7cc8a15782f413c8f09ee83215a3dbb",
       "value": 6.283185307179586
      }
     },
     "bc34bbb30e94403bb87f16b7495cadaa": {
      "model_module": "jupyter-js-widgets",
      "model_module_version": "~2.1.4",
      "model_name": "OutputModel",
      "state": {
       "_model_module": "jupyter-js-widgets",
       "_model_module_version": "~2.1.4",
       "_view_module": "jupyter-js-widgets",
       "_view_module_version": "~2.1.4",
       "layout": "IPY_MODEL_c4dcce06b6464f6fb5efeaabb166ea1c",
       "msg_throttle": 1
      }
     },
     "bfaebaaaf724466390968e2ed349b445": {
      "model_module": "jupyter-js-widgets",
      "model_module_version": "~2.1.4",
      "model_name": "LayoutModel",
      "state": {
       "_model_module_version": "~2.1.4",
       "_view_module_version": "~2.1.4"
      }
     },
     "c128fb41d69243e5af058854b4f51d06": {
      "model_module": "@jupyter-widgets/controls",
      "model_module_version": "1.0.0",
      "model_name": "SliderStyleModel",
      "state": {
       "description_width": ""
      }
     },
     "c12a6435c3644ed981e54d28f81f4d19": {
      "model_module": "jupyter-js-widgets",
      "model_module_version": "~2.1.4",
      "model_name": "FloatSliderModel",
      "state": {
       "_model_module_version": "~2.1.4",
       "_view_module_version": "~2.1.4",
       "description": "Amp_2",
       "layout": "IPY_MODEL_295533d023d24175874cfd499712e2a1",
       "max": 5,
       "min": 0.1,
       "step": 0.1,
       "value": 1.5
      }
     },
     "c193d3c52f3341e996718789df339a38": {
      "model_module": "@jupyter-widgets/output",
      "model_module_version": "1.0.0",
      "model_name": "OutputModel",
      "state": {
       "layout": "IPY_MODEL_783eb0f42b114234b5105000c9a0e490"
      }
     },
     "c1adf63aea844d7fbae86b6713fd65a3": {
      "model_module": "jupyter-js-widgets",
      "model_module_version": "~2.1.4",
      "model_name": "LayoutModel",
      "state": {
       "_model_module_version": "~2.1.4",
       "_view_module_version": "~2.1.4"
      }
     },
     "c1b1f0a766554543abc5d9c928edd6e7": {
      "model_module": "jupyter-js-widgets",
      "model_module_version": "~2.1.4",
      "model_name": "LayoutModel",
      "state": {
       "_model_module_version": "~2.1.4",
       "_view_module_version": "~2.1.4"
      }
     },
     "c2e50e792fc64a49b06e6ead704845c2": {
      "model_module": "jupyter-js-widgets",
      "model_module_version": "~2.1.4",
      "model_name": "FloatSliderModel",
      "state": {
       "_model_module_version": "~2.1.4",
       "_view_module_version": "~2.1.4",
       "description": "lambda_2",
       "layout": "IPY_MODEL_bfaebaaaf724466390968e2ed349b445",
       "max": 5,
       "step": 0.1,
       "value": 0.5
      }
     },
     "c4dcce06b6464f6fb5efeaabb166ea1c": {
      "model_module": "jupyter-js-widgets",
      "model_module_version": "~2.1.4",
      "model_name": "LayoutModel",
      "state": {
       "_model_module_version": "~2.1.4",
       "_view_module_version": "~2.1.4"
      }
     },
     "c6d5e6a962884649a3b20d64badff59f": {
      "model_module": "@jupyter-widgets/base",
      "model_module_version": "1.0.0",
      "model_name": "LayoutModel",
      "state": {}
     },
     "cbfe3a71c154416ebc9f3515bb61eb76": {
      "model_module": "jupyter-js-widgets",
      "model_module_version": "~2.1.4",
      "model_name": "LayoutModel",
      "state": {
       "_model_module_version": "~2.1.4",
       "_view_module_version": "~2.1.4"
      }
     },
     "ccf3afd23f3a4d08b86d4d4ba23c1c43": {
      "model_module": "jupyter-js-widgets",
      "model_module_version": "~2.1.4",
      "model_name": "LayoutModel",
      "state": {
       "_model_module_version": "~2.1.4",
       "_view_module_version": "~2.1.4"
      }
     },
     "cd9816bab0544e3f9348dea59a071420": {
      "model_module": "jupyter-js-widgets",
      "model_module_version": "~2.1.4",
      "model_name": "OutputModel",
      "state": {
       "_model_module": "jupyter-js-widgets",
       "_model_module_version": "~2.1.4",
       "_view_module": "jupyter-js-widgets",
       "_view_module_version": "~2.1.4",
       "layout": "IPY_MODEL_a7447c27b74e47acb73b8d5092c41c3c",
       "msg_throttle": 1
      }
     },
     "d5db5c8372fc49be81a02b74daa9dfed": {
      "model_module": "jupyter-js-widgets",
      "model_module_version": "~2.1.4",
      "model_name": "LayoutModel",
      "state": {
       "_model_module_version": "~2.1.4",
       "_view_module_version": "~2.1.4"
      }
     },
     "d7cc8a15782f413c8f09ee83215a3dbb": {
      "model_module": "@jupyter-widgets/controls",
      "model_module_version": "1.0.0",
      "model_name": "SliderStyleModel",
      "state": {
       "description_width": ""
      }
     },
     "dc7f9f0f62cb47789a7224f8e8d2fe12": {
      "model_module": "jupyter-js-widgets",
      "model_module_version": "~2.1.4",
      "model_name": "LayoutModel",
      "state": {
       "_model_module_version": "~2.1.4",
       "_view_module_version": "~2.1.4"
      }
     },
     "dee482da8f1d4af7b4e09d01b42317b4": {
      "model_module": "jupyter-js-widgets",
      "model_module_version": "~2.1.4",
      "model_name": "FloatSliderModel",
      "state": {
       "_model_module_version": "~2.1.4",
       "_view_module_version": "~2.1.4",
       "description": "lambda_1",
       "layout": "IPY_MODEL_2817445cf1c04266948aab39bbddf7e2",
       "max": 5,
       "step": 0.1,
       "value": 1
      }
     },
     "e4cbff63ca2a403382363ce2fde59745": {
      "model_module": "@jupyter-widgets/controls",
      "model_module_version": "1.0.0",
      "model_name": "FloatSliderModel",
      "state": {
       "description": "lambda_2",
       "layout": "IPY_MODEL_46fbf0194e674f259f3f5cf4248a266c",
       "max": 5,
       "step": 0.1,
       "style": "IPY_MODEL_691909eb7b9f40a1befe2111b83a3311",
       "value": 0.5
      }
     },
     "e8222870e1b54a35abfe7ef335923460": {
      "model_module": "jupyter-js-widgets",
      "model_module_version": "~2.1.4",
      "model_name": "FloatSliderModel",
      "state": {
       "_model_module_version": "~2.1.4",
       "_view_module_version": "~2.1.4",
       "description": "lambda_2",
       "layout": "IPY_MODEL_88d0a18f0b8f4ed9bc9cde0dc3dc9f6c",
       "max": 5,
       "step": 0.1,
       "value": 0.5
      }
     },
     "eb2a2bba715d455dba5c0434eeb20cc7": {
      "model_module": "jupyter-js-widgets",
      "model_module_version": "~2.1.4",
      "model_name": "FloatSliderModel",
      "state": {
       "_model_module_version": "~2.1.4",
       "_view_module_version": "~2.1.4",
       "description": "phi_2",
       "layout": "IPY_MODEL_32487c2a3c9140f5ab4e8864fae3ab1b",
       "max": 6.3,
       "min": -6.3,
       "step": 0.1
      }
     },
     "ee5ffdf2632749bd8cd02f0c2ade0da5": {
      "model_module": "jupyter-js-widgets",
      "model_module_version": "~2.1.4",
      "model_name": "FloatSliderModel",
      "state": {
       "_model_module_version": "~2.1.4",
       "_view_module_version": "~2.1.4",
       "description": "Amp_2",
       "layout": "IPY_MODEL_2533a923d05a41f6a595996efcb06c7c",
       "max": 5,
       "min": 0.1,
       "step": 0.1,
       "value": 4
      }
     },
     "f185aa9cd3dc4ef0ac3148371e6e2a45": {
      "model_module": "@jupyter-widgets/controls",
      "model_module_version": "1.0.0",
      "model_name": "SliderStyleModel",
      "state": {
       "description_width": ""
      }
     },
     "f27477ff092c4e878ccc5b02133a0745": {
      "model_module": "jupyter-js-widgets",
      "model_module_version": "~2.1.4",
      "model_name": "LayoutModel",
      "state": {
       "_model_module_version": "~2.1.4",
       "_view_module_version": "~2.1.4"
      }
     },
     "f31046146c6b42ef94fb44b2b1b1ec8b": {
      "model_module": "@jupyter-widgets/base",
      "model_module_version": "1.0.0",
      "model_name": "LayoutModel",
      "state": {}
     },
     "f9f5d2f0ff404ed3b3d7ca3227bf5b33": {
      "model_module": "jupyter-js-widgets",
      "model_module_version": "~2.1.4",
      "model_name": "FloatSliderModel",
      "state": {
       "_model_module_version": "~2.1.4",
       "_view_module_version": "~2.1.4",
       "description": "phi_2",
       "layout": "IPY_MODEL_9bd9a439ea5140d498028081bbfe0ca6",
       "max": 6.3,
       "min": -6.3,
       "step": 0.1
      }
     },
     "fb9b3483202c4a72817d0e6630b6d895": {
      "model_module": "@jupyter-widgets/base",
      "model_module_version": "1.0.0",
      "model_name": "LayoutModel",
      "state": {}
     }
    },
    "version_major": 2,
    "version_minor": 0
   }
  }
 },
 "nbformat": 4,
 "nbformat_minor": 2
}
