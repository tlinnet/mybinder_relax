{
 "cells": [
  {
   "cell_type": "markdown",
   "metadata": {
    "slideshow": {
     "slide_type": "slide"
    }
   },
   "source": [
    "# Interactive plotting with ipywidgets\n",
    "\n",
    "When **this notebook is opened**, then select in the menu, Kernel -> Restart & Run all.<br>\n",
    "This is to refresh the widgets.\n",
    "\n",
    "* [This noteboook is available at github.com/tlinnet/mybinder_relax](https://github.com/tlinnet/mybinder_relax/blob/master/plot_sin2.ipynb)\n",
    "\n",
    "* [The widgets can be seen at mybinder.org by clicking here](https://mybinder.org/v2/gh/tlinnet/mybinder_relax/master?filepath=plot_sin2.ipynb)\n",
    "\n",
    "This is an illustration of a [damped sine wave](https://en.wikipedia.org/wiki/Damped_sine_wave)."
   ]
  },
  {
   "cell_type": "markdown",
   "metadata": {
    "slideshow": {
     "slide_type": "skip"
    }
   },
   "source": [
    "# Table of contents\n",
    "\n",
    "* [import of code](#importcode)\n",
    "* [Functions](#func)\n",
    "* [Damped sine wave widget](#sin_widget)"
   ]
  },
  {
   "cell_type": "markdown",
   "metadata": {
    "slideshow": {
     "slide_type": "slide"
    }
   },
   "source": [
    "# Import <a name=\"importcode\"></a>"
   ]
  },
  {
   "cell_type": "code",
   "execution_count": 2,
   "metadata": {
    "slideshow": {
     "slide_type": "-"
    }
   },
   "outputs": [],
   "source": [
    "# Import python packages\n",
    "import numpy as np\n",
    "# Set backend. This must be done before importing.\n",
    "%matplotlib notebook\n",
    "import matplotlib.pylab as plt\n",
    "\n",
    "# Widgets\n",
    "import ipywidgets as w"
   ]
  },
  {
   "cell_type": "markdown",
   "metadata": {
    "slideshow": {
     "slide_type": "slide"
    }
   },
   "source": [
    "# Functions <a name=\"func\"></a>\n",
    "$$y(t) = A \\cdot e^{-\\lambda t} \\cdot \\cos{(\\omega t + \\phi)} $$"
   ]
  },
  {
   "cell_type": "code",
   "execution_count": 3,
   "metadata": {
    "slideshow": {
     "slide_type": "-"
    }
   },
   "outputs": [],
   "source": [
    "def sin_calc(xt=None, A=None, l=None, o=None, p=None):\n",
    "    \"\"\"\n",
    "    @keyword xt:        The array of time points.\n",
    "    @keyword A:         The initial amplitude of the envelope.\n",
    "    @keyword l:         l=lambda, the decay constant, in the reciprocal of the time units of the X axis.\n",
    "    @keyword o:         o=omega, the angular frequency.\n",
    "    @keyword p:         p=phi, the phase angle at some arbitrary point.\n",
    "    \"\"\"\n",
    "    # Calculate y\n",
    "    y = A*np.exp(-l*xt)*np.cos(o*xt+p)\n",
    "    return y"
   ]
  },
  {
   "cell_type": "code",
   "execution_count": 74,
   "metadata": {
    "slideshow": {
     "slide_type": "slide"
    }
   },
   "outputs": [],
   "source": [
    "def sin_plot(fig=None, ax=None, \n",
    "                Amp_1=1., lambda_1=1., omega_1=2*np.pi, phi_1=0,\n",
    "                Amp_2=1.5, lambda_2=0.5, omega_2=2*np.pi, phi_2=0\n",
    "            ):\n",
    "    \"\"\"\n",
    "    @keyword fig:       The matplotlib figure.\n",
    "    @keyword ax:        The matplotlib axis to plot on.\n",
    "    @keyword Amp:       The initial amplitude of the envelope.\n",
    "    @keyword lambd:     lambda, the decay constant, in the reciprocal of the time units of the X axis.\n",
    "    @keyword omega:     omega, the angular frequency.\n",
    "    @keyword phi:       phi, the phase angle at some arbitrary point.\n",
    "    \"\"\"\n",
    "    # Make array of time points\n",
    "    xt = np.linspace(0, 5, num=1000)\n",
    "\n",
    "    # Gety values\n",
    "    y_1 = sin_calc(xt=xt, A=Amp_1, l=lambda_1, o=omega_1, p=phi_1)\n",
    "    y_2 = sin_calc(xt=xt, A=Amp_2, l=lambda_2, o=omega_2, p=phi_2)\n",
    "    \n",
    "    # Make label\n",
    "    label_1 = \"A=%.1f \\n$\\lambda$=%.1f \\n$\\omega$=%.1f \\n$\\phi$=%.1f\"%(Amp_1, lambda_1, omega_1, phi_1)\n",
    "    label_2 = \"A=%.1f \\n$\\lambda$=%.1f \\n$\\omega$=%.1f \\n$\\phi$=%.1f\"%(Amp_2, lambda_2, omega_2, phi_2)\n",
    "\n",
    "    # First clear axes\n",
    "    ax.clear()\n",
    "    \n",
    "    # Plot\n",
    "    ax.plot(xt, y_1, label=label_1)\n",
    "    ax.plot(xt, y_2, label=label_2)\n",
    "    # Set labels\n",
    "    ax.set_xlabel(\"Amplitude\")\n",
    "    ax.set_ylabel(\"Time\")\n",
    "\n",
    "    # Set axis limits\n",
    "    p_ylim_up = ax.get_ylim()[-1]\n",
    "    # Round up to nearest 2\n",
    "    p_ylim_up = p_ylim_up + (- p_ylim_up % 2 )\n",
    "    ax.set_ylim(-p_ylim_up, p_ylim_up)\n",
    "    # x_lim does not change\n",
    "    ax.set_xlim(xt[0], xt[-1])\n",
    "    ax.legend(loc='best', fontsize=6)\n",
    "\n",
    "    return fig"
   ]
  },
  {
   "cell_type": "markdown",
   "metadata": {
    "slideshow": {
     "slide_type": "slide"
    }
   },
   "source": [
    "# Damped sine wave <a name=\"sin_widget\"></a>"
   ]
  },
  {
   "cell_type": "code",
   "execution_count": 75,
   "metadata": {
    "slideshow": {
     "slide_type": "-"
    }
   },
   "outputs": [],
   "source": [
    "def make_widget_2():\n",
    "    # Create figure\n",
    "    fig, ax = plt.subplots(1, figsize=(10, 4))\n",
    "    # Create for first graph\n",
    "    A1 = w.FloatSlider(value=1.0, description='A 1', max=5.0, min=0.1)\n",
    "    l1 = w.FloatSlider(value=1.0, description=r'\\(\\lambda\\) 1', max=5.0)\n",
    "    o1 = w.FloatSlider(value=2*np.pi, description=r'\\(\\omega\\) 1', max=4*np.pi)\n",
    "    p1 = w.FloatSlider(value=0.0, description=r'\\(\\phi\\) 1', max=round(2*np.pi, 1), min=-round(2*np.pi, 1))\n",
    "    # Create for second graph\n",
    "    Amp_2 = w.FloatSlider(value=1.5, description='A 2', max=5.0, min=0.1)\n",
    "    l2 = w.FloatSlider(value=0.5, description=r'\\(\\lambda\\) 2', max=5.0)\n",
    "    o2 = w.FloatSlider(value=2*np.pi, description=r'\\(\\omega\\) 2', max=4*np.pi)\n",
    "    p2 = w.FloatSlider(value=0.0, description=r'\\(\\phi\\) 2', max=round(2*np.pi, 1), min=-round(2*np.pi, 1))\n",
    "    # Put sliders under each other\n",
    "    sliders_1 = w.VBox([A1, l1, o1, p1])\n",
    "    sliders_2 = w.VBox([Amp_2, l2, o2, p2])\n",
    "    # Put next to each other\n",
    "    ui = w.HBox([sliders_1, sliders_2])\n",
    "    # Match input variables with sliders\n",
    "    d = {'fig': w.fixed(fig), 'ax': w.fixed(ax),\n",
    "         'Amp_1': A1, 'lambda_1': l1,  'omega_1': o1, 'phi_1': p1, \n",
    "         'Amp_2': Amp_2, 'lambda_2': l2, 'omega_2': o2, 'phi_2': p2, }\n",
    "    # Get the output figure\n",
    "    out = w.interactive_output(sin_plot, d)\n",
    "    # Make new widget box\n",
    "    widget = w.VBox([ui, out])\n",
    "    return widget"
   ]
  },
  {
   "cell_type": "code",
   "execution_count": 76,
   "metadata": {
    "slideshow": {
     "slide_type": "slide"
    }
   },
   "outputs": [
    {
     "data": {
      "application/javascript": [
       "/* Put everything inside the global mpl namespace */\n",
       "window.mpl = {};\n",
       "\n",
       "\n",
       "mpl.get_websocket_type = function() {\n",
       "    if (typeof(WebSocket) !== 'undefined') {\n",
       "        return WebSocket;\n",
       "    } else if (typeof(MozWebSocket) !== 'undefined') {\n",
       "        return MozWebSocket;\n",
       "    } else {\n",
       "        alert('Your browser does not have WebSocket support.' +\n",
       "              'Please try Chrome, Safari or Firefox ≥ 6. ' +\n",
       "              'Firefox 4 and 5 are also supported but you ' +\n",
       "              'have to enable WebSockets in about:config.');\n",
       "    };\n",
       "}\n",
       "\n",
       "mpl.figure = function(figure_id, websocket, ondownload, parent_element) {\n",
       "    this.id = figure_id;\n",
       "\n",
       "    this.ws = websocket;\n",
       "\n",
       "    this.supports_binary = (this.ws.binaryType != undefined);\n",
       "\n",
       "    if (!this.supports_binary) {\n",
       "        var warnings = document.getElementById(\"mpl-warnings\");\n",
       "        if (warnings) {\n",
       "            warnings.style.display = 'block';\n",
       "            warnings.textContent = (\n",
       "                \"This browser does not support binary websocket messages. \" +\n",
       "                    \"Performance may be slow.\");\n",
       "        }\n",
       "    }\n",
       "\n",
       "    this.imageObj = new Image();\n",
       "\n",
       "    this.context = undefined;\n",
       "    this.message = undefined;\n",
       "    this.canvas = undefined;\n",
       "    this.rubberband_canvas = undefined;\n",
       "    this.rubberband_context = undefined;\n",
       "    this.format_dropdown = undefined;\n",
       "\n",
       "    this.image_mode = 'full';\n",
       "\n",
       "    this.root = $('<div/>');\n",
       "    this._root_extra_style(this.root)\n",
       "    this.root.attr('style', 'display: inline-block');\n",
       "\n",
       "    $(parent_element).append(this.root);\n",
       "\n",
       "    this._init_header(this);\n",
       "    this._init_canvas(this);\n",
       "    this._init_toolbar(this);\n",
       "\n",
       "    var fig = this;\n",
       "\n",
       "    this.waiting = false;\n",
       "\n",
       "    this.ws.onopen =  function () {\n",
       "            fig.send_message(\"supports_binary\", {value: fig.supports_binary});\n",
       "            fig.send_message(\"send_image_mode\", {});\n",
       "            if (mpl.ratio != 1) {\n",
       "                fig.send_message(\"set_dpi_ratio\", {'dpi_ratio': mpl.ratio});\n",
       "            }\n",
       "            fig.send_message(\"refresh\", {});\n",
       "        }\n",
       "\n",
       "    this.imageObj.onload = function() {\n",
       "            if (fig.image_mode == 'full') {\n",
       "                // Full images could contain transparency (where diff images\n",
       "                // almost always do), so we need to clear the canvas so that\n",
       "                // there is no ghosting.\n",
       "                fig.context.clearRect(0, 0, fig.canvas.width, fig.canvas.height);\n",
       "            }\n",
       "            fig.context.drawImage(fig.imageObj, 0, 0);\n",
       "        };\n",
       "\n",
       "    this.imageObj.onunload = function() {\n",
       "        this.ws.close();\n",
       "    }\n",
       "\n",
       "    this.ws.onmessage = this._make_on_message_function(this);\n",
       "\n",
       "    this.ondownload = ondownload;\n",
       "}\n",
       "\n",
       "mpl.figure.prototype._init_header = function() {\n",
       "    var titlebar = $(\n",
       "        '<div class=\"ui-dialog-titlebar ui-widget-header ui-corner-all ' +\n",
       "        'ui-helper-clearfix\"/>');\n",
       "    var titletext = $(\n",
       "        '<div class=\"ui-dialog-title\" style=\"width: 100%; ' +\n",
       "        'text-align: center; padding: 3px;\"/>');\n",
       "    titlebar.append(titletext)\n",
       "    this.root.append(titlebar);\n",
       "    this.header = titletext[0];\n",
       "}\n",
       "\n",
       "\n",
       "\n",
       "mpl.figure.prototype._canvas_extra_style = function(canvas_div) {\n",
       "\n",
       "}\n",
       "\n",
       "\n",
       "mpl.figure.prototype._root_extra_style = function(canvas_div) {\n",
       "\n",
       "}\n",
       "\n",
       "mpl.figure.prototype._init_canvas = function() {\n",
       "    var fig = this;\n",
       "\n",
       "    var canvas_div = $('<div/>');\n",
       "\n",
       "    canvas_div.attr('style', 'position: relative; clear: both; outline: 0');\n",
       "\n",
       "    function canvas_keyboard_event(event) {\n",
       "        return fig.key_event(event, event['data']);\n",
       "    }\n",
       "\n",
       "    canvas_div.keydown('key_press', canvas_keyboard_event);\n",
       "    canvas_div.keyup('key_release', canvas_keyboard_event);\n",
       "    this.canvas_div = canvas_div\n",
       "    this._canvas_extra_style(canvas_div)\n",
       "    this.root.append(canvas_div);\n",
       "\n",
       "    var canvas = $('<canvas/>');\n",
       "    canvas.addClass('mpl-canvas');\n",
       "    canvas.attr('style', \"left: 0; top: 0; z-index: 0; outline: 0\")\n",
       "\n",
       "    this.canvas = canvas[0];\n",
       "    this.context = canvas[0].getContext(\"2d\");\n",
       "\n",
       "    var backingStore = this.context.backingStorePixelRatio ||\n",
       "\tthis.context.webkitBackingStorePixelRatio ||\n",
       "\tthis.context.mozBackingStorePixelRatio ||\n",
       "\tthis.context.msBackingStorePixelRatio ||\n",
       "\tthis.context.oBackingStorePixelRatio ||\n",
       "\tthis.context.backingStorePixelRatio || 1;\n",
       "\n",
       "    mpl.ratio = (window.devicePixelRatio || 1) / backingStore;\n",
       "\n",
       "    var rubberband = $('<canvas/>');\n",
       "    rubberband.attr('style', \"position: absolute; left: 0; top: 0; z-index: 1;\")\n",
       "\n",
       "    var pass_mouse_events = true;\n",
       "\n",
       "    canvas_div.resizable({\n",
       "        start: function(event, ui) {\n",
       "            pass_mouse_events = false;\n",
       "        },\n",
       "        resize: function(event, ui) {\n",
       "            fig.request_resize(ui.size.width, ui.size.height);\n",
       "        },\n",
       "        stop: function(event, ui) {\n",
       "            pass_mouse_events = true;\n",
       "            fig.request_resize(ui.size.width, ui.size.height);\n",
       "        },\n",
       "    });\n",
       "\n",
       "    function mouse_event_fn(event) {\n",
       "        if (pass_mouse_events)\n",
       "            return fig.mouse_event(event, event['data']);\n",
       "    }\n",
       "\n",
       "    rubberband.mousedown('button_press', mouse_event_fn);\n",
       "    rubberband.mouseup('button_release', mouse_event_fn);\n",
       "    // Throttle sequential mouse events to 1 every 20ms.\n",
       "    rubberband.mousemove('motion_notify', mouse_event_fn);\n",
       "\n",
       "    rubberband.mouseenter('figure_enter', mouse_event_fn);\n",
       "    rubberband.mouseleave('figure_leave', mouse_event_fn);\n",
       "\n",
       "    canvas_div.on(\"wheel\", function (event) {\n",
       "        event = event.originalEvent;\n",
       "        event['data'] = 'scroll'\n",
       "        if (event.deltaY < 0) {\n",
       "            event.step = 1;\n",
       "        } else {\n",
       "            event.step = -1;\n",
       "        }\n",
       "        mouse_event_fn(event);\n",
       "    });\n",
       "\n",
       "    canvas_div.append(canvas);\n",
       "    canvas_div.append(rubberband);\n",
       "\n",
       "    this.rubberband = rubberband;\n",
       "    this.rubberband_canvas = rubberband[0];\n",
       "    this.rubberband_context = rubberband[0].getContext(\"2d\");\n",
       "    this.rubberband_context.strokeStyle = \"#000000\";\n",
       "\n",
       "    this._resize_canvas = function(width, height) {\n",
       "        // Keep the size of the canvas, canvas container, and rubber band\n",
       "        // canvas in synch.\n",
       "        canvas_div.css('width', width)\n",
       "        canvas_div.css('height', height)\n",
       "\n",
       "        canvas.attr('width', width * mpl.ratio);\n",
       "        canvas.attr('height', height * mpl.ratio);\n",
       "        canvas.attr('style', 'width: ' + width + 'px; height: ' + height + 'px;');\n",
       "\n",
       "        rubberband.attr('width', width);\n",
       "        rubberband.attr('height', height);\n",
       "    }\n",
       "\n",
       "    // Set the figure to an initial 600x600px, this will subsequently be updated\n",
       "    // upon first draw.\n",
       "    this._resize_canvas(600, 600);\n",
       "\n",
       "    // Disable right mouse context menu.\n",
       "    $(this.rubberband_canvas).bind(\"contextmenu\",function(e){\n",
       "        return false;\n",
       "    });\n",
       "\n",
       "    function set_focus () {\n",
       "        canvas.focus();\n",
       "        canvas_div.focus();\n",
       "    }\n",
       "\n",
       "    window.setTimeout(set_focus, 100);\n",
       "}\n",
       "\n",
       "mpl.figure.prototype._init_toolbar = function() {\n",
       "    var fig = this;\n",
       "\n",
       "    var nav_element = $('<div/>')\n",
       "    nav_element.attr('style', 'width: 100%');\n",
       "    this.root.append(nav_element);\n",
       "\n",
       "    // Define a callback function for later on.\n",
       "    function toolbar_event(event) {\n",
       "        return fig.toolbar_button_onclick(event['data']);\n",
       "    }\n",
       "    function toolbar_mouse_event(event) {\n",
       "        return fig.toolbar_button_onmouseover(event['data']);\n",
       "    }\n",
       "\n",
       "    for(var toolbar_ind in mpl.toolbar_items) {\n",
       "        var name = mpl.toolbar_items[toolbar_ind][0];\n",
       "        var tooltip = mpl.toolbar_items[toolbar_ind][1];\n",
       "        var image = mpl.toolbar_items[toolbar_ind][2];\n",
       "        var method_name = mpl.toolbar_items[toolbar_ind][3];\n",
       "\n",
       "        if (!name) {\n",
       "            // put a spacer in here.\n",
       "            continue;\n",
       "        }\n",
       "        var button = $('<button/>');\n",
       "        button.addClass('ui-button ui-widget ui-state-default ui-corner-all ' +\n",
       "                        'ui-button-icon-only');\n",
       "        button.attr('role', 'button');\n",
       "        button.attr('aria-disabled', 'false');\n",
       "        button.click(method_name, toolbar_event);\n",
       "        button.mouseover(tooltip, toolbar_mouse_event);\n",
       "\n",
       "        var icon_img = $('<span/>');\n",
       "        icon_img.addClass('ui-button-icon-primary ui-icon');\n",
       "        icon_img.addClass(image);\n",
       "        icon_img.addClass('ui-corner-all');\n",
       "\n",
       "        var tooltip_span = $('<span/>');\n",
       "        tooltip_span.addClass('ui-button-text');\n",
       "        tooltip_span.html(tooltip);\n",
       "\n",
       "        button.append(icon_img);\n",
       "        button.append(tooltip_span);\n",
       "\n",
       "        nav_element.append(button);\n",
       "    }\n",
       "\n",
       "    var fmt_picker_span = $('<span/>');\n",
       "\n",
       "    var fmt_picker = $('<select/>');\n",
       "    fmt_picker.addClass('mpl-toolbar-option ui-widget ui-widget-content');\n",
       "    fmt_picker_span.append(fmt_picker);\n",
       "    nav_element.append(fmt_picker_span);\n",
       "    this.format_dropdown = fmt_picker[0];\n",
       "\n",
       "    for (var ind in mpl.extensions) {\n",
       "        var fmt = mpl.extensions[ind];\n",
       "        var option = $(\n",
       "            '<option/>', {selected: fmt === mpl.default_extension}).html(fmt);\n",
       "        fmt_picker.append(option)\n",
       "    }\n",
       "\n",
       "    // Add hover states to the ui-buttons\n",
       "    $( \".ui-button\" ).hover(\n",
       "        function() { $(this).addClass(\"ui-state-hover\");},\n",
       "        function() { $(this).removeClass(\"ui-state-hover\");}\n",
       "    );\n",
       "\n",
       "    var status_bar = $('<span class=\"mpl-message\"/>');\n",
       "    nav_element.append(status_bar);\n",
       "    this.message = status_bar[0];\n",
       "}\n",
       "\n",
       "mpl.figure.prototype.request_resize = function(x_pixels, y_pixels) {\n",
       "    // Request matplotlib to resize the figure. Matplotlib will then trigger a resize in the client,\n",
       "    // which will in turn request a refresh of the image.\n",
       "    this.send_message('resize', {'width': x_pixels, 'height': y_pixels});\n",
       "}\n",
       "\n",
       "mpl.figure.prototype.send_message = function(type, properties) {\n",
       "    properties['type'] = type;\n",
       "    properties['figure_id'] = this.id;\n",
       "    this.ws.send(JSON.stringify(properties));\n",
       "}\n",
       "\n",
       "mpl.figure.prototype.send_draw_message = function() {\n",
       "    if (!this.waiting) {\n",
       "        this.waiting = true;\n",
       "        this.ws.send(JSON.stringify({type: \"draw\", figure_id: this.id}));\n",
       "    }\n",
       "}\n",
       "\n",
       "\n",
       "mpl.figure.prototype.handle_save = function(fig, msg) {\n",
       "    var format_dropdown = fig.format_dropdown;\n",
       "    var format = format_dropdown.options[format_dropdown.selectedIndex].value;\n",
       "    fig.ondownload(fig, format);\n",
       "}\n",
       "\n",
       "\n",
       "mpl.figure.prototype.handle_resize = function(fig, msg) {\n",
       "    var size = msg['size'];\n",
       "    if (size[0] != fig.canvas.width || size[1] != fig.canvas.height) {\n",
       "        fig._resize_canvas(size[0], size[1]);\n",
       "        fig.send_message(\"refresh\", {});\n",
       "    };\n",
       "}\n",
       "\n",
       "mpl.figure.prototype.handle_rubberband = function(fig, msg) {\n",
       "    var x0 = msg['x0'] / mpl.ratio;\n",
       "    var y0 = (fig.canvas.height - msg['y0']) / mpl.ratio;\n",
       "    var x1 = msg['x1'] / mpl.ratio;\n",
       "    var y1 = (fig.canvas.height - msg['y1']) / mpl.ratio;\n",
       "    x0 = Math.floor(x0) + 0.5;\n",
       "    y0 = Math.floor(y0) + 0.5;\n",
       "    x1 = Math.floor(x1) + 0.5;\n",
       "    y1 = Math.floor(y1) + 0.5;\n",
       "    var min_x = Math.min(x0, x1);\n",
       "    var min_y = Math.min(y0, y1);\n",
       "    var width = Math.abs(x1 - x0);\n",
       "    var height = Math.abs(y1 - y0);\n",
       "\n",
       "    fig.rubberband_context.clearRect(\n",
       "        0, 0, fig.canvas.width, fig.canvas.height);\n",
       "\n",
       "    fig.rubberband_context.strokeRect(min_x, min_y, width, height);\n",
       "}\n",
       "\n",
       "mpl.figure.prototype.handle_figure_label = function(fig, msg) {\n",
       "    // Updates the figure title.\n",
       "    fig.header.textContent = msg['label'];\n",
       "}\n",
       "\n",
       "mpl.figure.prototype.handle_cursor = function(fig, msg) {\n",
       "    var cursor = msg['cursor'];\n",
       "    switch(cursor)\n",
       "    {\n",
       "    case 0:\n",
       "        cursor = 'pointer';\n",
       "        break;\n",
       "    case 1:\n",
       "        cursor = 'default';\n",
       "        break;\n",
       "    case 2:\n",
       "        cursor = 'crosshair';\n",
       "        break;\n",
       "    case 3:\n",
       "        cursor = 'move';\n",
       "        break;\n",
       "    }\n",
       "    fig.rubberband_canvas.style.cursor = cursor;\n",
       "}\n",
       "\n",
       "mpl.figure.prototype.handle_message = function(fig, msg) {\n",
       "    fig.message.textContent = msg['message'];\n",
       "}\n",
       "\n",
       "mpl.figure.prototype.handle_draw = function(fig, msg) {\n",
       "    // Request the server to send over a new figure.\n",
       "    fig.send_draw_message();\n",
       "}\n",
       "\n",
       "mpl.figure.prototype.handle_image_mode = function(fig, msg) {\n",
       "    fig.image_mode = msg['mode'];\n",
       "}\n",
       "\n",
       "mpl.figure.prototype.updated_canvas_event = function() {\n",
       "    // Called whenever the canvas gets updated.\n",
       "    this.send_message(\"ack\", {});\n",
       "}\n",
       "\n",
       "// A function to construct a web socket function for onmessage handling.\n",
       "// Called in the figure constructor.\n",
       "mpl.figure.prototype._make_on_message_function = function(fig) {\n",
       "    return function socket_on_message(evt) {\n",
       "        if (evt.data instanceof Blob) {\n",
       "            /* FIXME: We get \"Resource interpreted as Image but\n",
       "             * transferred with MIME type text/plain:\" errors on\n",
       "             * Chrome.  But how to set the MIME type?  It doesn't seem\n",
       "             * to be part of the websocket stream */\n",
       "            evt.data.type = \"image/png\";\n",
       "\n",
       "            /* Free the memory for the previous frames */\n",
       "            if (fig.imageObj.src) {\n",
       "                (window.URL || window.webkitURL).revokeObjectURL(\n",
       "                    fig.imageObj.src);\n",
       "            }\n",
       "\n",
       "            fig.imageObj.src = (window.URL || window.webkitURL).createObjectURL(\n",
       "                evt.data);\n",
       "            fig.updated_canvas_event();\n",
       "            fig.waiting = false;\n",
       "            return;\n",
       "        }\n",
       "        else if (typeof evt.data === 'string' && evt.data.slice(0, 21) == \"data:image/png;base64\") {\n",
       "            fig.imageObj.src = evt.data;\n",
       "            fig.updated_canvas_event();\n",
       "            fig.waiting = false;\n",
       "            return;\n",
       "        }\n",
       "\n",
       "        var msg = JSON.parse(evt.data);\n",
       "        var msg_type = msg['type'];\n",
       "\n",
       "        // Call the  \"handle_{type}\" callback, which takes\n",
       "        // the figure and JSON message as its only arguments.\n",
       "        try {\n",
       "            var callback = fig[\"handle_\" + msg_type];\n",
       "        } catch (e) {\n",
       "            console.log(\"No handler for the '\" + msg_type + \"' message type: \", msg);\n",
       "            return;\n",
       "        }\n",
       "\n",
       "        if (callback) {\n",
       "            try {\n",
       "                // console.log(\"Handling '\" + msg_type + \"' message: \", msg);\n",
       "                callback(fig, msg);\n",
       "            } catch (e) {\n",
       "                console.log(\"Exception inside the 'handler_\" + msg_type + \"' callback:\", e, e.stack, msg);\n",
       "            }\n",
       "        }\n",
       "    };\n",
       "}\n",
       "\n",
       "// from http://stackoverflow.com/questions/1114465/getting-mouse-location-in-canvas\n",
       "mpl.findpos = function(e) {\n",
       "    //this section is from http://www.quirksmode.org/js/events_properties.html\n",
       "    var targ;\n",
       "    if (!e)\n",
       "        e = window.event;\n",
       "    if (e.target)\n",
       "        targ = e.target;\n",
       "    else if (e.srcElement)\n",
       "        targ = e.srcElement;\n",
       "    if (targ.nodeType == 3) // defeat Safari bug\n",
       "        targ = targ.parentNode;\n",
       "\n",
       "    // jQuery normalizes the pageX and pageY\n",
       "    // pageX,Y are the mouse positions relative to the document\n",
       "    // offset() returns the position of the element relative to the document\n",
       "    var x = e.pageX - $(targ).offset().left;\n",
       "    var y = e.pageY - $(targ).offset().top;\n",
       "\n",
       "    return {\"x\": x, \"y\": y};\n",
       "};\n",
       "\n",
       "/*\n",
       " * return a copy of an object with only non-object keys\n",
       " * we need this to avoid circular references\n",
       " * http://stackoverflow.com/a/24161582/3208463\n",
       " */\n",
       "function simpleKeys (original) {\n",
       "  return Object.keys(original).reduce(function (obj, key) {\n",
       "    if (typeof original[key] !== 'object')\n",
       "        obj[key] = original[key]\n",
       "    return obj;\n",
       "  }, {});\n",
       "}\n",
       "\n",
       "mpl.figure.prototype.mouse_event = function(event, name) {\n",
       "    var canvas_pos = mpl.findpos(event)\n",
       "\n",
       "    if (name === 'button_press')\n",
       "    {\n",
       "        this.canvas.focus();\n",
       "        this.canvas_div.focus();\n",
       "    }\n",
       "\n",
       "    var x = canvas_pos.x * mpl.ratio;\n",
       "    var y = canvas_pos.y * mpl.ratio;\n",
       "\n",
       "    this.send_message(name, {x: x, y: y, button: event.button,\n",
       "                             step: event.step,\n",
       "                             guiEvent: simpleKeys(event)});\n",
       "\n",
       "    /* This prevents the web browser from automatically changing to\n",
       "     * the text insertion cursor when the button is pressed.  We want\n",
       "     * to control all of the cursor setting manually through the\n",
       "     * 'cursor' event from matplotlib */\n",
       "    event.preventDefault();\n",
       "    return false;\n",
       "}\n",
       "\n",
       "mpl.figure.prototype._key_event_extra = function(event, name) {\n",
       "    // Handle any extra behaviour associated with a key event\n",
       "}\n",
       "\n",
       "mpl.figure.prototype.key_event = function(event, name) {\n",
       "\n",
       "    // Prevent repeat events\n",
       "    if (name == 'key_press')\n",
       "    {\n",
       "        if (event.which === this._key)\n",
       "            return;\n",
       "        else\n",
       "            this._key = event.which;\n",
       "    }\n",
       "    if (name == 'key_release')\n",
       "        this._key = null;\n",
       "\n",
       "    var value = '';\n",
       "    if (event.ctrlKey && event.which != 17)\n",
       "        value += \"ctrl+\";\n",
       "    if (event.altKey && event.which != 18)\n",
       "        value += \"alt+\";\n",
       "    if (event.shiftKey && event.which != 16)\n",
       "        value += \"shift+\";\n",
       "\n",
       "    value += 'k';\n",
       "    value += event.which.toString();\n",
       "\n",
       "    this._key_event_extra(event, name);\n",
       "\n",
       "    this.send_message(name, {key: value,\n",
       "                             guiEvent: simpleKeys(event)});\n",
       "    return false;\n",
       "}\n",
       "\n",
       "mpl.figure.prototype.toolbar_button_onclick = function(name) {\n",
       "    if (name == 'download') {\n",
       "        this.handle_save(this, null);\n",
       "    } else {\n",
       "        this.send_message(\"toolbar_button\", {name: name});\n",
       "    }\n",
       "};\n",
       "\n",
       "mpl.figure.prototype.toolbar_button_onmouseover = function(tooltip) {\n",
       "    this.message.textContent = tooltip;\n",
       "};\n",
       "mpl.toolbar_items = [[\"Home\", \"Reset original view\", \"fa fa-home icon-home\", \"home\"], [\"Back\", \"Back to  previous view\", \"fa fa-arrow-left icon-arrow-left\", \"back\"], [\"Forward\", \"Forward to next view\", \"fa fa-arrow-right icon-arrow-right\", \"forward\"], [\"\", \"\", \"\", \"\"], [\"Pan\", \"Pan axes with left mouse, zoom with right\", \"fa fa-arrows icon-move\", \"pan\"], [\"Zoom\", \"Zoom to rectangle\", \"fa fa-square-o icon-check-empty\", \"zoom\"], [\"\", \"\", \"\", \"\"], [\"Download\", \"Download plot\", \"fa fa-floppy-o icon-save\", \"download\"]];\n",
       "\n",
       "mpl.extensions = [\"eps\", \"jpeg\", \"pdf\", \"png\", \"ps\", \"raw\", \"svg\", \"tif\"];\n",
       "\n",
       "mpl.default_extension = \"png\";var comm_websocket_adapter = function(comm) {\n",
       "    // Create a \"websocket\"-like object which calls the given IPython comm\n",
       "    // object with the appropriate methods. Currently this is a non binary\n",
       "    // socket, so there is still some room for performance tuning.\n",
       "    var ws = {};\n",
       "\n",
       "    ws.close = function() {\n",
       "        comm.close()\n",
       "    };\n",
       "    ws.send = function(m) {\n",
       "        //console.log('sending', m);\n",
       "        comm.send(m);\n",
       "    };\n",
       "    // Register the callback with on_msg.\n",
       "    comm.on_msg(function(msg) {\n",
       "        //console.log('receiving', msg['content']['data'], msg);\n",
       "        // Pass the mpl event to the overriden (by mpl) onmessage function.\n",
       "        ws.onmessage(msg['content']['data'])\n",
       "    });\n",
       "    return ws;\n",
       "}\n",
       "\n",
       "mpl.mpl_figure_comm = function(comm, msg) {\n",
       "    // This is the function which gets called when the mpl process\n",
       "    // starts-up an IPython Comm through the \"matplotlib\" channel.\n",
       "\n",
       "    var id = msg.content.data.id;\n",
       "    // Get hold of the div created by the display call when the Comm\n",
       "    // socket was opened in Python.\n",
       "    var element = $(\"#\" + id);\n",
       "    var ws_proxy = comm_websocket_adapter(comm)\n",
       "\n",
       "    function ondownload(figure, format) {\n",
       "        window.open(figure.imageObj.src);\n",
       "    }\n",
       "\n",
       "    var fig = new mpl.figure(id, ws_proxy,\n",
       "                           ondownload,\n",
       "                           element.get(0));\n",
       "\n",
       "    // Call onopen now - mpl needs it, as it is assuming we've passed it a real\n",
       "    // web socket which is closed, not our websocket->open comm proxy.\n",
       "    ws_proxy.onopen();\n",
       "\n",
       "    fig.parent_element = element.get(0);\n",
       "    fig.cell_info = mpl.find_output_cell(\"<div id='\" + id + \"'></div>\");\n",
       "    if (!fig.cell_info) {\n",
       "        console.error(\"Failed to find cell for figure\", id, fig);\n",
       "        return;\n",
       "    }\n",
       "\n",
       "    var output_index = fig.cell_info[2]\n",
       "    var cell = fig.cell_info[0];\n",
       "\n",
       "};\n",
       "\n",
       "mpl.figure.prototype.handle_close = function(fig, msg) {\n",
       "    var width = fig.canvas.width/mpl.ratio\n",
       "    fig.root.unbind('remove')\n",
       "\n",
       "    // Update the output cell to use the data from the current canvas.\n",
       "    fig.push_to_output();\n",
       "    var dataURL = fig.canvas.toDataURL();\n",
       "    // Re-enable the keyboard manager in IPython - without this line, in FF,\n",
       "    // the notebook keyboard shortcuts fail.\n",
       "    IPython.keyboard_manager.enable()\n",
       "    $(fig.parent_element).html('<img src=\"' + dataURL + '\" width=\"' + width + '\">');\n",
       "    fig.close_ws(fig, msg);\n",
       "}\n",
       "\n",
       "mpl.figure.prototype.close_ws = function(fig, msg){\n",
       "    fig.send_message('closing', msg);\n",
       "    // fig.ws.close()\n",
       "}\n",
       "\n",
       "mpl.figure.prototype.push_to_output = function(remove_interactive) {\n",
       "    // Turn the data on the canvas into data in the output cell.\n",
       "    var width = this.canvas.width/mpl.ratio\n",
       "    var dataURL = this.canvas.toDataURL();\n",
       "    this.cell_info[1]['text/html'] = '<img src=\"' + dataURL + '\" width=\"' + width + '\">';\n",
       "}\n",
       "\n",
       "mpl.figure.prototype.updated_canvas_event = function() {\n",
       "    // Tell IPython that the notebook contents must change.\n",
       "    IPython.notebook.set_dirty(true);\n",
       "    this.send_message(\"ack\", {});\n",
       "    var fig = this;\n",
       "    // Wait a second, then push the new image to the DOM so\n",
       "    // that it is saved nicely (might be nice to debounce this).\n",
       "    setTimeout(function () { fig.push_to_output() }, 1000);\n",
       "}\n",
       "\n",
       "mpl.figure.prototype._init_toolbar = function() {\n",
       "    var fig = this;\n",
       "\n",
       "    var nav_element = $('<div/>')\n",
       "    nav_element.attr('style', 'width: 100%');\n",
       "    this.root.append(nav_element);\n",
       "\n",
       "    // Define a callback function for later on.\n",
       "    function toolbar_event(event) {\n",
       "        return fig.toolbar_button_onclick(event['data']);\n",
       "    }\n",
       "    function toolbar_mouse_event(event) {\n",
       "        return fig.toolbar_button_onmouseover(event['data']);\n",
       "    }\n",
       "\n",
       "    for(var toolbar_ind in mpl.toolbar_items){\n",
       "        var name = mpl.toolbar_items[toolbar_ind][0];\n",
       "        var tooltip = mpl.toolbar_items[toolbar_ind][1];\n",
       "        var image = mpl.toolbar_items[toolbar_ind][2];\n",
       "        var method_name = mpl.toolbar_items[toolbar_ind][3];\n",
       "\n",
       "        if (!name) { continue; };\n",
       "\n",
       "        var button = $('<button class=\"btn btn-default\" href=\"#\" title=\"' + name + '\"><i class=\"fa ' + image + ' fa-lg\"></i></button>');\n",
       "        button.click(method_name, toolbar_event);\n",
       "        button.mouseover(tooltip, toolbar_mouse_event);\n",
       "        nav_element.append(button);\n",
       "    }\n",
       "\n",
       "    // Add the status bar.\n",
       "    var status_bar = $('<span class=\"mpl-message\" style=\"text-align:right; float: right;\"/>');\n",
       "    nav_element.append(status_bar);\n",
       "    this.message = status_bar[0];\n",
       "\n",
       "    // Add the close button to the window.\n",
       "    var buttongrp = $('<div class=\"btn-group inline pull-right\"></div>');\n",
       "    var button = $('<button class=\"btn btn-mini btn-primary\" href=\"#\" title=\"Stop Interaction\"><i class=\"fa fa-power-off icon-remove icon-large\"></i></button>');\n",
       "    button.click(function (evt) { fig.handle_close(fig, {}); } );\n",
       "    button.mouseover('Stop Interaction', toolbar_mouse_event);\n",
       "    buttongrp.append(button);\n",
       "    var titlebar = this.root.find($('.ui-dialog-titlebar'));\n",
       "    titlebar.prepend(buttongrp);\n",
       "}\n",
       "\n",
       "mpl.figure.prototype._root_extra_style = function(el){\n",
       "    var fig = this\n",
       "    el.on(\"remove\", function(){\n",
       "\tfig.close_ws(fig, {});\n",
       "    });\n",
       "}\n",
       "\n",
       "mpl.figure.prototype._canvas_extra_style = function(el){\n",
       "    // this is important to make the div 'focusable\n",
       "    el.attr('tabindex', 0)\n",
       "    // reach out to IPython and tell the keyboard manager to turn it's self\n",
       "    // off when our div gets focus\n",
       "\n",
       "    // location in version 3\n",
       "    if (IPython.notebook.keyboard_manager) {\n",
       "        IPython.notebook.keyboard_manager.register_events(el);\n",
       "    }\n",
       "    else {\n",
       "        // location in version 2\n",
       "        IPython.keyboard_manager.register_events(el);\n",
       "    }\n",
       "\n",
       "}\n",
       "\n",
       "mpl.figure.prototype._key_event_extra = function(event, name) {\n",
       "    var manager = IPython.notebook.keyboard_manager;\n",
       "    if (!manager)\n",
       "        manager = IPython.keyboard_manager;\n",
       "\n",
       "    // Check for shift+enter\n",
       "    if (event.shiftKey && event.which == 13) {\n",
       "        this.canvas_div.blur();\n",
       "        // select the cell after this one\n",
       "        var index = IPython.notebook.find_cell_index(this.cell_info[0]);\n",
       "        IPython.notebook.select(index + 1);\n",
       "    }\n",
       "}\n",
       "\n",
       "mpl.figure.prototype.handle_save = function(fig, msg) {\n",
       "    fig.ondownload(fig, null);\n",
       "}\n",
       "\n",
       "\n",
       "mpl.find_output_cell = function(html_output) {\n",
       "    // Return the cell and output element which can be found *uniquely* in the notebook.\n",
       "    // Note - this is a bit hacky, but it is done because the \"notebook_saving.Notebook\"\n",
       "    // IPython event is triggered only after the cells have been serialised, which for\n",
       "    // our purposes (turning an active figure into a static one), is too late.\n",
       "    var cells = IPython.notebook.get_cells();\n",
       "    var ncells = cells.length;\n",
       "    for (var i=0; i<ncells; i++) {\n",
       "        var cell = cells[i];\n",
       "        if (cell.cell_type === 'code'){\n",
       "            for (var j=0; j<cell.output_area.outputs.length; j++) {\n",
       "                var data = cell.output_area.outputs[j];\n",
       "                if (data.data) {\n",
       "                    // IPython >= 3 moved mimebundle to data attribute of output\n",
       "                    data = data.data;\n",
       "                }\n",
       "                if (data['text/html'] == html_output) {\n",
       "                    return [cell, data, j];\n",
       "                }\n",
       "            }\n",
       "        }\n",
       "    }\n",
       "}\n",
       "\n",
       "// Register the function which deals with the matplotlib target/channel.\n",
       "// The kernel may be null if the page has been refreshed.\n",
       "if (IPython.notebook.kernel != null) {\n",
       "    IPython.notebook.kernel.comm_manager.register_target('matplotlib', mpl.mpl_figure_comm);\n",
       "}\n"
      ],
      "text/plain": [
       "<IPython.core.display.Javascript object>"
      ]
     },
     "metadata": {},
     "output_type": "display_data"
    },
    {
     "data": {
      "text/html": [
       "<img src=\"data:image/png;base64,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\" width=\"1000\">"
      ],
      "text/plain": [
       "<IPython.core.display.HTML object>"
      ]
     },
     "metadata": {},
     "output_type": "display_data"
    },
    {
     "data": {
      "application/vnd.jupyter.widget-view+json": {
       "model_id": "5502273f47dc4b269205341d753b7360",
       "version_major": 2,
       "version_minor": 0
      },
      "text/html": [
       "<p>Failed to display Jupyter Widget of type <code>VBox</code>.</p>\n",
       "<p>\n",
       "  If you're reading this message in Jupyter Notebook or JupyterLab, it may mean\n",
       "  that the widgets JavaScript is still loading. If this message persists, it\n",
       "  likely means that the widgets JavaScript library is either not installed or\n",
       "  not enabled. See the <a href=\"https://ipywidgets.readthedocs.io/en/stable/user_install.html\">Jupyter\n",
       "  Widgets Documentation</a> for setup instructions.\n",
       "</p>\n",
       "<p>\n",
       "  If you're reading this message in another notebook frontend (for example, a static\n",
       "  rendering on GitHub or <a href=\"https://nbviewer.jupyter.org/\">NBViewer</a>),\n",
       "  it may mean that your frontend doesn't currently support widgets.\n",
       "</p>\n"
      ],
      "text/plain": [
       "VBox(children=(HBox(children=(VBox(children=(FloatSlider(value=1.0, description='A 1', max=5.0, min=0.1), FloatSlider(value=1.0, description='\\\\(\\\\lambda\\\\) 1', max=5.0), FloatSlider(value=6.283185307179586, description='\\\\(\\\\omega\\\\) 1', max=12.566370614359172), FloatSlider(value=0.0, description='\\\\(\\\\phi\\\\) 1', max=6.3, min=-6.3))), VBox(children=(FloatSlider(value=1.5, description='A 2', max=5.0, min=0.1), FloatSlider(value=0.5, description='\\\\(\\\\lambda\\\\) 2', max=5.0), FloatSlider(value=6.283185307179586, description='\\\\(\\\\omega\\\\) 2', max=12.566370614359172), FloatSlider(value=0.0, description='\\\\(\\\\phi\\\\) 2', max=6.3, min=-6.3))))), Output()))"
      ]
     },
     "metadata": {},
     "output_type": "display_data"
    }
   ],
   "source": [
    "widget_2 = make_widget_2()\n",
    "display(widget_2)"
   ]
  },
  {
   "cell_type": "code",
   "execution_count": null,
   "metadata": {},
   "outputs": [],
   "source": []
  }
 ],
 "metadata": {
  "celltoolbar": "Slideshow",
  "kernelspec": {
   "display_name": "Python 3",
   "language": "python",
   "name": "python3"
  },
  "language_info": {
   "codemirror_mode": {
    "name": "ipython",
    "version": 3
   },
   "file_extension": ".py",
   "mimetype": "text/x-python",
   "name": "python",
   "nbconvert_exporter": "python",
   "pygments_lexer": "ipython3",
   "version": "3.6.3"
  },
  "widgets": {
   "application/vnd.jupyter.widget-state+json": {
    "state": {
     "0082df935b7e41f3af1b7473f272bec5": {
      "model_module": "jupyter-js-widgets",
      "model_module_version": "~2.1.4",
      "model_name": "LayoutModel",
      "state": {
       "_model_module_version": "~2.1.4",
       "_view_module_version": "~2.1.4"
      }
     },
     "0333e6dda08b4670a5aa8b273af1f7b9": {
      "model_module": "@jupyter-widgets/controls",
      "model_module_version": "1.0.0",
      "model_name": "VBoxModel",
      "state": {
       "_dom_classes": [
        "widget-interact"
       ],
       "children": [
        "IPY_MODEL_42af0571bdd64c66bfd3c5c1b059beca",
        "IPY_MODEL_2c5b5b4d1c754113b2a88af151a57027",
        "IPY_MODEL_0913e54c41f24fdc877e2cbef27b9f36",
        "IPY_MODEL_4f3831f653f04b71b6a6d8bcd633d079",
        "IPY_MODEL_956e4bcb79ba4f749eeabd3f6c107c81",
        "IPY_MODEL_e4cbff63ca2a403382363ce2fde59745",
        "IPY_MODEL_bbbacd8c0476424d862b56367d2d095c",
        "IPY_MODEL_4f0b1c350c0d4ba8b16a4074e3991164",
        "IPY_MODEL_c193d3c52f3341e996718789df339a38"
       ],
       "layout": "IPY_MODEL_2327f88f61024e2a984549926057c43a"
      }
     },
     "049acad79a564478a68d36ba8acb4765": {
      "model_module": "@jupyter-widgets/controls",
      "model_module_version": "1.0.0",
      "model_name": "SliderStyleModel",
      "state": {
       "description_width": ""
      }
     },
     "0913e54c41f24fdc877e2cbef27b9f36": {
      "model_module": "@jupyter-widgets/controls",
      "model_module_version": "1.0.0",
      "model_name": "FloatSliderModel",
      "state": {
       "description": "omega_1",
       "layout": "IPY_MODEL_2ab93dce0f92409aae513fe5b316f656",
       "max": 12.566370614359172,
       "step": 0.1,
       "style": "IPY_MODEL_5c78285f9d6b4ee1babce1ac363e7e86",
       "value": 6.283185307179586
      }
     },
     "0b21dc30c639447bac6d86c0fc93af9e": {
      "model_module": "jupyter-js-widgets",
      "model_module_version": "~2.1.4",
      "model_name": "LayoutModel",
      "state": {
       "_model_module_version": "~2.1.4",
       "_view_module_version": "~2.1.4"
      }
     },
     "0bfcf6a0ac1b49a7b6f6a0fcd6afeda4": {
      "model_module": "jupyter-js-widgets",
      "model_module_version": "~2.1.4",
      "model_name": "FloatSliderModel",
      "state": {
       "_model_module_version": "~2.1.4",
       "_view_module_version": "~2.1.4",
       "description": "phi_1",
       "layout": "IPY_MODEL_0082df935b7e41f3af1b7473f272bec5",
       "max": 6.3,
       "min": -6.3,
       "step": 0.1
      }
     },
     "0d946b69e883442a916e0af9f80cc751": {
      "model_module": "jupyter-js-widgets",
      "model_module_version": "~2.1.4",
      "model_name": "LayoutModel",
      "state": {
       "_model_module_version": "~2.1.4",
       "_view_module_version": "~2.1.4"
      }
     },
     "155c271e15ea4ed388882a6a8d067cda": {
      "model_module": "jupyter-js-widgets",
      "model_module_version": "~2.1.4",
      "model_name": "OutputModel",
      "state": {
       "_model_module": "jupyter-js-widgets",
       "_model_module_version": "~2.1.4",
       "_view_module": "jupyter-js-widgets",
       "_view_module_version": "~2.1.4",
       "layout": "IPY_MODEL_2593c5e690474fb8b3764e5ec984e827",
       "msg_throttle": 1
      }
     },
     "17ece510f57e43fdb8da33b51cc4f30f": {
      "model_module": "jupyter-js-widgets",
      "model_module_version": "~2.1.4",
      "model_name": "FloatSliderModel",
      "state": {
       "_model_module_version": "~2.1.4",
       "_view_module_version": "~2.1.4",
       "description": "omega_1",
       "layout": "IPY_MODEL_d5db5c8372fc49be81a02b74daa9dfed",
       "max": 12.566370614359172,
       "step": 0.1,
       "value": 6.283185307179586
      }
     },
     "1b02b01e24e64aa787cf344d2ca975d3": {
      "model_module": "jupyter-js-widgets",
      "model_module_version": "~2.1.4",
      "model_name": "LayoutModel",
      "state": {
       "_model_module_version": "~2.1.4",
       "_view_module_version": "~2.1.4"
      }
     },
     "1d5eb88db4e441d0bb806a03ba4f042b": {
      "model_module": "jupyter-js-widgets",
      "model_module_version": "~2.1.4",
      "model_name": "LayoutModel",
      "state": {
       "_model_module_version": "~2.1.4",
       "_view_module_version": "~2.1.4"
      }
     },
     "2327f88f61024e2a984549926057c43a": {
      "model_module": "@jupyter-widgets/base",
      "model_module_version": "1.0.0",
      "model_name": "LayoutModel",
      "state": {}
     },
     "2533a923d05a41f6a595996efcb06c7c": {
      "model_module": "jupyter-js-widgets",
      "model_module_version": "~2.1.4",
      "model_name": "LayoutModel",
      "state": {
       "_model_module_version": "~2.1.4",
       "_view_module_version": "~2.1.4"
      }
     },
     "25430ebf5a1942769749f3aec9170fe2": {
      "model_module": "@jupyter-widgets/controls",
      "model_module_version": "1.0.0",
      "model_name": "SliderStyleModel",
      "state": {
       "description_width": ""
      }
     },
     "2593c5e690474fb8b3764e5ec984e827": {
      "model_module": "jupyter-js-widgets",
      "model_module_version": "~2.1.4",
      "model_name": "LayoutModel",
      "state": {
       "_model_module_version": "~2.1.4",
       "_view_module_version": "~2.1.4"
      }
     },
     "2817445cf1c04266948aab39bbddf7e2": {
      "model_module": "jupyter-js-widgets",
      "model_module_version": "~2.1.4",
      "model_name": "LayoutModel",
      "state": {
       "_model_module_version": "~2.1.4",
       "_view_module_version": "~2.1.4"
      }
     },
     "295533d023d24175874cfd499712e2a1": {
      "model_module": "jupyter-js-widgets",
      "model_module_version": "~2.1.4",
      "model_name": "LayoutModel",
      "state": {
       "_model_module_version": "~2.1.4",
       "_view_module_version": "~2.1.4"
      }
     },
     "2ab93dce0f92409aae513fe5b316f656": {
      "model_module": "@jupyter-widgets/base",
      "model_module_version": "1.0.0",
      "model_name": "LayoutModel",
      "state": {}
     },
     "2c5b5b4d1c754113b2a88af151a57027": {
      "model_module": "@jupyter-widgets/controls",
      "model_module_version": "1.0.0",
      "model_name": "FloatSliderModel",
      "state": {
       "description": "lambda_1",
       "layout": "IPY_MODEL_c6d5e6a962884649a3b20d64badff59f",
       "max": 5,
       "step": 0.1,
       "style": "IPY_MODEL_049acad79a564478a68d36ba8acb4765",
       "value": 1
      }
     },
     "2e536ff3107d4e55946d044ea3b30a2a": {
      "model_module": "jupyter-js-widgets",
      "model_module_version": "~2.1.4",
      "model_name": "FloatSliderModel",
      "state": {
       "_model_module_version": "~2.1.4",
       "_view_module_version": "~2.1.4",
       "description": "omega_2",
       "layout": "IPY_MODEL_cbfe3a71c154416ebc9f3515bb61eb76",
       "max": 12.566370614359172,
       "step": 0.1,
       "value": 6.283185307179586
      }
     },
     "2f6d1aebbd924efca1e1dac7cd9093da": {
      "model_module": "jupyter-js-widgets",
      "model_module_version": "~2.1.4",
      "model_name": "VBoxModel",
      "state": {
       "_dom_classes": [
        "widget-interact"
       ],
       "_model_module_version": "~2.1.4",
       "_view_module_version": "~2.1.4",
       "children": [
        "IPY_MODEL_8c82126dd7f74e54bd8a0d42ad46eb52",
        "IPY_MODEL_dee482da8f1d4af7b4e09d01b42317b4",
        "IPY_MODEL_17ece510f57e43fdb8da33b51cc4f30f",
        "IPY_MODEL_364450e3ac5243648bd9fe121ea454a2",
        "IPY_MODEL_ee5ffdf2632749bd8cd02f0c2ade0da5",
        "IPY_MODEL_54999527c1b045ef95be9da4ab3cece6",
        "IPY_MODEL_9fbb20fa137342ae9bb806bb2702c26c",
        "IPY_MODEL_eb2a2bba715d455dba5c0434eeb20cc7",
        "IPY_MODEL_cd9816bab0544e3f9348dea59a071420"
       ],
       "layout": "IPY_MODEL_6eed08c906274bf482b60fd55b37c3ad"
      }
     },
     "3027d0c0cba14f6daba3fd80d66210d9": {
      "model_module": "@jupyter-widgets/base",
      "model_module_version": "1.0.0",
      "model_name": "LayoutModel",
      "state": {}
     },
     "32487c2a3c9140f5ab4e8864fae3ab1b": {
      "model_module": "jupyter-js-widgets",
      "model_module_version": "~2.1.4",
      "model_name": "LayoutModel",
      "state": {
       "_model_module_version": "~2.1.4",
       "_view_module_version": "~2.1.4"
      }
     },
     "364450e3ac5243648bd9fe121ea454a2": {
      "model_module": "jupyter-js-widgets",
      "model_module_version": "~2.1.4",
      "model_name": "FloatSliderModel",
      "state": {
       "_model_module_version": "~2.1.4",
       "_view_module_version": "~2.1.4",
       "description": "phi_1",
       "layout": "IPY_MODEL_0b21dc30c639447bac6d86c0fc93af9e",
       "max": 6.3,
       "min": -6.3,
       "step": 0.1
      }
     },
     "3ed205dca8e341b1bb6cf6467c45c4c1": {
      "model_module": "jupyter-js-widgets",
      "model_module_version": "~2.1.4",
      "model_name": "LayoutModel",
      "state": {
       "_model_module_version": "~2.1.4",
       "_view_module_version": "~2.1.4"
      }
     },
     "42af0571bdd64c66bfd3c5c1b059beca": {
      "model_module": "@jupyter-widgets/controls",
      "model_module_version": "1.0.0",
      "model_name": "FloatSliderModel",
      "state": {
       "description": "Amp_1",
       "layout": "IPY_MODEL_9275002512fe4e90af5beca5b6e93ba7",
       "max": 5,
       "min": 0.1,
       "step": 0.1,
       "style": "IPY_MODEL_25430ebf5a1942769749f3aec9170fe2",
       "value": 1
      }
     },
     "46fbf0194e674f259f3f5cf4248a266c": {
      "model_module": "@jupyter-widgets/base",
      "model_module_version": "1.0.0",
      "model_name": "LayoutModel",
      "state": {}
     },
     "4708a4386e6d48dc85665ee0139c4d22": {
      "model_module": "jupyter-js-widgets",
      "model_module_version": "~2.1.4",
      "model_name": "FloatSliderModel",
      "state": {
       "_model_module_version": "~2.1.4",
       "_view_module_version": "~2.1.4",
       "description": "Amp_1",
       "layout": "IPY_MODEL_ccf3afd23f3a4d08b86d4d4ba23c1c43",
       "max": 5,
       "min": 0.1,
       "step": 0.1,
       "value": 1
      }
     },
     "4e71b1d9fa554b7cb8bdde0fa3ab3b00": {
      "model_module": "jupyter-js-widgets",
      "model_module_version": "~2.1.4",
      "model_name": "VBoxModel",
      "state": {
       "_dom_classes": [
        "widget-interact"
       ],
       "_model_module_version": "~2.1.4",
       "_view_module_version": "~2.1.4",
       "children": [
        "IPY_MODEL_4708a4386e6d48dc85665ee0139c4d22",
        "IPY_MODEL_5b417b5777f1445e937e82260887e506",
        "IPY_MODEL_5be29ffa2e5047ad8e3417e19d5862f5",
        "IPY_MODEL_7535344df8c845ec8b56537adb1447b3",
        "IPY_MODEL_4f166689fdc24477bb3591268c5be15e",
        "IPY_MODEL_c2e50e792fc64a49b06e6ead704845c2",
        "IPY_MODEL_9915b04ed0ef4cc09587e5aee708afee",
        "IPY_MODEL_87b94afec1a8453fad83be8a7080c114",
        "IPY_MODEL_155c271e15ea4ed388882a6a8d067cda"
       ],
       "layout": "IPY_MODEL_1d5eb88db4e441d0bb806a03ba4f042b"
      }
     },
     "4f0b1c350c0d4ba8b16a4074e3991164": {
      "model_module": "@jupyter-widgets/controls",
      "model_module_version": "1.0.0",
      "model_name": "FloatSliderModel",
      "state": {
       "description": "phi_2",
       "layout": "IPY_MODEL_90b745c9978944389e33117589908a42",
       "max": 6.3,
       "min": -6.3,
       "step": 0.1,
       "style": "IPY_MODEL_9556b1d23b584876bcaeafd3aad709f5"
      }
     },
     "4f166689fdc24477bb3591268c5be15e": {
      "model_module": "jupyter-js-widgets",
      "model_module_version": "~2.1.4",
      "model_name": "FloatSliderModel",
      "state": {
       "_model_module_version": "~2.1.4",
       "_view_module_version": "~2.1.4",
       "description": "Amp_2",
       "layout": "IPY_MODEL_1b02b01e24e64aa787cf344d2ca975d3",
       "max": 5,
       "min": 0.1,
       "step": 0.1,
       "value": 1.5
      }
     },
     "4f3831f653f04b71b6a6d8bcd633d079": {
      "model_module": "@jupyter-widgets/controls",
      "model_module_version": "1.0.0",
      "model_name": "FloatSliderModel",
      "state": {
       "description": "phi_1",
       "layout": "IPY_MODEL_3027d0c0cba14f6daba3fd80d66210d9",
       "max": 6.3,
       "min": -6.3,
       "step": 0.1,
       "style": "IPY_MODEL_c128fb41d69243e5af058854b4f51d06"
      }
     },
     "54999527c1b045ef95be9da4ab3cece6": {
      "model_module": "jupyter-js-widgets",
      "model_module_version": "~2.1.4",
      "model_name": "FloatSliderModel",
      "state": {
       "_model_module_version": "~2.1.4",
       "_view_module_version": "~2.1.4",
       "description": "lambda_2",
       "layout": "IPY_MODEL_85f57be149da4d70a11da663a4c4b94e",
       "max": 5,
       "step": 0.1,
       "value": 0.5
      }
     },
     "5b417b5777f1445e937e82260887e506": {
      "model_module": "jupyter-js-widgets",
      "model_module_version": "~2.1.4",
      "model_name": "FloatSliderModel",
      "state": {
       "_model_module_version": "~2.1.4",
       "_view_module_version": "~2.1.4",
       "description": "lambda_1",
       "layout": "IPY_MODEL_dc7f9f0f62cb47789a7224f8e8d2fe12",
       "max": 5,
       "step": 0.1,
       "value": 1
      }
     },
     "5be29ffa2e5047ad8e3417e19d5862f5": {
      "model_module": "jupyter-js-widgets",
      "model_module_version": "~2.1.4",
      "model_name": "FloatSliderModel",
      "state": {
       "_model_module_version": "~2.1.4",
       "_view_module_version": "~2.1.4",
       "description": "omega_1",
       "layout": "IPY_MODEL_b21c82dca7e14c8091389a04715d8a76",
       "max": 12.566370614359172,
       "step": 0.1,
       "value": 6.283185307179586
      }
     },
     "5c78285f9d6b4ee1babce1ac363e7e86": {
      "model_module": "@jupyter-widgets/controls",
      "model_module_version": "1.0.0",
      "model_name": "SliderStyleModel",
      "state": {
       "description_width": ""
      }
     },
     "5e82047962294ab5a8b76ea66510c5a7": {
      "model_module": "jupyter-js-widgets",
      "model_module_version": "~2.1.4",
      "model_name": "LayoutModel",
      "state": {
       "_model_module_version": "~2.1.4",
       "_view_module_version": "~2.1.4"
      }
     },
     "5e9d28a17f0a4472a3569c55f6208176": {
      "model_module": "jupyter-js-widgets",
      "model_module_version": "~2.1.4",
      "model_name": "LayoutModel",
      "state": {
       "_model_module_version": "~2.1.4",
       "_view_module_version": "~2.1.4"
      }
     },
     "691909eb7b9f40a1befe2111b83a3311": {
      "model_module": "@jupyter-widgets/controls",
      "model_module_version": "1.0.0",
      "model_name": "SliderStyleModel",
      "state": {
       "description_width": ""
      }
     },
     "6eed08c906274bf482b60fd55b37c3ad": {
      "model_module": "jupyter-js-widgets",
      "model_module_version": "~2.1.4",
      "model_name": "LayoutModel",
      "state": {
       "_model_module_version": "~2.1.4",
       "_view_module_version": "~2.1.4"
      }
     },
     "7248580179b4451f84ab6a02c42d150c": {
      "model_module": "jupyter-js-widgets",
      "model_module_version": "~2.1.4",
      "model_name": "LayoutModel",
      "state": {
       "_model_module_version": "~2.1.4",
       "_view_module_version": "~2.1.4"
      }
     },
     "7535344df8c845ec8b56537adb1447b3": {
      "model_module": "jupyter-js-widgets",
      "model_module_version": "~2.1.4",
      "model_name": "FloatSliderModel",
      "state": {
       "_model_module_version": "~2.1.4",
       "_view_module_version": "~2.1.4",
       "description": "phi_1",
       "layout": "IPY_MODEL_7248580179b4451f84ab6a02c42d150c",
       "max": 6.3,
       "min": -6.3,
       "step": 0.1
      }
     },
     "783eb0f42b114234b5105000c9a0e490": {
      "model_module": "@jupyter-widgets/base",
      "model_module_version": "1.0.0",
      "model_name": "LayoutModel",
      "state": {}
     },
     "85f57be149da4d70a11da663a4c4b94e": {
      "model_module": "jupyter-js-widgets",
      "model_module_version": "~2.1.4",
      "model_name": "LayoutModel",
      "state": {
       "_model_module_version": "~2.1.4",
       "_view_module_version": "~2.1.4"
      }
     },
     "86c3b8af4d2f440ead0e8ac1944be176": {
      "model_module": "jupyter-js-widgets",
      "model_module_version": "~2.1.4",
      "model_name": "FloatSliderModel",
      "state": {
       "_model_module_version": "~2.1.4",
       "_view_module_version": "~2.1.4",
       "description": "omega_1",
       "layout": "IPY_MODEL_5e9d28a17f0a4472a3569c55f6208176",
       "max": 12.566370614359172,
       "step": 0.1,
       "value": 6.283185307179586
      }
     },
     "87b94afec1a8453fad83be8a7080c114": {
      "model_module": "jupyter-js-widgets",
      "model_module_version": "~2.1.4",
      "model_name": "FloatSliderModel",
      "state": {
       "_model_module_version": "~2.1.4",
       "_view_module_version": "~2.1.4",
       "description": "phi_2",
       "layout": "IPY_MODEL_3ed205dca8e341b1bb6cf6467c45c4c1",
       "max": 6.3,
       "min": -6.3,
       "step": 0.1
      }
     },
     "88d0a18f0b8f4ed9bc9cde0dc3dc9f6c": {
      "model_module": "jupyter-js-widgets",
      "model_module_version": "~2.1.4",
      "model_name": "LayoutModel",
      "state": {
       "_model_module_version": "~2.1.4",
       "_view_module_version": "~2.1.4"
      }
     },
     "8c82126dd7f74e54bd8a0d42ad46eb52": {
      "model_module": "jupyter-js-widgets",
      "model_module_version": "~2.1.4",
      "model_name": "FloatSliderModel",
      "state": {
       "_model_module_version": "~2.1.4",
       "_view_module_version": "~2.1.4",
       "description": "Amp_1",
       "layout": "IPY_MODEL_c1b1f0a766554543abc5d9c928edd6e7",
       "max": 5,
       "min": 0.1,
       "step": 0.1,
       "value": 1
      }
     },
     "90b745c9978944389e33117589908a42": {
      "model_module": "@jupyter-widgets/base",
      "model_module_version": "1.0.0",
      "model_name": "LayoutModel",
      "state": {}
     },
     "9275002512fe4e90af5beca5b6e93ba7": {
      "model_module": "@jupyter-widgets/base",
      "model_module_version": "1.0.0",
      "model_name": "LayoutModel",
      "state": {}
     },
     "9556b1d23b584876bcaeafd3aad709f5": {
      "model_module": "@jupyter-widgets/controls",
      "model_module_version": "1.0.0",
      "model_name": "SliderStyleModel",
      "state": {
       "description_width": ""
      }
     },
     "956e4bcb79ba4f749eeabd3f6c107c81": {
      "model_module": "@jupyter-widgets/controls",
      "model_module_version": "1.0.0",
      "model_name": "FloatSliderModel",
      "state": {
       "description": "Amp_2",
       "layout": "IPY_MODEL_f31046146c6b42ef94fb44b2b1b1ec8b",
       "max": 5,
       "min": 0.1,
       "step": 0.1,
       "style": "IPY_MODEL_f185aa9cd3dc4ef0ac3148371e6e2a45",
       "value": 1.5
      }
     },
     "9915b04ed0ef4cc09587e5aee708afee": {
      "model_module": "jupyter-js-widgets",
      "model_module_version": "~2.1.4",
      "model_name": "FloatSliderModel",
      "state": {
       "_model_module_version": "~2.1.4",
       "_view_module_version": "~2.1.4",
       "description": "omega_2",
       "layout": "IPY_MODEL_5e82047962294ab5a8b76ea66510c5a7",
       "max": 12.566370614359172,
       "step": 0.1,
       "value": 6.283185307179586
      }
     },
     "9bd9a439ea5140d498028081bbfe0ca6": {
      "model_module": "jupyter-js-widgets",
      "model_module_version": "~2.1.4",
      "model_name": "LayoutModel",
      "state": {
       "_model_module_version": "~2.1.4",
       "_view_module_version": "~2.1.4"
      }
     },
     "9e366111574446e6bb6fdcbd897b505e": {
      "model_module": "jupyter-js-widgets",
      "model_module_version": "~2.1.4",
      "model_name": "FloatSliderModel",
      "state": {
       "_model_module_version": "~2.1.4",
       "_view_module_version": "~2.1.4",
       "description": "Amp_1",
       "layout": "IPY_MODEL_f27477ff092c4e878ccc5b02133a0745",
       "max": 5,
       "min": 0.1,
       "step": 0.1,
       "value": 1
      }
     },
     "9fa1be8026b04e028d823145d087e881": {
      "model_module": "jupyter-js-widgets",
      "model_module_version": "~2.1.4",
      "model_name": "LayoutModel",
      "state": {
       "_model_module_version": "~2.1.4",
       "_view_module_version": "~2.1.4"
      }
     },
     "9fbb20fa137342ae9bb806bb2702c26c": {
      "model_module": "jupyter-js-widgets",
      "model_module_version": "~2.1.4",
      "model_name": "FloatSliderModel",
      "state": {
       "_model_module_version": "~2.1.4",
       "_view_module_version": "~2.1.4",
       "description": "omega_2",
       "layout": "IPY_MODEL_c1adf63aea844d7fbae86b6713fd65a3",
       "max": 12.566370614359172,
       "step": 0.1,
       "value": 6.283185307179586
      }
     },
     "a1359428838442f99613c7b8b79c275b": {
      "model_module": "jupyter-js-widgets",
      "model_module_version": "~2.1.4",
      "model_name": "FloatSliderModel",
      "state": {
       "_model_module_version": "~2.1.4",
       "_view_module_version": "~2.1.4",
       "description": "lambda_1",
       "layout": "IPY_MODEL_9fa1be8026b04e028d823145d087e881",
       "max": 5,
       "step": 0.1,
       "value": 1
      }
     },
     "a7447c27b74e47acb73b8d5092c41c3c": {
      "model_module": "jupyter-js-widgets",
      "model_module_version": "~2.1.4",
      "model_name": "LayoutModel",
      "state": {
       "_model_module_version": "~2.1.4",
       "_view_module_version": "~2.1.4"
      }
     },
     "b21c82dca7e14c8091389a04715d8a76": {
      "model_module": "jupyter-js-widgets",
      "model_module_version": "~2.1.4",
      "model_name": "LayoutModel",
      "state": {
       "_model_module_version": "~2.1.4",
       "_view_module_version": "~2.1.4"
      }
     },
     "b2f433cfcf294d8f8b1fa6791b9c67fd": {
      "model_module": "jupyter-js-widgets",
      "model_module_version": "~2.1.4",
      "model_name": "VBoxModel",
      "state": {
       "_dom_classes": [
        "widget-interact"
       ],
       "_model_module_version": "~2.1.4",
       "_view_module_version": "~2.1.4",
       "children": [
        "IPY_MODEL_9e366111574446e6bb6fdcbd897b505e",
        "IPY_MODEL_a1359428838442f99613c7b8b79c275b",
        "IPY_MODEL_86c3b8af4d2f440ead0e8ac1944be176",
        "IPY_MODEL_0bfcf6a0ac1b49a7b6f6a0fcd6afeda4",
        "IPY_MODEL_c12a6435c3644ed981e54d28f81f4d19",
        "IPY_MODEL_e8222870e1b54a35abfe7ef335923460",
        "IPY_MODEL_2e536ff3107d4e55946d044ea3b30a2a",
        "IPY_MODEL_f9f5d2f0ff404ed3b3d7ca3227bf5b33",
        "IPY_MODEL_bc34bbb30e94403bb87f16b7495cadaa"
       ],
       "layout": "IPY_MODEL_0d946b69e883442a916e0af9f80cc751"
      }
     },
     "bbbacd8c0476424d862b56367d2d095c": {
      "model_module": "@jupyter-widgets/controls",
      "model_module_version": "1.0.0",
      "model_name": "FloatSliderModel",
      "state": {
       "description": "omega_2",
       "layout": "IPY_MODEL_fb9b3483202c4a72817d0e6630b6d895",
       "max": 12.566370614359172,
       "step": 0.1,
       "style": "IPY_MODEL_d7cc8a15782f413c8f09ee83215a3dbb",
       "value": 6.283185307179586
      }
     },
     "bc34bbb30e94403bb87f16b7495cadaa": {
      "model_module": "jupyter-js-widgets",
      "model_module_version": "~2.1.4",
      "model_name": "OutputModel",
      "state": {
       "_model_module": "jupyter-js-widgets",
       "_model_module_version": "~2.1.4",
       "_view_module": "jupyter-js-widgets",
       "_view_module_version": "~2.1.4",
       "layout": "IPY_MODEL_c4dcce06b6464f6fb5efeaabb166ea1c",
       "msg_throttle": 1
      }
     },
     "bfaebaaaf724466390968e2ed349b445": {
      "model_module": "jupyter-js-widgets",
      "model_module_version": "~2.1.4",
      "model_name": "LayoutModel",
      "state": {
       "_model_module_version": "~2.1.4",
       "_view_module_version": "~2.1.4"
      }
     },
     "c128fb41d69243e5af058854b4f51d06": {
      "model_module": "@jupyter-widgets/controls",
      "model_module_version": "1.0.0",
      "model_name": "SliderStyleModel",
      "state": {
       "description_width": ""
      }
     },
     "c12a6435c3644ed981e54d28f81f4d19": {
      "model_module": "jupyter-js-widgets",
      "model_module_version": "~2.1.4",
      "model_name": "FloatSliderModel",
      "state": {
       "_model_module_version": "~2.1.4",
       "_view_module_version": "~2.1.4",
       "description": "Amp_2",
       "layout": "IPY_MODEL_295533d023d24175874cfd499712e2a1",
       "max": 5,
       "min": 0.1,
       "step": 0.1,
       "value": 1.5
      }
     },
     "c193d3c52f3341e996718789df339a38": {
      "model_module": "@jupyter-widgets/output",
      "model_module_version": "1.0.0",
      "model_name": "OutputModel",
      "state": {
       "layout": "IPY_MODEL_783eb0f42b114234b5105000c9a0e490"
      }
     },
     "c1adf63aea844d7fbae86b6713fd65a3": {
      "model_module": "jupyter-js-widgets",
      "model_module_version": "~2.1.4",
      "model_name": "LayoutModel",
      "state": {
       "_model_module_version": "~2.1.4",
       "_view_module_version": "~2.1.4"
      }
     },
     "c1b1f0a766554543abc5d9c928edd6e7": {
      "model_module": "jupyter-js-widgets",
      "model_module_version": "~2.1.4",
      "model_name": "LayoutModel",
      "state": {
       "_model_module_version": "~2.1.4",
       "_view_module_version": "~2.1.4"
      }
     },
     "c2e50e792fc64a49b06e6ead704845c2": {
      "model_module": "jupyter-js-widgets",
      "model_module_version": "~2.1.4",
      "model_name": "FloatSliderModel",
      "state": {
       "_model_module_version": "~2.1.4",
       "_view_module_version": "~2.1.4",
       "description": "lambda_2",
       "layout": "IPY_MODEL_bfaebaaaf724466390968e2ed349b445",
       "max": 5,
       "step": 0.1,
       "value": 0.5
      }
     },
     "c4dcce06b6464f6fb5efeaabb166ea1c": {
      "model_module": "jupyter-js-widgets",
      "model_module_version": "~2.1.4",
      "model_name": "LayoutModel",
      "state": {
       "_model_module_version": "~2.1.4",
       "_view_module_version": "~2.1.4"
      }
     },
     "c6d5e6a962884649a3b20d64badff59f": {
      "model_module": "@jupyter-widgets/base",
      "model_module_version": "1.0.0",
      "model_name": "LayoutModel",
      "state": {}
     },
     "cbfe3a71c154416ebc9f3515bb61eb76": {
      "model_module": "jupyter-js-widgets",
      "model_module_version": "~2.1.4",
      "model_name": "LayoutModel",
      "state": {
       "_model_module_version": "~2.1.4",
       "_view_module_version": "~2.1.4"
      }
     },
     "ccf3afd23f3a4d08b86d4d4ba23c1c43": {
      "model_module": "jupyter-js-widgets",
      "model_module_version": "~2.1.4",
      "model_name": "LayoutModel",
      "state": {
       "_model_module_version": "~2.1.4",
       "_view_module_version": "~2.1.4"
      }
     },
     "cd9816bab0544e3f9348dea59a071420": {
      "model_module": "jupyter-js-widgets",
      "model_module_version": "~2.1.4",
      "model_name": "OutputModel",
      "state": {
       "_model_module": "jupyter-js-widgets",
       "_model_module_version": "~2.1.4",
       "_view_module": "jupyter-js-widgets",
       "_view_module_version": "~2.1.4",
       "layout": "IPY_MODEL_a7447c27b74e47acb73b8d5092c41c3c",
       "msg_throttle": 1
      }
     },
     "d5db5c8372fc49be81a02b74daa9dfed": {
      "model_module": "jupyter-js-widgets",
      "model_module_version": "~2.1.4",
      "model_name": "LayoutModel",
      "state": {
       "_model_module_version": "~2.1.4",
       "_view_module_version": "~2.1.4"
      }
     },
     "d7cc8a15782f413c8f09ee83215a3dbb": {
      "model_module": "@jupyter-widgets/controls",
      "model_module_version": "1.0.0",
      "model_name": "SliderStyleModel",
      "state": {
       "description_width": ""
      }
     },
     "dc7f9f0f62cb47789a7224f8e8d2fe12": {
      "model_module": "jupyter-js-widgets",
      "model_module_version": "~2.1.4",
      "model_name": "LayoutModel",
      "state": {
       "_model_module_version": "~2.1.4",
       "_view_module_version": "~2.1.4"
      }
     },
     "dee482da8f1d4af7b4e09d01b42317b4": {
      "model_module": "jupyter-js-widgets",
      "model_module_version": "~2.1.4",
      "model_name": "FloatSliderModel",
      "state": {
       "_model_module_version": "~2.1.4",
       "_view_module_version": "~2.1.4",
       "description": "lambda_1",
       "layout": "IPY_MODEL_2817445cf1c04266948aab39bbddf7e2",
       "max": 5,
       "step": 0.1,
       "value": 1
      }
     },
     "e4cbff63ca2a403382363ce2fde59745": {
      "model_module": "@jupyter-widgets/controls",
      "model_module_version": "1.0.0",
      "model_name": "FloatSliderModel",
      "state": {
       "description": "lambda_2",
       "layout": "IPY_MODEL_46fbf0194e674f259f3f5cf4248a266c",
       "max": 5,
       "step": 0.1,
       "style": "IPY_MODEL_691909eb7b9f40a1befe2111b83a3311",
       "value": 0.5
      }
     },
     "e8222870e1b54a35abfe7ef335923460": {
      "model_module": "jupyter-js-widgets",
      "model_module_version": "~2.1.4",
      "model_name": "FloatSliderModel",
      "state": {
       "_model_module_version": "~2.1.4",
       "_view_module_version": "~2.1.4",
       "description": "lambda_2",
       "layout": "IPY_MODEL_88d0a18f0b8f4ed9bc9cde0dc3dc9f6c",
       "max": 5,
       "step": 0.1,
       "value": 0.5
      }
     },
     "eb2a2bba715d455dba5c0434eeb20cc7": {
      "model_module": "jupyter-js-widgets",
      "model_module_version": "~2.1.4",
      "model_name": "FloatSliderModel",
      "state": {
       "_model_module_version": "~2.1.4",
       "_view_module_version": "~2.1.4",
       "description": "phi_2",
       "layout": "IPY_MODEL_32487c2a3c9140f5ab4e8864fae3ab1b",
       "max": 6.3,
       "min": -6.3,
       "step": 0.1
      }
     },
     "ee5ffdf2632749bd8cd02f0c2ade0da5": {
      "model_module": "jupyter-js-widgets",
      "model_module_version": "~2.1.4",
      "model_name": "FloatSliderModel",
      "state": {
       "_model_module_version": "~2.1.4",
       "_view_module_version": "~2.1.4",
       "description": "Amp_2",
       "layout": "IPY_MODEL_2533a923d05a41f6a595996efcb06c7c",
       "max": 5,
       "min": 0.1,
       "step": 0.1,
       "value": 4
      }
     },
     "f185aa9cd3dc4ef0ac3148371e6e2a45": {
      "model_module": "@jupyter-widgets/controls",
      "model_module_version": "1.0.0",
      "model_name": "SliderStyleModel",
      "state": {
       "description_width": ""
      }
     },
     "f27477ff092c4e878ccc5b02133a0745": {
      "model_module": "jupyter-js-widgets",
      "model_module_version": "~2.1.4",
      "model_name": "LayoutModel",
      "state": {
       "_model_module_version": "~2.1.4",
       "_view_module_version": "~2.1.4"
      }
     },
     "f31046146c6b42ef94fb44b2b1b1ec8b": {
      "model_module": "@jupyter-widgets/base",
      "model_module_version": "1.0.0",
      "model_name": "LayoutModel",
      "state": {}
     },
     "f9f5d2f0ff404ed3b3d7ca3227bf5b33": {
      "model_module": "jupyter-js-widgets",
      "model_module_version": "~2.1.4",
      "model_name": "FloatSliderModel",
      "state": {
       "_model_module_version": "~2.1.4",
       "_view_module_version": "~2.1.4",
       "description": "phi_2",
       "layout": "IPY_MODEL_9bd9a439ea5140d498028081bbfe0ca6",
       "max": 6.3,
       "min": -6.3,
       "step": 0.1
      }
     },
     "fb9b3483202c4a72817d0e6630b6d895": {
      "model_module": "@jupyter-widgets/base",
      "model_module_version": "1.0.0",
      "model_name": "LayoutModel",
      "state": {}
     }
    },
    "version_major": 2,
    "version_minor": 0
   }
  }
 },
 "nbformat": 4,
 "nbformat_minor": 2
}
