{
 "cells": [
  {
   "cell_type": "markdown",
   "metadata": {
    "slideshow": {
     "slide_type": "slide"
    }
   },
   "source": [
    "# Interactive plotting with ipywidgets\n",
    "\n",
    "When **this notebook is opened**, then select in the menu, Kernel -> Restart & Run all.<br>\n",
    "This is to refresh the widgets.\n",
    "\n",
    "* [This noteboook is available at github.com/tlinnet/mybinder_relax](https://github.com/tlinnet/mybinder_relax/blob/master/plot_sin2.ipynb)\n",
    "\n",
    "* [The widgets can be seen at mybinder.org by clicking here](https://mybinder.org/v2/gh/tlinnet/mybinder_relax/master?filepath=plot_sin2.ipynb)\n",
    "\n",
    "This is an illustration of a [damped sine wave](https://en.wikipedia.org/wiki/Damped_sine_wave)."
   ]
  },
  {
   "cell_type": "markdown",
   "metadata": {
    "slideshow": {
     "slide_type": "skip"
    }
   },
   "source": [
    "# Table of contents\n",
    "\n",
    "* [import of code](#importcode)\n",
    "* [Functions](#func)\n",
    "* [Damped sine wave widget](#sin_widget)"
   ]
  },
  {
   "cell_type": "markdown",
   "metadata": {
    "slideshow": {
     "slide_type": "slide"
    }
   },
   "source": [
    "# Import <a name=\"importcode\"></a>"
   ]
  },
  {
   "cell_type": "code",
   "execution_count": 1,
   "metadata": {
    "slideshow": {
     "slide_type": "-"
    }
   },
   "outputs": [],
   "source": [
    "# Import python packages\n",
    "import numpy as np\n",
    "# Set backend. This must be done before importing.\n",
    "%matplotlib notebook\n",
    "import matplotlib.pylab as plt\n",
    "\n",
    "# Widgets\n",
    "import ipywidgets as w"
   ]
  },
  {
   "cell_type": "markdown",
   "metadata": {
    "slideshow": {
     "slide_type": "slide"
    }
   },
   "source": [
    "# Functions <a name=\"func\"></a>\n",
    "$$y(t) = A \\cdot e^{-\\lambda t} \\cdot \\cos{(\\omega t + \\phi)} $$"
   ]
  },
  {
   "cell_type": "code",
   "execution_count": 2,
   "metadata": {
    "slideshow": {
     "slide_type": "-"
    }
   },
   "outputs": [],
   "source": [
    "def sin_calc(xt=None, A=None, l=None, o=None, p=None):\n",
    "    \"\"\"\n",
    "    @keyword xt:        The array of time points.\n",
    "    @keyword A:         The initial amplitude of the envelope.\n",
    "    @keyword l:         l=lambda, the decay constant, in the reciprocal of the time units of the X axis.\n",
    "    @keyword o:         o=omega, the angular frequency.\n",
    "    @keyword p:         p=phi, the phase angle at some arbitrary point.\n",
    "    \"\"\"\n",
    "    # Calculate y\n",
    "    y = A*np.exp(-l*xt)*np.cos(o*xt+p)\n",
    "    return y"
   ]
  },
  {
   "cell_type": "code",
   "execution_count": 9,
   "metadata": {
    "slideshow": {
     "slide_type": "slide"
    }
   },
   "outputs": [],
   "source": [
    "def sin_plot(fig=None, ax=None, \n",
    "                Amp_1=1., lambda_1=1., omega_1=2*np.pi, phi_1=0,\n",
    "                Amp_2=1.5, lambda_2=0.5, omega_2=2*np.pi, phi_2=0\n",
    "            ):\n",
    "    \"\"\"\n",
    "    @keyword fig:       The matplotlib figure.\n",
    "    @keyword ax:        The matplotlib axis to plot on.\n",
    "    @keyword Amp:       The initial amplitude of the envelope.\n",
    "    @keyword lambd:     lambda, the decay constant, in the reciprocal of the time units of the X axis.\n",
    "    @keyword omega:     omega, the angular frequency.\n",
    "    @keyword phi:       phi, the phase angle at some arbitrary point.\n",
    "    \"\"\"\n",
    "    # Make array of time points\n",
    "    xt = np.linspace(0, 5, num=1000)\n",
    "\n",
    "    # Gety values\n",
    "    y_1 = sin_calc(xt=xt, A=Amp_1, l=lambda_1, o=omega_1, p=phi_1)\n",
    "    y_2 = sin_calc(xt=xt, A=Amp_2, l=lambda_2, o=omega_2, p=phi_2)\n",
    "    \n",
    "    # Make label\n",
    "    label_1 = \"A=%.1f \\n$\\lambda$=%.1f \\n$\\omega$=%.1f \\n$\\phi$=%.1f\"%(Amp_1, lambda_1, omega_1, phi_1)\n",
    "    label_2 = \"A=%.1f \\n$\\lambda$=%.1f \\n$\\omega$=%.1f \\n$\\phi$=%.1f\"%(Amp_2, lambda_2, omega_2, phi_2)\n",
    "\n",
    "    # First clear axes\n",
    "    ax.clear()\n",
    "    \n",
    "    # Plot\n",
    "    ax.plot(xt, y_1, label=label_1)\n",
    "    ax.plot(xt, y_2, label=label_2)\n",
    "    # Set labels\n",
    "    ax.set_xlabel(\"Amplitude\")\n",
    "    ax.set_ylabel(\"Time\")\n",
    "\n",
    "    # Set axis limits\n",
    "    p_ylim_up = ax.get_ylim()[-1]\n",
    "    # Round up to nearest 2\n",
    "    p_ylim_up = p_ylim_up + (- p_ylim_up % 2 )\n",
    "    ax.set_ylim(-p_ylim_up, p_ylim_up)\n",
    "    # x_lim does not change\n",
    "    ax.set_xlim(xt[0], xt[-1])\n",
    "    ax.legend(loc='best', fontsize=6)\n",
    "\n",
    "    return fig"
   ]
  },
  {
   "cell_type": "markdown",
   "metadata": {
    "slideshow": {
     "slide_type": "slide"
    }
   },
   "source": [
    "# Damped sine wave <a name=\"sin_widget\"></a>"
   ]
  },
  {
   "cell_type": "code",
   "execution_count": 12,
   "metadata": {
    "slideshow": {
     "slide_type": "-"
    }
   },
   "outputs": [],
   "source": [
    "def make_widget_2():\n",
    "    # Create figure\n",
    "    fig, ax = plt.subplots(1, figsize=(10, 4))\n",
    "    # Create for first graph\n",
    "    A1 = w.FloatSlider(value=1.0, description='A 1', max=5.0, min=0.1)\n",
    "    l1 = w.FloatSlider(value=1.0, description=r'\\(\\lambda\\) 1', max=5.0)\n",
    "    o1 = w.FloatSlider(value=2*np.pi, description=r'\\(\\omega\\) 1', max=4*np.pi)\n",
    "    p1 = w.FloatSlider(value=0.0, description=r'\\(\\phi\\) 1', max=round(2*np.pi, 1), min=-round(2*np.pi, 1))\n",
    "    # Create for second graph\n",
    "    Amp_2 = w.FloatSlider(value=1.5, description='A 2', max=5.0, min=0.1)\n",
    "    l2 = w.FloatSlider(value=0.5, description=r'\\(\\lambda\\) 2', max=5.0)\n",
    "    o2 = w.FloatSlider(value=2*np.pi, description=r'\\(\\omega\\) 2', max=4*np.pi)\n",
    "    p2 = w.FloatSlider(value=0.0, description=r'\\(\\phi\\) 2', max=round(2*np.pi, 1), min=-round(2*np.pi, 1))\n",
    "    # Put sliders under each other\n",
    "    sliders_1 = w.VBox([A1, l1, o1, p1])\n",
    "    sliders_2 = w.VBox([Amp_2, l2, o2, p2])\n",
    "    # Put next to each other\n",
    "    ui = w.HBox([sliders_1, sliders_2])\n",
    "    # Match input variables with sliders\n",
    "    d = {'fig': w.fixed(fig), 'ax': w.fixed(ax),\n",
    "         'Amp_1': A1, 'lambda_1': l1,  'omega_1': o1, 'phi_1': p1, \n",
    "         'Amp_2': Amp_2, 'lambda_2': l2, 'omega_2': o2, 'phi_2': p2, }\n",
    "    # Get the output figure\n",
    "    out = w.interactive_output(sin_plot, d)\n",
    "    # Make new widget box\n",
    "\n",
    "    return ui, out"
   ]
  },
  {
   "cell_type": "code",
   "execution_count": 15,
   "metadata": {
    "slideshow": {
     "slide_type": "slide"
    }
   },
   "outputs": [
    {
     "data": {
      "application/javascript": [
       "/* Put everything inside the global mpl namespace */\n",
       "window.mpl = {};\n",
       "\n",
       "\n",
       "mpl.get_websocket_type = function() {\n",
       "    if (typeof(WebSocket) !== 'undefined') {\n",
       "        return WebSocket;\n",
       "    } else if (typeof(MozWebSocket) !== 'undefined') {\n",
       "        return MozWebSocket;\n",
       "    } else {\n",
       "        alert('Your browser does not have WebSocket support.' +\n",
       "              'Please try Chrome, Safari or Firefox ≥ 6. ' +\n",
       "              'Firefox 4 and 5 are also supported but you ' +\n",
       "              'have to enable WebSockets in about:config.');\n",
       "    };\n",
       "}\n",
       "\n",
       "mpl.figure = function(figure_id, websocket, ondownload, parent_element) {\n",
       "    this.id = figure_id;\n",
       "\n",
       "    this.ws = websocket;\n",
       "\n",
       "    this.supports_binary = (this.ws.binaryType != undefined);\n",
       "\n",
       "    if (!this.supports_binary) {\n",
       "        var warnings = document.getElementById(\"mpl-warnings\");\n",
       "        if (warnings) {\n",
       "            warnings.style.display = 'block';\n",
       "            warnings.textContent = (\n",
       "                \"This browser does not support binary websocket messages. \" +\n",
       "                    \"Performance may be slow.\");\n",
       "        }\n",
       "    }\n",
       "\n",
       "    this.imageObj = new Image();\n",
       "\n",
       "    this.context = undefined;\n",
       "    this.message = undefined;\n",
       "    this.canvas = undefined;\n",
       "    this.rubberband_canvas = undefined;\n",
       "    this.rubberband_context = undefined;\n",
       "    this.format_dropdown = undefined;\n",
       "\n",
       "    this.image_mode = 'full';\n",
       "\n",
       "    this.root = $('<div/>');\n",
       "    this._root_extra_style(this.root)\n",
       "    this.root.attr('style', 'display: inline-block');\n",
       "\n",
       "    $(parent_element).append(this.root);\n",
       "\n",
       "    this._init_header(this);\n",
       "    this._init_canvas(this);\n",
       "    this._init_toolbar(this);\n",
       "\n",
       "    var fig = this;\n",
       "\n",
       "    this.waiting = false;\n",
       "\n",
       "    this.ws.onopen =  function () {\n",
       "            fig.send_message(\"supports_binary\", {value: fig.supports_binary});\n",
       "            fig.send_message(\"send_image_mode\", {});\n",
       "            if (mpl.ratio != 1) {\n",
       "                fig.send_message(\"set_dpi_ratio\", {'dpi_ratio': mpl.ratio});\n",
       "            }\n",
       "            fig.send_message(\"refresh\", {});\n",
       "        }\n",
       "\n",
       "    this.imageObj.onload = function() {\n",
       "            if (fig.image_mode == 'full') {\n",
       "                // Full images could contain transparency (where diff images\n",
       "                // almost always do), so we need to clear the canvas so that\n",
       "                // there is no ghosting.\n",
       "                fig.context.clearRect(0, 0, fig.canvas.width, fig.canvas.height);\n",
       "            }\n",
       "            fig.context.drawImage(fig.imageObj, 0, 0);\n",
       "        };\n",
       "\n",
       "    this.imageObj.onunload = function() {\n",
       "        this.ws.close();\n",
       "    }\n",
       "\n",
       "    this.ws.onmessage = this._make_on_message_function(this);\n",
       "\n",
       "    this.ondownload = ondownload;\n",
       "}\n",
       "\n",
       "mpl.figure.prototype._init_header = function() {\n",
       "    var titlebar = $(\n",
       "        '<div class=\"ui-dialog-titlebar ui-widget-header ui-corner-all ' +\n",
       "        'ui-helper-clearfix\"/>');\n",
       "    var titletext = $(\n",
       "        '<div class=\"ui-dialog-title\" style=\"width: 100%; ' +\n",
       "        'text-align: center; padding: 3px;\"/>');\n",
       "    titlebar.append(titletext)\n",
       "    this.root.append(titlebar);\n",
       "    this.header = titletext[0];\n",
       "}\n",
       "\n",
       "\n",
       "\n",
       "mpl.figure.prototype._canvas_extra_style = function(canvas_div) {\n",
       "\n",
       "}\n",
       "\n",
       "\n",
       "mpl.figure.prototype._root_extra_style = function(canvas_div) {\n",
       "\n",
       "}\n",
       "\n",
       "mpl.figure.prototype._init_canvas = function() {\n",
       "    var fig = this;\n",
       "\n",
       "    var canvas_div = $('<div/>');\n",
       "\n",
       "    canvas_div.attr('style', 'position: relative; clear: both; outline: 0');\n",
       "\n",
       "    function canvas_keyboard_event(event) {\n",
       "        return fig.key_event(event, event['data']);\n",
       "    }\n",
       "\n",
       "    canvas_div.keydown('key_press', canvas_keyboard_event);\n",
       "    canvas_div.keyup('key_release', canvas_keyboard_event);\n",
       "    this.canvas_div = canvas_div\n",
       "    this._canvas_extra_style(canvas_div)\n",
       "    this.root.append(canvas_div);\n",
       "\n",
       "    var canvas = $('<canvas/>');\n",
       "    canvas.addClass('mpl-canvas');\n",
       "    canvas.attr('style', \"left: 0; top: 0; z-index: 0; outline: 0\")\n",
       "\n",
       "    this.canvas = canvas[0];\n",
       "    this.context = canvas[0].getContext(\"2d\");\n",
       "\n",
       "    var backingStore = this.context.backingStorePixelRatio ||\n",
       "\tthis.context.webkitBackingStorePixelRatio ||\n",
       "\tthis.context.mozBackingStorePixelRatio ||\n",
       "\tthis.context.msBackingStorePixelRatio ||\n",
       "\tthis.context.oBackingStorePixelRatio ||\n",
       "\tthis.context.backingStorePixelRatio || 1;\n",
       "\n",
       "    mpl.ratio = (window.devicePixelRatio || 1) / backingStore;\n",
       "\n",
       "    var rubberband = $('<canvas/>');\n",
       "    rubberband.attr('style', \"position: absolute; left: 0; top: 0; z-index: 1;\")\n",
       "\n",
       "    var pass_mouse_events = true;\n",
       "\n",
       "    canvas_div.resizable({\n",
       "        start: function(event, ui) {\n",
       "            pass_mouse_events = false;\n",
       "        },\n",
       "        resize: function(event, ui) {\n",
       "            fig.request_resize(ui.size.width, ui.size.height);\n",
       "        },\n",
       "        stop: function(event, ui) {\n",
       "            pass_mouse_events = true;\n",
       "            fig.request_resize(ui.size.width, ui.size.height);\n",
       "        },\n",
       "    });\n",
       "\n",
       "    function mouse_event_fn(event) {\n",
       "        if (pass_mouse_events)\n",
       "            return fig.mouse_event(event, event['data']);\n",
       "    }\n",
       "\n",
       "    rubberband.mousedown('button_press', mouse_event_fn);\n",
       "    rubberband.mouseup('button_release', mouse_event_fn);\n",
       "    // Throttle sequential mouse events to 1 every 20ms.\n",
       "    rubberband.mousemove('motion_notify', mouse_event_fn);\n",
       "\n",
       "    rubberband.mouseenter('figure_enter', mouse_event_fn);\n",
       "    rubberband.mouseleave('figure_leave', mouse_event_fn);\n",
       "\n",
       "    canvas_div.on(\"wheel\", function (event) {\n",
       "        event = event.originalEvent;\n",
       "        event['data'] = 'scroll'\n",
       "        if (event.deltaY < 0) {\n",
       "            event.step = 1;\n",
       "        } else {\n",
       "            event.step = -1;\n",
       "        }\n",
       "        mouse_event_fn(event);\n",
       "    });\n",
       "\n",
       "    canvas_div.append(canvas);\n",
       "    canvas_div.append(rubberband);\n",
       "\n",
       "    this.rubberband = rubberband;\n",
       "    this.rubberband_canvas = rubberband[0];\n",
       "    this.rubberband_context = rubberband[0].getContext(\"2d\");\n",
       "    this.rubberband_context.strokeStyle = \"#000000\";\n",
       "\n",
       "    this._resize_canvas = function(width, height) {\n",
       "        // Keep the size of the canvas, canvas container, and rubber band\n",
       "        // canvas in synch.\n",
       "        canvas_div.css('width', width)\n",
       "        canvas_div.css('height', height)\n",
       "\n",
       "        canvas.attr('width', width * mpl.ratio);\n",
       "        canvas.attr('height', height * mpl.ratio);\n",
       "        canvas.attr('style', 'width: ' + width + 'px; height: ' + height + 'px;');\n",
       "\n",
       "        rubberband.attr('width', width);\n",
       "        rubberband.attr('height', height);\n",
       "    }\n",
       "\n",
       "    // Set the figure to an initial 600x600px, this will subsequently be updated\n",
       "    // upon first draw.\n",
       "    this._resize_canvas(600, 600);\n",
       "\n",
       "    // Disable right mouse context menu.\n",
       "    $(this.rubberband_canvas).bind(\"contextmenu\",function(e){\n",
       "        return false;\n",
       "    });\n",
       "\n",
       "    function set_focus () {\n",
       "        canvas.focus();\n",
       "        canvas_div.focus();\n",
       "    }\n",
       "\n",
       "    window.setTimeout(set_focus, 100);\n",
       "}\n",
       "\n",
       "mpl.figure.prototype._init_toolbar = function() {\n",
       "    var fig = this;\n",
       "\n",
       "    var nav_element = $('<div/>')\n",
       "    nav_element.attr('style', 'width: 100%');\n",
       "    this.root.append(nav_element);\n",
       "\n",
       "    // Define a callback function for later on.\n",
       "    function toolbar_event(event) {\n",
       "        return fig.toolbar_button_onclick(event['data']);\n",
       "    }\n",
       "    function toolbar_mouse_event(event) {\n",
       "        return fig.toolbar_button_onmouseover(event['data']);\n",
       "    }\n",
       "\n",
       "    for(var toolbar_ind in mpl.toolbar_items) {\n",
       "        var name = mpl.toolbar_items[toolbar_ind][0];\n",
       "        var tooltip = mpl.toolbar_items[toolbar_ind][1];\n",
       "        var image = mpl.toolbar_items[toolbar_ind][2];\n",
       "        var method_name = mpl.toolbar_items[toolbar_ind][3];\n",
       "\n",
       "        if (!name) {\n",
       "            // put a spacer in here.\n",
       "            continue;\n",
       "        }\n",
       "        var button = $('<button/>');\n",
       "        button.addClass('ui-button ui-widget ui-state-default ui-corner-all ' +\n",
       "                        'ui-button-icon-only');\n",
       "        button.attr('role', 'button');\n",
       "        button.attr('aria-disabled', 'false');\n",
       "        button.click(method_name, toolbar_event);\n",
       "        button.mouseover(tooltip, toolbar_mouse_event);\n",
       "\n",
       "        var icon_img = $('<span/>');\n",
       "        icon_img.addClass('ui-button-icon-primary ui-icon');\n",
       "        icon_img.addClass(image);\n",
       "        icon_img.addClass('ui-corner-all');\n",
       "\n",
       "        var tooltip_span = $('<span/>');\n",
       "        tooltip_span.addClass('ui-button-text');\n",
       "        tooltip_span.html(tooltip);\n",
       "\n",
       "        button.append(icon_img);\n",
       "        button.append(tooltip_span);\n",
       "\n",
       "        nav_element.append(button);\n",
       "    }\n",
       "\n",
       "    var fmt_picker_span = $('<span/>');\n",
       "\n",
       "    var fmt_picker = $('<select/>');\n",
       "    fmt_picker.addClass('mpl-toolbar-option ui-widget ui-widget-content');\n",
       "    fmt_picker_span.append(fmt_picker);\n",
       "    nav_element.append(fmt_picker_span);\n",
       "    this.format_dropdown = fmt_picker[0];\n",
       "\n",
       "    for (var ind in mpl.extensions) {\n",
       "        var fmt = mpl.extensions[ind];\n",
       "        var option = $(\n",
       "            '<option/>', {selected: fmt === mpl.default_extension}).html(fmt);\n",
       "        fmt_picker.append(option)\n",
       "    }\n",
       "\n",
       "    // Add hover states to the ui-buttons\n",
       "    $( \".ui-button\" ).hover(\n",
       "        function() { $(this).addClass(\"ui-state-hover\");},\n",
       "        function() { $(this).removeClass(\"ui-state-hover\");}\n",
       "    );\n",
       "\n",
       "    var status_bar = $('<span class=\"mpl-message\"/>');\n",
       "    nav_element.append(status_bar);\n",
       "    this.message = status_bar[0];\n",
       "}\n",
       "\n",
       "mpl.figure.prototype.request_resize = function(x_pixels, y_pixels) {\n",
       "    // Request matplotlib to resize the figure. Matplotlib will then trigger a resize in the client,\n",
       "    // which will in turn request a refresh of the image.\n",
       "    this.send_message('resize', {'width': x_pixels, 'height': y_pixels});\n",
       "}\n",
       "\n",
       "mpl.figure.prototype.send_message = function(type, properties) {\n",
       "    properties['type'] = type;\n",
       "    properties['figure_id'] = this.id;\n",
       "    this.ws.send(JSON.stringify(properties));\n",
       "}\n",
       "\n",
       "mpl.figure.prototype.send_draw_message = function() {\n",
       "    if (!this.waiting) {\n",
       "        this.waiting = true;\n",
       "        this.ws.send(JSON.stringify({type: \"draw\", figure_id: this.id}));\n",
       "    }\n",
       "}\n",
       "\n",
       "\n",
       "mpl.figure.prototype.handle_save = function(fig, msg) {\n",
       "    var format_dropdown = fig.format_dropdown;\n",
       "    var format = format_dropdown.options[format_dropdown.selectedIndex].value;\n",
       "    fig.ondownload(fig, format);\n",
       "}\n",
       "\n",
       "\n",
       "mpl.figure.prototype.handle_resize = function(fig, msg) {\n",
       "    var size = msg['size'];\n",
       "    if (size[0] != fig.canvas.width || size[1] != fig.canvas.height) {\n",
       "        fig._resize_canvas(size[0], size[1]);\n",
       "        fig.send_message(\"refresh\", {});\n",
       "    };\n",
       "}\n",
       "\n",
       "mpl.figure.prototype.handle_rubberband = function(fig, msg) {\n",
       "    var x0 = msg['x0'] / mpl.ratio;\n",
       "    var y0 = (fig.canvas.height - msg['y0']) / mpl.ratio;\n",
       "    var x1 = msg['x1'] / mpl.ratio;\n",
       "    var y1 = (fig.canvas.height - msg['y1']) / mpl.ratio;\n",
       "    x0 = Math.floor(x0) + 0.5;\n",
       "    y0 = Math.floor(y0) + 0.5;\n",
       "    x1 = Math.floor(x1) + 0.5;\n",
       "    y1 = Math.floor(y1) + 0.5;\n",
       "    var min_x = Math.min(x0, x1);\n",
       "    var min_y = Math.min(y0, y1);\n",
       "    var width = Math.abs(x1 - x0);\n",
       "    var height = Math.abs(y1 - y0);\n",
       "\n",
       "    fig.rubberband_context.clearRect(\n",
       "        0, 0, fig.canvas.width, fig.canvas.height);\n",
       "\n",
       "    fig.rubberband_context.strokeRect(min_x, min_y, width, height);\n",
       "}\n",
       "\n",
       "mpl.figure.prototype.handle_figure_label = function(fig, msg) {\n",
       "    // Updates the figure title.\n",
       "    fig.header.textContent = msg['label'];\n",
       "}\n",
       "\n",
       "mpl.figure.prototype.handle_cursor = function(fig, msg) {\n",
       "    var cursor = msg['cursor'];\n",
       "    switch(cursor)\n",
       "    {\n",
       "    case 0:\n",
       "        cursor = 'pointer';\n",
       "        break;\n",
       "    case 1:\n",
       "        cursor = 'default';\n",
       "        break;\n",
       "    case 2:\n",
       "        cursor = 'crosshair';\n",
       "        break;\n",
       "    case 3:\n",
       "        cursor = 'move';\n",
       "        break;\n",
       "    }\n",
       "    fig.rubberband_canvas.style.cursor = cursor;\n",
       "}\n",
       "\n",
       "mpl.figure.prototype.handle_message = function(fig, msg) {\n",
       "    fig.message.textContent = msg['message'];\n",
       "}\n",
       "\n",
       "mpl.figure.prototype.handle_draw = function(fig, msg) {\n",
       "    // Request the server to send over a new figure.\n",
       "    fig.send_draw_message();\n",
       "}\n",
       "\n",
       "mpl.figure.prototype.handle_image_mode = function(fig, msg) {\n",
       "    fig.image_mode = msg['mode'];\n",
       "}\n",
       "\n",
       "mpl.figure.prototype.updated_canvas_event = function() {\n",
       "    // Called whenever the canvas gets updated.\n",
       "    this.send_message(\"ack\", {});\n",
       "}\n",
       "\n",
       "// A function to construct a web socket function for onmessage handling.\n",
       "// Called in the figure constructor.\n",
       "mpl.figure.prototype._make_on_message_function = function(fig) {\n",
       "    return function socket_on_message(evt) {\n",
       "        if (evt.data instanceof Blob) {\n",
       "            /* FIXME: We get \"Resource interpreted as Image but\n",
       "             * transferred with MIME type text/plain:\" errors on\n",
       "             * Chrome.  But how to set the MIME type?  It doesn't seem\n",
       "             * to be part of the websocket stream */\n",
       "            evt.data.type = \"image/png\";\n",
       "\n",
       "            /* Free the memory for the previous frames */\n",
       "            if (fig.imageObj.src) {\n",
       "                (window.URL || window.webkitURL).revokeObjectURL(\n",
       "                    fig.imageObj.src);\n",
       "            }\n",
       "\n",
       "            fig.imageObj.src = (window.URL || window.webkitURL).createObjectURL(\n",
       "                evt.data);\n",
       "            fig.updated_canvas_event();\n",
       "            fig.waiting = false;\n",
       "            return;\n",
       "        }\n",
       "        else if (typeof evt.data === 'string' && evt.data.slice(0, 21) == \"data:image/png;base64\") {\n",
       "            fig.imageObj.src = evt.data;\n",
       "            fig.updated_canvas_event();\n",
       "            fig.waiting = false;\n",
       "            return;\n",
       "        }\n",
       "\n",
       "        var msg = JSON.parse(evt.data);\n",
       "        var msg_type = msg['type'];\n",
       "\n",
       "        // Call the  \"handle_{type}\" callback, which takes\n",
       "        // the figure and JSON message as its only arguments.\n",
       "        try {\n",
       "            var callback = fig[\"handle_\" + msg_type];\n",
       "        } catch (e) {\n",
       "            console.log(\"No handler for the '\" + msg_type + \"' message type: \", msg);\n",
       "            return;\n",
       "        }\n",
       "\n",
       "        if (callback) {\n",
       "            try {\n",
       "                // console.log(\"Handling '\" + msg_type + \"' message: \", msg);\n",
       "                callback(fig, msg);\n",
       "            } catch (e) {\n",
       "                console.log(\"Exception inside the 'handler_\" + msg_type + \"' callback:\", e, e.stack, msg);\n",
       "            }\n",
       "        }\n",
       "    };\n",
       "}\n",
       "\n",
       "// from http://stackoverflow.com/questions/1114465/getting-mouse-location-in-canvas\n",
       "mpl.findpos = function(e) {\n",
       "    //this section is from http://www.quirksmode.org/js/events_properties.html\n",
       "    var targ;\n",
       "    if (!e)\n",
       "        e = window.event;\n",
       "    if (e.target)\n",
       "        targ = e.target;\n",
       "    else if (e.srcElement)\n",
       "        targ = e.srcElement;\n",
       "    if (targ.nodeType == 3) // defeat Safari bug\n",
       "        targ = targ.parentNode;\n",
       "\n",
       "    // jQuery normalizes the pageX and pageY\n",
       "    // pageX,Y are the mouse positions relative to the document\n",
       "    // offset() returns the position of the element relative to the document\n",
       "    var x = e.pageX - $(targ).offset().left;\n",
       "    var y = e.pageY - $(targ).offset().top;\n",
       "\n",
       "    return {\"x\": x, \"y\": y};\n",
       "};\n",
       "\n",
       "/*\n",
       " * return a copy of an object with only non-object keys\n",
       " * we need this to avoid circular references\n",
       " * http://stackoverflow.com/a/24161582/3208463\n",
       " */\n",
       "function simpleKeys (original) {\n",
       "  return Object.keys(original).reduce(function (obj, key) {\n",
       "    if (typeof original[key] !== 'object')\n",
       "        obj[key] = original[key]\n",
       "    return obj;\n",
       "  }, {});\n",
       "}\n",
       "\n",
       "mpl.figure.prototype.mouse_event = function(event, name) {\n",
       "    var canvas_pos = mpl.findpos(event)\n",
       "\n",
       "    if (name === 'button_press')\n",
       "    {\n",
       "        this.canvas.focus();\n",
       "        this.canvas_div.focus();\n",
       "    }\n",
       "\n",
       "    var x = canvas_pos.x * mpl.ratio;\n",
       "    var y = canvas_pos.y * mpl.ratio;\n",
       "\n",
       "    this.send_message(name, {x: x, y: y, button: event.button,\n",
       "                             step: event.step,\n",
       "                             guiEvent: simpleKeys(event)});\n",
       "\n",
       "    /* This prevents the web browser from automatically changing to\n",
       "     * the text insertion cursor when the button is pressed.  We want\n",
       "     * to control all of the cursor setting manually through the\n",
       "     * 'cursor' event from matplotlib */\n",
       "    event.preventDefault();\n",
       "    return false;\n",
       "}\n",
       "\n",
       "mpl.figure.prototype._key_event_extra = function(event, name) {\n",
       "    // Handle any extra behaviour associated with a key event\n",
       "}\n",
       "\n",
       "mpl.figure.prototype.key_event = function(event, name) {\n",
       "\n",
       "    // Prevent repeat events\n",
       "    if (name == 'key_press')\n",
       "    {\n",
       "        if (event.which === this._key)\n",
       "            return;\n",
       "        else\n",
       "            this._key = event.which;\n",
       "    }\n",
       "    if (name == 'key_release')\n",
       "        this._key = null;\n",
       "\n",
       "    var value = '';\n",
       "    if (event.ctrlKey && event.which != 17)\n",
       "        value += \"ctrl+\";\n",
       "    if (event.altKey && event.which != 18)\n",
       "        value += \"alt+\";\n",
       "    if (event.shiftKey && event.which != 16)\n",
       "        value += \"shift+\";\n",
       "\n",
       "    value += 'k';\n",
       "    value += event.which.toString();\n",
       "\n",
       "    this._key_event_extra(event, name);\n",
       "\n",
       "    this.send_message(name, {key: value,\n",
       "                             guiEvent: simpleKeys(event)});\n",
       "    return false;\n",
       "}\n",
       "\n",
       "mpl.figure.prototype.toolbar_button_onclick = function(name) {\n",
       "    if (name == 'download') {\n",
       "        this.handle_save(this, null);\n",
       "    } else {\n",
       "        this.send_message(\"toolbar_button\", {name: name});\n",
       "    }\n",
       "};\n",
       "\n",
       "mpl.figure.prototype.toolbar_button_onmouseover = function(tooltip) {\n",
       "    this.message.textContent = tooltip;\n",
       "};\n",
       "mpl.toolbar_items = [[\"Home\", \"Reset original view\", \"fa fa-home icon-home\", \"home\"], [\"Back\", \"Back to  previous view\", \"fa fa-arrow-left icon-arrow-left\", \"back\"], [\"Forward\", \"Forward to next view\", \"fa fa-arrow-right icon-arrow-right\", \"forward\"], [\"\", \"\", \"\", \"\"], [\"Pan\", \"Pan axes with left mouse, zoom with right\", \"fa fa-arrows icon-move\", \"pan\"], [\"Zoom\", \"Zoom to rectangle\", \"fa fa-square-o icon-check-empty\", \"zoom\"], [\"\", \"\", \"\", \"\"], [\"Download\", \"Download plot\", \"fa fa-floppy-o icon-save\", \"download\"]];\n",
       "\n",
       "mpl.extensions = [\"eps\", \"jpeg\", \"pdf\", \"png\", \"ps\", \"raw\", \"svg\", \"tif\"];\n",
       "\n",
       "mpl.default_extension = \"png\";var comm_websocket_adapter = function(comm) {\n",
       "    // Create a \"websocket\"-like object which calls the given IPython comm\n",
       "    // object with the appropriate methods. Currently this is a non binary\n",
       "    // socket, so there is still some room for performance tuning.\n",
       "    var ws = {};\n",
       "\n",
       "    ws.close = function() {\n",
       "        comm.close()\n",
       "    };\n",
       "    ws.send = function(m) {\n",
       "        //console.log('sending', m);\n",
       "        comm.send(m);\n",
       "    };\n",
       "    // Register the callback with on_msg.\n",
       "    comm.on_msg(function(msg) {\n",
       "        //console.log('receiving', msg['content']['data'], msg);\n",
       "        // Pass the mpl event to the overriden (by mpl) onmessage function.\n",
       "        ws.onmessage(msg['content']['data'])\n",
       "    });\n",
       "    return ws;\n",
       "}\n",
       "\n",
       "mpl.mpl_figure_comm = function(comm, msg) {\n",
       "    // This is the function which gets called when the mpl process\n",
       "    // starts-up an IPython Comm through the \"matplotlib\" channel.\n",
       "\n",
       "    var id = msg.content.data.id;\n",
       "    // Get hold of the div created by the display call when the Comm\n",
       "    // socket was opened in Python.\n",
       "    var element = $(\"#\" + id);\n",
       "    var ws_proxy = comm_websocket_adapter(comm)\n",
       "\n",
       "    function ondownload(figure, format) {\n",
       "        window.open(figure.imageObj.src);\n",
       "    }\n",
       "\n",
       "    var fig = new mpl.figure(id, ws_proxy,\n",
       "                           ondownload,\n",
       "                           element.get(0));\n",
       "\n",
       "    // Call onopen now - mpl needs it, as it is assuming we've passed it a real\n",
       "    // web socket which is closed, not our websocket->open comm proxy.\n",
       "    ws_proxy.onopen();\n",
       "\n",
       "    fig.parent_element = element.get(0);\n",
       "    fig.cell_info = mpl.find_output_cell(\"<div id='\" + id + \"'></div>\");\n",
       "    if (!fig.cell_info) {\n",
       "        console.error(\"Failed to find cell for figure\", id, fig);\n",
       "        return;\n",
       "    }\n",
       "\n",
       "    var output_index = fig.cell_info[2]\n",
       "    var cell = fig.cell_info[0];\n",
       "\n",
       "};\n",
       "\n",
       "mpl.figure.prototype.handle_close = function(fig, msg) {\n",
       "    var width = fig.canvas.width/mpl.ratio\n",
       "    fig.root.unbind('remove')\n",
       "\n",
       "    // Update the output cell to use the data from the current canvas.\n",
       "    fig.push_to_output();\n",
       "    var dataURL = fig.canvas.toDataURL();\n",
       "    // Re-enable the keyboard manager in IPython - without this line, in FF,\n",
       "    // the notebook keyboard shortcuts fail.\n",
       "    IPython.keyboard_manager.enable()\n",
       "    $(fig.parent_element).html('<img src=\"' + dataURL + '\" width=\"' + width + '\">');\n",
       "    fig.close_ws(fig, msg);\n",
       "}\n",
       "\n",
       "mpl.figure.prototype.close_ws = function(fig, msg){\n",
       "    fig.send_message('closing', msg);\n",
       "    // fig.ws.close()\n",
       "}\n",
       "\n",
       "mpl.figure.prototype.push_to_output = function(remove_interactive) {\n",
       "    // Turn the data on the canvas into data in the output cell.\n",
       "    var width = this.canvas.width/mpl.ratio\n",
       "    var dataURL = this.canvas.toDataURL();\n",
       "    this.cell_info[1]['text/html'] = '<img src=\"' + dataURL + '\" width=\"' + width + '\">';\n",
       "}\n",
       "\n",
       "mpl.figure.prototype.updated_canvas_event = function() {\n",
       "    // Tell IPython that the notebook contents must change.\n",
       "    IPython.notebook.set_dirty(true);\n",
       "    this.send_message(\"ack\", {});\n",
       "    var fig = this;\n",
       "    // Wait a second, then push the new image to the DOM so\n",
       "    // that it is saved nicely (might be nice to debounce this).\n",
       "    setTimeout(function () { fig.push_to_output() }, 1000);\n",
       "}\n",
       "\n",
       "mpl.figure.prototype._init_toolbar = function() {\n",
       "    var fig = this;\n",
       "\n",
       "    var nav_element = $('<div/>')\n",
       "    nav_element.attr('style', 'width: 100%');\n",
       "    this.root.append(nav_element);\n",
       "\n",
       "    // Define a callback function for later on.\n",
       "    function toolbar_event(event) {\n",
       "        return fig.toolbar_button_onclick(event['data']);\n",
       "    }\n",
       "    function toolbar_mouse_event(event) {\n",
       "        return fig.toolbar_button_onmouseover(event['data']);\n",
       "    }\n",
       "\n",
       "    for(var toolbar_ind in mpl.toolbar_items){\n",
       "        var name = mpl.toolbar_items[toolbar_ind][0];\n",
       "        var tooltip = mpl.toolbar_items[toolbar_ind][1];\n",
       "        var image = mpl.toolbar_items[toolbar_ind][2];\n",
       "        var method_name = mpl.toolbar_items[toolbar_ind][3];\n",
       "\n",
       "        if (!name) { continue; };\n",
       "\n",
       "        var button = $('<button class=\"btn btn-default\" href=\"#\" title=\"' + name + '\"><i class=\"fa ' + image + ' fa-lg\"></i></button>');\n",
       "        button.click(method_name, toolbar_event);\n",
       "        button.mouseover(tooltip, toolbar_mouse_event);\n",
       "        nav_element.append(button);\n",
       "    }\n",
       "\n",
       "    // Add the status bar.\n",
       "    var status_bar = $('<span class=\"mpl-message\" style=\"text-align:right; float: right;\"/>');\n",
       "    nav_element.append(status_bar);\n",
       "    this.message = status_bar[0];\n",
       "\n",
       "    // Add the close button to the window.\n",
       "    var buttongrp = $('<div class=\"btn-group inline pull-right\"></div>');\n",
       "    var button = $('<button class=\"btn btn-mini btn-primary\" href=\"#\" title=\"Stop Interaction\"><i class=\"fa fa-power-off icon-remove icon-large\"></i></button>');\n",
       "    button.click(function (evt) { fig.handle_close(fig, {}); } );\n",
       "    button.mouseover('Stop Interaction', toolbar_mouse_event);\n",
       "    buttongrp.append(button);\n",
       "    var titlebar = this.root.find($('.ui-dialog-titlebar'));\n",
       "    titlebar.prepend(buttongrp);\n",
       "}\n",
       "\n",
       "mpl.figure.prototype._root_extra_style = function(el){\n",
       "    var fig = this\n",
       "    el.on(\"remove\", function(){\n",
       "\tfig.close_ws(fig, {});\n",
       "    });\n",
       "}\n",
       "\n",
       "mpl.figure.prototype._canvas_extra_style = function(el){\n",
       "    // this is important to make the div 'focusable\n",
       "    el.attr('tabindex', 0)\n",
       "    // reach out to IPython and tell the keyboard manager to turn it's self\n",
       "    // off when our div gets focus\n",
       "\n",
       "    // location in version 3\n",
       "    if (IPython.notebook.keyboard_manager) {\n",
       "        IPython.notebook.keyboard_manager.register_events(el);\n",
       "    }\n",
       "    else {\n",
       "        // location in version 2\n",
       "        IPython.keyboard_manager.register_events(el);\n",
       "    }\n",
       "\n",
       "}\n",
       "\n",
       "mpl.figure.prototype._key_event_extra = function(event, name) {\n",
       "    var manager = IPython.notebook.keyboard_manager;\n",
       "    if (!manager)\n",
       "        manager = IPython.keyboard_manager;\n",
       "\n",
       "    // Check for shift+enter\n",
       "    if (event.shiftKey && event.which == 13) {\n",
       "        this.canvas_div.blur();\n",
       "        // select the cell after this one\n",
       "        var index = IPython.notebook.find_cell_index(this.cell_info[0]);\n",
       "        IPython.notebook.select(index + 1);\n",
       "    }\n",
       "}\n",
       "\n",
       "mpl.figure.prototype.handle_save = function(fig, msg) {\n",
       "    fig.ondownload(fig, null);\n",
       "}\n",
       "\n",
       "\n",
       "mpl.find_output_cell = function(html_output) {\n",
       "    // Return the cell and output element which can be found *uniquely* in the notebook.\n",
       "    // Note - this is a bit hacky, but it is done because the \"notebook_saving.Notebook\"\n",
       "    // IPython event is triggered only after the cells have been serialised, which for\n",
       "    // our purposes (turning an active figure into a static one), is too late.\n",
       "    var cells = IPython.notebook.get_cells();\n",
       "    var ncells = cells.length;\n",
       "    for (var i=0; i<ncells; i++) {\n",
       "        var cell = cells[i];\n",
       "        if (cell.cell_type === 'code'){\n",
       "            for (var j=0; j<cell.output_area.outputs.length; j++) {\n",
       "                var data = cell.output_area.outputs[j];\n",
       "                if (data.data) {\n",
       "                    // IPython >= 3 moved mimebundle to data attribute of output\n",
       "                    data = data.data;\n",
       "                }\n",
       "                if (data['text/html'] == html_output) {\n",
       "                    return [cell, data, j];\n",
       "                }\n",
       "            }\n",
       "        }\n",
       "    }\n",
       "}\n",
       "\n",
       "// Register the function which deals with the matplotlib target/channel.\n",
       "// The kernel may be null if the page has been refreshed.\n",
       "if (IPython.notebook.kernel != null) {\n",
       "    IPython.notebook.kernel.comm_manager.register_target('matplotlib', mpl.mpl_figure_comm);\n",
       "}\n"
      ],
      "text/plain": [
       "<IPython.core.display.Javascript object>"
      ]
     },
     "metadata": {},
     "output_type": "display_data"
    },
    {
     "data": {
      "text/html": [
       "<img src=\"data:image/png;base64,iVBORw0KGgoAAAANSUhEUgAAA+gAAAGQCAYAAAA9TUphAAAgAElEQVR4XuzdCZxOVQPH8Z9ZGcPYo+xL2doQkSVLWdqoiLK2kRBF6m2RRItCESpRsqeSiixZS4gQIUvWLFlnrGPMzPs59w4NZszzzDzLfcb/fj7qfXvuPfec77mY/3POPScLOiQgAQlIQAISkIAEJCABCUhAAhLwu0AWv9dAFZCABCQgAQlIQAISkIAEJCABCUgABXQ9BBKQgAQkIAEJSEACEpCABCQgAQcIKKA7oBNUBQlIQAISkIAEJCABCUhAAhKQgAK6ngEJSEACEpCABCQgAQlIQAISkIADBBTQHdAJqoIEJCABCUhAAhKQgAQkIAEJSEABXc+ABCQgAQlIQAISkIAEJCABCUjAAQIK6A7oBFVBAhKQgAQkIAEJSEACEpCABCSggK5nQAISkIAEJCABCUhAAhKQgAQk4AABBXQHdIKqIAEJSEACEpCABCQgAQlIQAISUEDXMyABCUhAAhKQgAQkIAEJSEACEnCAgAK6AzpBVZCABCQgAQlIQAISkIAEJCABCSig6xmQgAQkIAEJSEACEpCABCQgAQk4QEAB3QGdoCpIQAISkIAEJCABCUhAAhKQgAQU0PUMSEACEpCABCQgAQlIQAISkIAEHCCggO6ATlAVJCABCUhAAhKQgAQkIAEJSEACCuh6BiQgAQlIQAISkIAEJCABCUhAAg4QUEB3QCeoChKQgAQkIAEJSEACEpCABCQgAQV0PQMSkIAEJCABCUhAAhKQgAQkIAEHCCigO6ATVAUJSEACEpCABCQgAQlIQAISkIACup4BCUhAAhKQgAQkIAEJSEACEpCAAwQU0B3QCaqCBCQgAQlIQAISkIAEJCABCUhAAV3PgAQkIAEJSEACEpCABCQgAQlIwAECCugO6ARVQQISkIAEJCABCUhAAhKQgAQkoICuZ0ACEpCABCQgAQlIQAISkIAEJOAAAQV0B3SCqiABCUhAAhKQgAQkIAEJSEACElBA1zMgAQlIQAISkIAEJCABCUhAAhJwgIACugM6QVWQgAQkIAEJSEACEpCABCQgAQkooOsZkIAEJCABCUhAAhKQgAQkIAEJOEBAAd0BnaAqSEACEpCABCQgAQlIQAISkIAEFND1DEhAAhKQgAQkIAEJSEACEpCABBwgoIDugE5QFSQgAQlIQAISkIAEJCABCUhAAgroegYkIAEJSEACEpCABCQgAQlIQAIOEFBAd0AnqAoSkIAEJCABCUhAAhKQgAQkIAEFdD0DEpCABCQgAQlIQAISkIAEJCABBwgooDugE1QFCUhAAhKQgAQkIAEJSEACEpCAArqeAQlIQAISkIAEJCABCUhAAhKQgAMEFNAd0AmqggQkIAEJSEACEpCABCQgAQlIQAFdz4AEJCABCUhAAhKQgAQkIAEJSMABAgroDugEVUECEpCABCQgAQlIQAISkIAEJKCArmdAAhKQgAQkIAEJSEACEpCABCTgAAEFdAd0gqogAQlIQAISkIAEJCABCUhAAhJQQNczIAEJSEACEpCABCQgAQlIQAIScICAAroDOkFVkIAEJCABCUhAAhKQgAQkIAEJKKD77xl4EbgfKAucApYAvYG/0qhSc6AfUBzYnHTNDP81Q3eWgAQkIAEJSEACEpCABCQgAU8IKKB7QjF9ZfwITAJ+A0KAAUBFoDxwIpUiqwOLARPuvwdaAS8AlYB16auGrpKABCQgAQlIQAISkIAEJCABJwgooDuhF+w65Af+BeoAi1Kp1mQgO3B3ss+XAquBTs5pimoiAQlIQAISkIAEJCABCUhAAu4KKKC7K+a980snTVm//jKj4TuBQcCQZNXoCzQFbkylauGA+ZX8yAMc9l5TVLIEJCABCUhAAhKQgAQkECACOYA9QGKA1DdTV1MB3RndGwRMB3IBNS9TpTNAO2BisnM6A32Aq1K57rWkz53RUtVCAhKQgAQkIAEJSEACEnCaQGHgH6dV6kqsjwK6M3p9BNA4KZzvdjOgPw28AhRM5bqLR9DNN2S7d+3aRc6cOZ3RetVCAhKQgAQkIAEJSEACEvC5QExMDEWKFDH3jQJifF4B3fASAQV0/z8Uw4D7gNrAtjSqk54p7hcXaVJ5dHR0tAK6//teNZCABCQgAQlIQAISkIDfBExAj4oy2VwB3W+dcNGNFdD91xPGfijQDLg96f3ztGpjFomLAO5JdqLZnu0PNxaJU0BPS1mfS0ACEpCABCQgAQlcUQLx8fHExcVl+jaHhoYSHBx8vp0K6M7rcgV0//XJcODhpNHz5HufRyfti25qNjbpXRCzrZo5aiSt8G72S/8BaAn8z81t1hTQ/dfnurMEJCABCUhAAhKQgMMEjh8/zu7du0lM9N0aaQ8//DA1a9akc2eznNTljxUrVtC3b1+OHj3K4sVmx+ULjwMHDvDiiy9y6tQpHnroIe69995UC8ySJQuFCxcmMjLSOkcBPS1933+ugO5783N3TO1PgA7AZ0knLQC2A+2TVbM58AZQPGnU/XlghhvNUEB3A0unSkACEpCABCQgAQlkXgEzcr5582YiIiLInz8/JsB6+zBrQb3wwgscOnSIH3/8Mc3bmVdTzcj3HXfcwS+//HLJ+b169aJx48bUrl2bBg0aWGVmzZr1kvPMFxAmzJ88eZIyZcpYI+kK6Gny+/wE7z+BPm+SbpiGgAK6HhEJSEACEpCABCQgAQkAp0+fZtu2bRQvXpxs2bL5xGTw4MGULFmSWbNm0a1bN8qWLevSfatUqYIZTb/4uO2226yR9aCgILp27Uq7du0w56Z0mFH27du3U6JECSvEK6C7RO/TkxTQfcrtiJspoDuiG1QJCUhAAhKQgAQkIAF/C5wL6OcCqy/qY0a7p02bxvLly1mwYAGvvPIKc+bMoX///hfcvmDBgkyaNOn8f0stoFetWtUqyxwvv/yyNZJ+5513ptiUi9urgO6LHnfvHgro7nllhrMV0DNDL6oNEpCABCQgAQlIQAIZFvB1QDfvulevXp0KFSpY77yb6etLly51qR2eGEFXQHeJ2q8nKaD7ld8vN1dA9wu7bioBCUhAAhKQgAQk4DQBXwf0IUOGWIu0PfjggxaFWSTumWeeYefOnekeQe/evbu1MJwZOTe/fvrpp1Sn6yugO+0JvLQ+CujO7yNP11AB3dOiKk8CEpCABCQgAQlIICAFfB3Qa9WqZU1vz5s3r+X15ZdfsnHjRmuae2rHhg0brHfLzTR2M5194MCBFCpUiBEjRliru+/du5e2bdty4sQJOnXqZP3v1A4FdOc/pgrozu8jT9dQAd3ToipPAhKQgAQkIAEJSCAgBXwd0P2NpIDu7x5I+/4K6GkbZbYzFNAzW4+qPRKQgAQkIAEJSEAC6RJQQI8hKirK2Jl/xKQLURd5VEAB3aOcAVGYAnpAdJMqKQEJSEACEpCABCTgbQEFdAV0bz9j7pavgO6uWOCfr4Ae+H2oFkhAAhKQgAQkIAEJeEBAAV0B3QOPkUeLUED3KGdAFKaAHhDdpEpKQAISkIAEJCABCXhbQAFdAd3bz5i75SuguysW+OcroAd+H6oFEpCABCQgAQlIQAIeEFBAV0D3wGPk0SIU0D3KGRCFKaAHRDepkhKQgAQkIAEJSEAC3hbwV0AfNWqUtU3akiVLCA8Pv2wzo6OjueOOO1i/fj1Lly6lYsWKl5zfu3dvq6zixYszevRoQkNDUyxTq7h7+4nKePkK6Bk3DLQSFNADrcdUXwlIQAISkIAEJCABrwj4K6CbxrRp04YePXpQqVKly7YtLi6Oo0eP0qtXL3r27HlJQF+zZo21N/q4cePo378/pUqVomXLlgroXnlivF+oArr3jZ12BwV0p/WI6iMBCUhAAhKQgAQk4BcBfwb0u+66i1atWtG6dWuX2t6+ffsUA/rw4cOJjIykbdu2rFy5kjFjxjBs2DAFdJdUnXeSArrz+sTbNVJA97awypeABCQgAQlIQAISCAgBfwX0GTNm8NJLL9GkSRNr1PvAgQM0b978ErNJkyZRsGBB67+nFtAHDBhA+fLladq0KVu2bOHVV19lwoQJCugB8QReWkkF9ADtuAxUWwE9A3i6VAISkIAEJCABCUgg8wj4I6DHxsbSsGFDhg4daoXpb775xiVQjaC7xBTwJymgB3wXut0ABXS3yXSBBCQgAQlIQAISkEBmFPBHQDcj5qVLl6ZFixbccsstrFixIkMj6KtXr2bQoEGMHTsWM5peokQJa+p8SocWiXP+U6yA7vw+8nQNFdA9LaryJCABCUhAAhKQgAQCUsDXAX3nzp106dKF6dOnW141atRgwYIFhIWFXdbPTIU3QbxYsWJ07NiRRo0aWavA9+3b17rOLCBnVngvWrSo9Q56auUpoDv/MVVAd34febqGCuieFlV5EpCABCQgAQlIQAIBKeDrgO5vJAV0f/dA2vdXQE/bKLOdoYCe2XpU7ZGABCQgAQlIQAISSJeAAnoMUVFRxs78IyZdiLrIowIK6B7lDIjCFNADoptUSQlIQAISkIAEJCABbwsooCuge/sZc7d8BXR3xQL/fAX0wO9DtUACEpCABCQgAQlIwAMCCugK6B54jDxahAK6RzkDojAF9IDoJlVSAhKQgAQkIAEJSMDbAgroCujefsbcLV8B3V2xwD9fAT3w+1AtkIAEJCABCUhAAhLwgIACugK6Bx4jjxahgO5RzoAoTAE9ILpJlZSABCQgAQlIQAIS8LZA8oAeHh7Oqbh4j9wyW2gwWbJ4PmqZLdn69etHQkIC3bp1o1mzZufru3//fuv/h4aGEhwczPjx4ylUqNAF7dEq7h7pXq8W4vmnxqvVVeEeEFBA9wCiipCABCQgAQlIQAISCHyB5IE1ISiE8q/O8kij1r/ekIiwEI+Uda4QU9fmzZvz1VdfpbjPeXx8vPWlQFBQEJ999hm7d+/m5ZdfVkD3aC94vzAFdO8bO+0OCuhO6xHVRwISkIAEJCABCUjALwL+Cujt2rXjmWeeoVKlSla733zzTYoVK8bDDz+cqsO8efMYOXIk0dHRREREMGLECAoWLJji+UOHDqVw4cIXjLCbEzWC7pfHzK2bKqC7xZUpTlZAzxTdqEZIQAISkIAEJCABCWRUwB9T3Ldu3UrXrl2ZMWOGNVXdjHiPHTuWXbt28eSTT1qj5BcfkyZNYv78+QwcOJClS5cyd+5cpk+fbgX25Mfq1avp2LEjR48eZfbs2VboT34ooGf0ifH+9Qro3je+3B1qA72AyoB5QcS8RDLtMhfcDsxP4XNz7T4Xm6KA7iKUTpOABCQgAQlIQAISyNwC/lgkbtiwYeffIW/QoIEVtocMGULWrFnp1KlTquAzZ860Qr0ZHY+NjcVcu3jx4hTPnzJlCudG3BXQA+sZVkD3b381Bm4Dfge+ciOgXwfEJKv6v0CCi01RQHcRSqdJQAISkIAEJCABCWRuAX8E9D59+lC6dGkqVqzI448/zsqVK2nUqBHDhw8nR44cqY6gm8XfHnroIebMmcPy5cut8z///PPzHXTmzJnz76bPmjUL82vQoEEXdKBG0J3/PCugO6ePEt0I6LmBo+msugJ6OuF0mQQkIAEJSEACEpBA5hLwR0BftmwZnTt3ply5ctY75OvWraN+/fr06mUm1l7++PDDD5k8ebK1GNzo0aPJnj279S563759rdDes2dPawV3MxpvPtcq7mmJOu9zBXTn9Ik7AX0HEA6sA14DfnGjGXZAP3SAnHnyuXGZTpWABCQgAQlIQAISkEDmEvBHQPenoEbQ/anv2r0V0F1z8sVZrgR0M7XdvIe+IimgPw60AaolTZNPqZ4myJtf544cwO7oAeXI2fwDKN3AF23TPSQgAQlIQAISkIAEJOA4AQX0GKKioky/mH8kf4XWcX11pVRIAd05Pe1KQE+ptguBnUlBPaXPzQh7n4s/iH4hBznDg6DBa3DbM5BFj4JzHgXVRAISkIAEJCABCUjAFwIK6ArovnjO3LmHUpk7Wt49N70BfSBQE6ieSvVSHkGf2JGcGyfal9TvA7We9W7rVLoEJCABCUhAAhKQgAQcJqCAroDusEcSBXTn9Eh6A/oc4Bhwv4tN+W+RuLVjYM6r9mX3fQg3t3axCJ0mAQlIQAISkIAEJCCBwBdQQFdAd9pTrIDu3x6JBEonVWEVYIaxzT7nh5Omrb8JXAO0TTqnO7AN+BPICph30LsCdwI/udiUC1dxn/sa/DwYQrLCE/PgqgouFqPTJCABCUhAAhKQgAQkENgC/g7odevWZf588+P/5Y/evXuzZMkSihcvbq3ObrZcS36k9fm5c7VIXFrS/v9cAd2/fWAWfEvpd6TZ0LA98BlQPGlhOFPT54Enk0L7SeAP4PVUykitZRcG9IQEmNACtsyBfNfBkwsgLMK/Krq7BCQgAQlIQAISkIAEfCDgz4B+4MABunTpYm2bdrljzZo1DBw4kHHjxtG/f39KlSpFy5Ytz1+S1ufJy1ZA98FDlcFbKKBnEDAAL790H/QTB2HEbXB8H9R6DuonTXsPwMapyhKQgAQkIAEJSEACEnBVwF8BfeTIkQwdOpRjx45x1113WXuZp3YMHz6cyMhI2rZty8qVKxkzZgzDhg07f3panyugu/o0OOM8BXRn9IMva3FpQDd33/AdTG4NQaHw1C+Q3+zopkMCEpCABCQgAQlIQAKZV8AfAX3VqlXWiHiVKlUoXbq0NSo+ZcoU2rVrdwn0pEmTrCnt5cuXp2nTpmzZsoVXX32VCRMmnD93wIABl/1cAT2wnl8F9MDqL0/UNuWAnpgIEx6CzbOg5O3Q9ltP3EtlSEACEpCABCQgAQlIwLEC/gjor7zyCjVr1mT8+PFWOH/kkUeYPXs2WbOaJaYuPdIaIU/rcwV0xz5+KVZMAT2w+ssTtU05oJuSj2yHYbdA/BloMw1K1fXE/VSGBCQgAQlIQAISkIAEHCngj4Deo0cPGjVqxFtvvcX7779Pv379MCG7efPmlxiZEfR9+/YxaNAgxo4dixktL1GiBK1atTp/7urVqy/7uQK6Ix+9VCulgB5Y/eWJ2qYe0E3pM1+AZSOg0E32gnFZ9Ih4Al1lSEACEpCABCQgAQk4T8AfAd0s6ta+fXt27NhBrVq1+OijjyhYsOBlcXr16sXSpUspWrSo9Q764cOHrffW+/bta1138edhYWEplqdF4pz3DF5cI6Uv5/eRp2t4+YB+/AB8cBOcOQ4PjYNy93j6/ipPAhKQgAQkIAEJSEACjhDwR0A3DV+7di0ff/yxtVCcLw8FdF9qp+9eCujpcwvkqy4f0E3LfnodFr8H11SGx3/SKHog97bqLgEJSEACEpCABCSQqoC/AvrUqVPZv38/Tz/9tE97RwHdp9zpupkCerrYAvqitAO6GUUfUhHOnoZ230GJ2gHdYFVeAhKQgAQkIAEJSEACKQn4K6D7qzcU0P0l7/p9FdBdt8osZ6Yd0E1Lf+gJv30CpepBm28yS9vVDglIQAISkIAEJCABCZwXUECPISoqyniYf8To0fC/gAK6//vA1zVwLaCbFd0/uBkSE6DLCshXxtf11P0kIAEJSEACEpCABCTgVQEFdAV0rz5g6ShcAT0daAF+iWsB3TTS7Iu+6Ue4tTM0ejPAm63qS0ACEpCABCQgAQlI4EIBBXQFdKf9nlBAd1qPeL8+rgf0zXNg/IOQNQqe3QhhEd6vne4gAQlIQAISkIAEJCABHwn4K6DXqFHD2gv91VdfTbOlixcvplOnThw6dMjaE/3i47XXXuOrr74ib968VK5cmffeey/VMvUOeprcfj9BAd3vXeDzCrge0BMS7C3Xju6Ae4dBpTY+r6xuKAEJSEACEpCABCQgAW8J+COg79q1i+eee46DBw8yb968NJsWHR1NaGgotWvXZsWKFSkG9CpVqnD33XenWZYCeppEfj9BAd3vXeDzCrge0E3Vfh4Cc/tAoZug40KfV1Y3lIAEJCABCUhAAhKQgLcE/BHQBw8eTMmSJZk1axbdunWjbNmyLjXPhPDUAvr06dPJkSMHffr0oV69eqmWp4DuErVfT1JA9yu/X27uXkA/cRAGlYP4M/DkArj6Zr9UWjeVgAQkIAEJSEACEpCApwX8EdAbN27MtGnTWL58OQsWLOCVV15hzpw59O/f/4LmFSxYkEmTJp3/b6kF9MOHD5MnTx5rX/UGDRqwcuVKwsLCUqRSQPf0E+T58hTQPW/q9BLdC+imNV92gD+/hmqdoPHbTm+f6icBCUhAAhKQgAQkIAGXBHwd0Hfv3k316tWpUKECiYmJmOnrS5cudamuqQX05Be3aNGCt956yxqhT+lQQHeJ2q8nKaD7ld8vN3c/oG+aBRNaQEQ+eG4jBIf6peK6qQQkIAEJSEACEpCABDwp4OuAPmTIEAoXLsyDDz5oNaNz584888wz7Ny5M90j6DExMeTMmZOTJ09y6623smzZMrJly6aA7skHxYdlKaD7ENsht3I/oMfH2dPcTxyAh6fAtQ0d0hRVQwISkIAEJCABCUhAAukX8HVAr1WrljW93ay4bo4vv/ySjRs3WtPcUzs2bNhA165drSnxVatWZeDAgRQqVIgRI0bQt29fOnbsyNq1a4mPj6dHjx60bNky1bI0gp7+Z8VXVyqg+0raOfdxP6Cbus98AZaNgAr3Q/MxzmmNaiIBCUhAAhKQgAQkIIF0Cvg6oKezmh67TAHdY5ReK0gB3Wu0ji04fQF9zyr4+HYIyQo9N9l7o+uQgAQkIAEJSEACEpBAAAsooMcQFWX9XG/+ERPAXZlpqq6Anmm60uWGpC+gJybCh9Xg4F/aE91lap0oAQlIQAISkIAEJOBkAQV0BXSnPZ8K6E7rEe/XJ30B3dRr0bswrx+UqgdtvvF+TXUHCUhAAhKQgAQkIAEJeFFAAV0B3YuPV7qKVkBPF1tAX5T+gH5wCwyrDEEh0HMzROQJaAhVXgISkIAEJCABCUjgyhZQQFdAd9rvAAV0p/WI9+uT/oBu6jbiNti/Du4bDjc/4v3a6g4SkIAEJCABCUhAAhLwkoACugK6lx6tdBergJ5uuoC9MGMBfeE7ML8/lGkIj0wJWARVXAISkIAEJCABCUhAAv4K6KNGjbK2SVuyZAnh4eFpdkTv3r2tc4sXL87o0aMJDQ09f8327du55ZZbqFChgvXfzNZt+fPnT7FMreKeJrXfT1BA93sX+LwCGQvoB/6CD6tCUCg8v1Wrufu8+3RDCUhAAhKQgAQkIAFPCfgroJv6t2nTxtq3vFKlSpdtzpo1a6y9z8eNG0f//v0pVarUBXudm4Des2dPpk6dmiaLAnqaRH4/QQHd713g8wpkLKCb6prV3A9shGYfw40P+bwBuqEEJCABCUhAAhKQgAQ8IeDPgH7XXXfRqlUrWrdufdmmDB8+nMjISNq2bcvKlSsZM2YMw4YNO3+NCejVq1endOnS1KpVywrxWbKkHPMU0D3x1Hi3DAV07/o6sfSMB/R5/WHRO3BdE2g10YltVJ0kIAEJSEACEpCABCSQpoC/AvqMGTN46aWXaNKkiRWoDxw4QPPmzS+p76RJk6wp7eXLl6dp06Zs2bKFV199lQkTJpw/NzY2lrNnzxIREcETTzxB48aNeeCBB1JsuwJ6mo+E309QQPdvF9QGegGVgUJAM2BaGlW6HRgEmJdMdgFvAJ+50YyMB/R9a2FkTQjJCs9vg7AIN26vUyUgAQlIQAISkIAEJOAMAX8EdBOoGzZsyNChQ62w/c03l9++OK0R9OSSJvgvXbqU119/XQHdGY+Y27VQQHebzKMXNAZuA34HvnIhoJcA1gEjgVFAfWAIcBcwy8WaZTygJybCkBsgeie0nAhlm7h4a50mAQlIQAISkIAEJCAB5wj4I6CbEXMzHb1FixbW4m4rVqy47Aj6vn37GDRoEGPHjmXAgAGUKFHCmhp/7jh27Bg5cuSw/u+LL75IuXLlrOnwKR0aQXfOs5daTRTQndNHiS4E9LeTwnjFZNWeBOQCGrnYlIwHdHOjGb1g+cdQqS3cO9TFW+s0CUhAAhKQgAQkIAEJOEfA1wF9586ddOnShenTp1sINWrUYMGCBYSFhV0WpVevXtbIeNGiRa130A8fPmytAt+3b19mzpzJyy+/bE1xN+HdTIkPCQlRQHfOY+ZWTRTQ3eLy6smuBPRFSaPt3ZPVpEPSKHqUi7XzTEDf8hOMux8ir4JnN0JQkIu312kSkIAEJCABCUhAAhJwhoCvA7q/W60RdH/3QNr3V0BP28hXZ7gS0DcBY4A3k1XKzC//ATAvgp9KobJmY8Xkmyua+S+7v1zyFw/cWibVFR7TbPTZWHinJJw5Dk/Mg2vMa/Q6JCABCUhAAhKQgAQkEDgCCugxREVZ43zmHzGB03OZt6YK6M7p2/QGdPP++fdANuB0Cs15Dehz8X8v0n0K91QpxdsP3kBkeMpTYNKkmdwGNkyH2r2g3stpnq4TJCABCUhAAhKQgAQk4CQBBXQFdCc9j6YuCujO6RFXAnp6prinOIJe8rkviQ/JRukCkYx9tCpX5zL53s1j9USY1gmuuh6e+tnNi3W6BCQgAQlIQAISkIAE/CuggK6A7t8n8NK7K6A7p0dcCehmkTgzpf36ZNU2myDmcXeRuAVrt/P89M3sj4nlmlzZmPBENYrlze6exolD8G5pSEyA7usgVxH3rtfZEpCABCQgAQlIQAIS8KOAAroCuh8fvxRvrYDu3x6JBEonVWEV8CwwHzgM7Ex61/wa4Nw+CWabtT+BYcBooB7wQXq3WTuWEErrUcvYdvAERfJk46unalAgR1b3RD69E3Ytg7uHQBWzXp0OCUhAAhKQgAQkIAEJBIaAAroCutOeVAV0//bI7UmB/OJafA60Bz4DigPmvHNHXWAQUN4s9gb0SzrP1ZZcsIr7vzGnaf7Rr+w4dJKK1+RkSsfqRIS58U76grdhwQAod0wjZkwAACAASURBVA88NM7VOug8CUhAAhKQgAQkIAEJ+F3ggoAeHg5xJz1Tp9AIyOL5qGW2ZOvXrx8JCQl069aNZs2ana/v/v37rf8fGhpKcHAw48ePp1ChQhe0R6u4e6Z7vVmK558ab9ZWZXtC4JJt1rYfPMEDI5Zw6MQZmt50NYMfusn11d13r4BR9SE8Jzz/NwSHeqKOKiMQBeLj4OBmiPnH/gspe34oUF7PRCD2peosAQlIQAISuEIELgisQfEw4GrPtPx/eyDMzddH07izqWvz5s356quvUtw3PT4+3voZPigoiM8++4zdu3db+6MnPxTQPdO93ixFAd2bus4sO8V90JdvO0yrT5YSn5BIv/sq0Ka6Gbh34UiIh4Gl4NQR6PAjFKvuwkU6JVMJ/LMSlo6ATbMhNvrCpoVmh1J14ZbHoGRdr3yTnKks1RgJSEACEpCABHwq4K+A3q5dO5555hkqVapktffNN9+kWLFiPPzww6m2f968eYwcOZLo6GgiIiIYMWIEBQsWTPH8oUOHUrhw4QtG2M2JCug+fbzSdTMF9HSxBfRFKQZ006JRi//mjR82EB4SxIxnalEqv3lF3oXjyw7w59fabs0Fqkx1SsxemNETNppd/pIOM5MiV1F7g4joXXD66H+fFasJTd6BqypkKgY1RgISkIAEJCCBwBXwxxT3rVu30rVrV2bMmGFNVTcj3mPHjmXXrl08+eST1ij5xcekSZOYP38+AwcOZOnSpcydO5fp06dbgT35sXr1ajp27MjRo0eZPXu2FfqTHwrozn9WFdCd30eermGqAT0xMZG2o5ezePNBbiqSy1o0LjjIhUdk1Xj4tjNcXQmeNGvc6cj0AptmwddPwOloyBIMN7SAKo/CNZUhKNhufkIC7F8Hq76A37+As6cgKBQaDoCqT2g0PdM/JGqgBCQgAQlIwPkC/lgkbtiwYeffIW/QoIEVtocMGULWrFnp1KlTqmgzZ860Qr0ZHY+NjcVcu3jx4hTPnzJlCudG3BXQnf8cJq+hC+krsBqk2qYpkGpAN1fuOXqKhoMXcSz2LL0bleWp20ulWSBmJHVQWXvUtNdWyJ437Wt0RuAKLPsIfnzB3l7v6pvhvuFwlVmz8DLH0V0woxdsmmmfdFNruOd9CHZjQcLAFVPNJSABCUhAAhJwqIA/AnqfPn0oXbo0FStW5PHHH2flypU0atSI4cOHkyNHjlRH0M3ibw899BBz5sxh+fLl1vmff27WlraPM2fOnH83fdasWZhfgwaZtaX/OzSC7tAHMVm1FNCd30eeruFlA7q52ZcrdtFr6h+EBQfxY/dalHRlqvuI2+zR0gc+hesf9HSdVZ5TBJYMg9kv2bWp1A7ues/1ReASE2HpcJj9sh3uy94ND46BkDCntE71kIAEJCABCUjgChPwR0BftmwZnTt3ply5ctY75OvWraN+/fr06tUrTf0PP/yQyZMnW4vBjR49muzZs1vvovft29cK7T179rRWcDej8eZzreKeJqnjTlBAd1yXeL1CaQZ0M9W9/ZjfWLjpALdfl58x7W9Je1X32a/Akg/gxoeh2QivN0I38IPA72Nhelf7xnV6w+0vpm+a+obvYeqjEB8LFe6HB0b9Ny3eD83SLSUgAQlIQAISuHIF/BHQ/amtEXR/6rt2bwV015wy01lpBnTT2L8PHKfhkEXExScyqm0VGpS/6vIGfy+AsfdB5FXw3F/pC26ZSTmztWXbYviiKSSchZo9oH6fjPXxlrkwoSUkxMGtnaHRm5lNTO2RgAQkIAEJSCAABBTQY4iKijI9Zf4REwBdlumrqICe6bv4kga6FNDNVW/N3MjIhVspmieC2T1qkzU0afGvlMzOxsLbxSHuJHT6GQpef+XJZtYWx+wB8wrDqcNQ8QH7NQazz3lGj7VT4avH7FKafQw3PpTREnW9BCQgAQlIQAIScEtAAV0B3a0Hxgcne+CnbB/UUrfwpIDLAf1E7FnqvbeA/TGxri0YN745bJ4Nd74BNZKmQnuy5irL9wJmJfZxzcDMkCh4Azw2G0Kzea4e896ARQMhJJtddqEbPFe2SpKABCQgAQlIQAJpCCigK6A77TeJArrTesT79XE5oJuqfP37bp6dsoacWUNY/Hw9oiJCU6/huQXESt8Brad6vyW6g/cFfh0Os160A3THRZD/Ws/eMyEezBc7W3+C3MXt2RfhOTx7D5UmAQlIQAISkIAEUhFQQFdAd9pvDgV0p/WI9+vjVkCPT0ikyfuL+Wv/MWvLNbP1WqrH3j/go1oQmh1e2OH66t7eb7PukB6BfzfAR3XsxdzuGgS3JE1HT09Zl7vm5GH7PtE7oXIHuGeIp++g8iQgAQlIQAISkECKAgroCuhO+62hgO60HvF+fdwK6KY6c9fv5/GxK8gaGsTCXnW5KmfWlGtppkMPLGW/q/zobChazfut0R28I2C2RBvTBHYugTIN4eHJnnnvPLXablsEn99jf9r6ayhd3zvtUqkSkIAEJCABCUggmYC/A3rdunWZP39+mn3Su3dvlixZQvHixa3t08ye6MmPtD4/d65WcU+T2u8nKKD7vQt8XgG3A7rZdu3Bkb+ycscRHqlWlP7NLrMA3JS2sP5bqPsS1Hne543TDT0k8McU+PoJCI2Ap5dDriIeKvgyxczoBcs/hpzXQOdfIau1oqgOCUhAAhKQgAQk4DUBfwb0AwcO0KVLF2tf88sda9asYeDAgYwbN47+/ftTqlQpWrZsef6StD5PXrYCutceJY8VrIDuMcqAKcjtgG5atuzvQzz08VLCgoNY+PztFIpKZaGw30bBD89B8VrQ/vuAQVFFkwmcjoFhVeD4fqj3CtTu6RueMyfs1eKPbINqnaDx2765r+4iAQlIQAISkMAVK+CvgD5y5EiGDh3KsWPHuOuuuxgxYkSqfTB8+HAiIyNp27YtK1euZMyYMQwbNuz8+Wl9roAeWI+3Anpg9ZcnapuugG5u3OKjX1m+7TAdbitOn3sqpFyXg1tgWGUIDoPeOyAswhN1Vhm+FJj9MiwZCnlK2SPZIeG+u7tZLX7sfZAlCDouhoIVfXdv3UkCEpCABCQggStOwB8BfdWqVdaIeJUqVShdurQ1Kj5lyhTatWt3if+kSZOsKe3ly5enadOmbNmyhVdffZUJEyacP3fAgAGX/VwBPbAeawX0wOovT9Q23QF98eYDtPl0ufUu+s+965EvMoXgZt5dHlQeju2BNtOgVF1P1Fll+Eogejd8UMleGO7hL+HaO3115//uc+41iaI1oMMM77777vvW6Y4SkIAEJCABCThIwB8B/ZVXXqFmzZqMHz/eCuePPPIIs2fPJmvWlNd5SmuEPK3PFdAd9MC5UBUFdBeQMtkp6Q7o5l30ph/+wprd0Zdf0f2bTrBmItTsAQ1ey2R8mbw507vB759DsZr2KwpZ/PBHxNFd8GFViDsJ938CN7TI5OhqngQkIAEJSEAC/hLwR0Dv0aMHjRo14q233uL999+nX79+mJDdvHnzSxjMCPq+ffsYNGgQY8eOxYyWlyhRglatWp0/d/Xq1Zf9XAHdX09X+u7rh5++01dRXeUxgXQHdFODOev388TYFUSGh/BL71T2RV89AaY9BddUhifmeaziKsjLAoe2wrBbIDEeHp0FRW/18g0vU/yid2FeP8hZGLquhNBUdg7wXw11ZwlIQAISkIAEMoGAPwK6WdStffv27Nixg1q1avHRRx9RsGDBy2r26tWLpUuXUrRoUesd9MOHD1vvrfft29e67uLPw8LCUixPi8Q5/6FVQHd+H3m6hhkK6AlmX/QPFrNx3zF6NLiWZxqUubR+Zpr04Ar2e8S9t2s1bk/3oLfK++pxWPsllLkTHvnSW3dxrdy40zC0EsT8A3e+ATW6unadzpKABCQgAQlIQAJuCPgjoJvqrV27lo8//thaKM6XhwK6L7XTdy8F9PS5BfJVGQropuHT1+yh28RV5I4IZckL9ckWFnyph3mP+fBWaDkRyjYJZK8ro+4HNtnTykmEjoug0I3+b/eqcfDt05AtN3RbDdly+b9OqoEEJCABCUhAAplKwF8BferUqezfv5+nn37ap54K6D7lTtfNFNDTxRbQF2U4oMcnJHL7u/PZdfgU/ZtV5JFqxS4F+a47rBwD1Z6Cxm8FNNgVUXkThE0gvq4JtJrojCYnxMOIGnBgI9R8Fhr0cUa9VAsJSEACEpCABDKNgL8Cur8AFdD9Je/6fRXQXbfKLGdmOKAbiE9/3ka/79dTKn925vSoQ1DQRY/Suq9hagcoUN7eqkuHcwVi9sCQGyAhDh6bA0XMSLpDjo0/wKSHISQbdP8DIgs4pGKqhgQkIAEJSEACmUFAAT2GqKgo05XmHzGZoU8DvQ0K6IHeg+7X3yMB/djpOGq8OY9jsWcZ0+EW6l53UXA6cRAGlrJr13OzgpX7/eS7K2a9BL8OA7Ot2aMzfXdfV+5ktu0bVR/+WQk1usGd/Vy5SudIQAISkIAEJCABlwQU0BXQXXpQfHiSAroPsR1yK48EdNOWN75fz6ift1GzdD7GPV7t0uYNrwH//gnNP4MKzRzSfFXjAoFTR2BwRThz3H/7nqfVJX/9CBMfgtDs0H0tZM+b1hX6XAISkIAEJCABCbgkoICugO7Sg+LDkxTQfYjtkFt5LKDvOnySOgPnk5AIP3avRdmCpuhkx4xesPxjuOUJuOtdhzRf1bhA4OchMLcPFKgAT/3in33P0+oSM4r+UW3Y9wfU6gn1X0nrCn0uAQlIQAISkIAEXBJQQFdAd+lB8eFJCug+xHbIrTwW0E17nh7/Oz+s3UuLKoV558GLVv7+cxp82U7voTuk4y+phlmE7f2bIHon3Pch3NzaqTWF9dNhShsIz2mPomtFd+f2lWomAQlIQAISCCCBcwG9ePHiZMuWLYBqnr6qnjp1iu3bt1OiRAmyZs1KTIwCevokvXeVArr3bJ1askcD+sodR3hgxBLCgoP49cV65I0M/6/dxw/Au6Xt/9/rb01NdtoTseF7mPwIZMsDz66HUAf/pZSQACNvg3/Xw+3/g9t7O01T9ZGABCQgAQlIIAAF4uPj2bx5MxEREeTPn58sWTJvPEpMTOTAgQOcPHmSMmXKEBwcrIDuwGc28z6BDsR2SJU8GtBNm+4d9jN/7I7mhcZl6VQnaWG4c40ddgsc3AQPjYdydzuEQNWwBD6/B7Ytgtu6wx19nY+ydip89RhkzQU91kF4DufXWTX0rMDZM7D7N/t1h0Nb4fRRu3wzsyJPCbiqIhS91dlfNnlWRKVJQAISkIAHBI4fP87u3bsxATazH+YLiMKFCxMZGWk1VSPozutxBXT/98nTZnwZKAisAboCy1OpVntgzEWfxQJZ3WiGxwP6lBW7eH7qHxTOnY2FveoSnHzLtXP7od/aGRq96UY1dapXBf7dAMNvhSxB8MwayFXUq7fzSOFmSv6HVeHQFmj0Ftz6lEeKVSEOFzA/LO1cCivHgNl2zyxoeLkjOBzK3AE3PQLXNoKgIIc3UNWTgAQkIAEnCJiR9Li4OCdUxat1CA0NtUbOzx0K6F7lTlfhCujpYvPYRQ8BY4FOwDKgO9AcuA74N4W7mID+ftLn5z42X/Xtd6NGHg/op87Ec+ubPxF9Ko7R7atQr+xV/1Xn3KhnwRug02I3qqlTvSrw/bOw4lMoeze0HO/VW3m08BWj4fse9hcKXVdBcIhHi1dhDhMwwXxuX9i55L+KZc8PRapBvmshIg+QBcxuBOaLGzO6HvPPf+fmLwd1ekH5ZgrqDutaVUcCEpCABJwhoIDujH5IXgsFdP/2iQnlvwFdkqphhnp2AUOBt1IJ6EOAXBmotscDuqlL/x/W88nibdS9Lj9jOlT9r3oxe2FQWfuH6N7btbhXBjrOY5eeOQnvXQexMdBmGpSq67GivV5Q3CkYXAFOHoIHx0DF+71+S93ADwKno2FOH3vU3BxmVPyGFlCpLVxTJfWwbUbbzToFaybCyrEQG21fX+RWuPcDyG+++9QhAQlIQAISkMA5AQV05z0LCuj+65Mw4CTwIDAtWTU+Twrg96US0EcBZojIhPnfgf8Bf7rRDK8E9O0HT3D7uwsw62os7FmXonkj/qvSBzfD4b/h4SlwbUM3qqpTvSKweiJM6wS5ikG31YE3sjh/ACx8G66pDI//5Myt4bzScVdIobt+gylt4dgeu8E3t4G6/4OcV7sHcOooLBsJS4ba0+KDw+D2F+01FzTt3T1LnS0BCUhAAplWQAHdeV2rgO6/PjE/bZqgXQP4NVk13gHqANVSqFp1oAzwBxAF9ARqAxWTRt5Tao1ZVj3Z0uqYlbV2R0dHkzPnRfuWZ9Ci7ejlLNp0gI61S/Jik3L/lfbt07BqHNToBnf2y+BddHmGBcY0gR2/QN2X7em/gXaY3QHMKHp8LHT4EYqZ3xY6MoXAys9hRk+IPwN5Stmj3sVrZqxpR3fBD8/C5tl2Odc2hmYjNZsnY6q6WgISkIAEMomAArrzOlIB3X99klpAHwjUAm51oWqhwAZgIvBKKue/BvS5+DNvBPS56/fz+NgV5IoIZemL9ckamrQAxbkRWzPi+cQ8F5qlU7wmcHALDKtsLw7XfR1EXeO1W3m14Ond4PfPA+8deq+iBHDhZmr63D7wi1liAyh3DzQd4bmV+k35q76AH0z4j4XcJaD1V5D3ol0nAphQVZeABCQgAQmkR0ABPT1q3r1GAd27vpcrPT1T3FMq70vgLNAqlZv5bAQ9PiGR2u/M55+jp3iv+Y08ULmwXaWjO2HI9ZAlGF7Y4bkfuv3Xd4F7Z/Ne7y9DoMyd8Ih5dAL0OLAJPrzFXtug60oFrQDtRqvaZo/7mb3gN/P2DvbMjto9vfPqwp7VMLkNRO+EiHzQeipcfXMg66nuEpCABCQggQwJKKBniM8rFyuge4XV5ULNInFmSzWztZo5zHvlO4FhqSwSd3HBZoh6HTATeNbFu3rlHfRz9/5w/hYGzvqLm4rkYtrTt/1XpcHX2z8Ut/4aStd3sao6zaMC8WdhcHk4vh9afAHl7/Vo8T4vbHxze9ryrU9DowE+v71u6AEBM7L9nZkNYTazyAL3DIHKZrMKLx7H/4XxD8LeNRAWCa0mQQkzaUmHBCQgAQlI4MoTUEB3Xp8roPu3T85ts/ZkUlA326y1AMyy52brNPNTq3lP/cWkar4KLAW2JC0kZ14gbgpUBta72BSvBvSDx2Op/uZPxMUnMvOZWpQrlPSe+9cd4Y9JUOs5qG+aocPnAhtnwKRW9sjhsxsgxEziCOBj8xw7aIVHwXMbICx7ADfmCq262ULt50H2KxfNPrJXavfFcToGJj8C2xZBaHZ7urvWMvCFvO4hAQlIQAIOE1BAd1iH2EMWOvwsYLZYM0G7ILAa6Ja0J7qp1gJgO3BuSGkwYPaVMuceAVYCLwOr3GiDVwO6qUfn8SuZsXYf7aoXo+99Zv06s978WJje1d7u6LFZblRXp3pMYGIr+GsGVO8CDft7rFi/FWSmRg+tBEe2wd1DoEoHv1VFN06HwNKR8GNv+8J7h9pbqPnyiDttf2G1dR6E5YC206BwFV/WQPeSgAQkIAEJ+F1AAd3vXXBJBRTQndcn3q6R1wP64s0HaPPpcnJmDWHZ/xqQLSwYDm21w1RQKLywE8KSbcPm7RarfDhxCN67FhLOQudlUMBM0sgEx68fwqz/QYEK8NQv3nlvORMwOa4Jm2bBBDOBKNGeUWNm1vjjiDsF5lWJ7YshW254bA7kMxtl6JCABCQgAQlcGQIK6M7rZwV05/WJt2vk9YCekJBInXfns+twssXizLumg8rBsb3Q7jsoYXaH0+EzAbMA1w/PQcEboNNin93W6zc6dQQGlYe4k9BhJhQzuxbqcLTAwc3wST2IjYHKHeDuwf79YuXMCfj8XvhnBeQuDo//BNnzOZpQlZOABCQgAQl4SkAB3VOSnitHAd1zloFSktcDuoEYNm8z787exC3Fc/Nlp6TQNPUxWDcV6rwAdc+9Vh8obAFez08bwq6lcGd/qGHeqshEx7kt1yo0g+afZaKGZcKmmHe/R9WHg5ugaHVoO90ZayEcP2DX6+gOKHyL/SViaLZM2AFqkgQkIAEJSOBCAQV05z0RCujO6xNv18gnAX1/zGlqvDUPs/Xa3GdrU7pADvjtU/jhWSheC9p/7+12qvxzAke2w/s32ktOmMXhchbKsE1cfAJ/7I5m0/5jbN5/nEMnYjkRe9ZaHDBH1hByRYRSPG92riuYg+uviSJXhBcXpNu3FkbWhKAQ6L4Wcl6d4fapAC8ImFk0X5kv6b6CHFdDx4UQWcALN0pnkWbrvk/vgNNHofx90Pxz/47sp7MZukwCEpCABCTgjoACujtavjlXAd03zk66i08Cumnw45+vYO6G/TxeswQv310eDvwFH1aFkKz2e+ghZot2HV4XWDQQ5r0BJepAu+npvl3s2Xh+XLePH/7Yy5Kthzgee9alsrJkgRsK56LOtflpetPVlMwf6dJ1bp00ujHsXAJ1ekPd/7l1qU72kcCq8fBtZ8gSDI/+CEWq+ujGbtxm+y8w9j5IiIMGr0HNHm5crFMlIAEJSEACgSeggO68PlNAd16feLtGPgvo8zbu59HPVpA7IpSl/6tPeHAQDCwNJw/Co7Og6K3ebqvKN6OW5ksRM6X4vuFw8yNumxw6Hssni7cx+bedHDkZd/5606/XF85FmQKRFIrKSvbwEIKDsnDs9FmOnDjD1gPH2bjvGNsOnrjgnpWK5qJt9eLcfUMhQswz4Ylj3dcwtQNEXgXd1zlj2rQn2pVZyjDvnX9UB+JO+HdROFc8V4yG73vYW7+1+QZK3u7KVTpHAhKQgAQkEJACCujO6zYFdOf1ibdr5LOAbqa313x7HnujT/NBq5u598arYXIb2DDd+T+ke7sXfFX+ntXwcR171kLPzZA1aV96F+5vpqyPXLiV0T9v48SZeOsKE8QfrFyYO8pfRcWrowgKSvuPEPO6w6JNB5i5bh8L/vqXhET75tfkysZTt5ei5S1FMh7U4+NgcEU4vs9+D928j67DGQLxZ+HTBrBnlb04ZJtpEBTsjLqlVAvzpda3XWD1OIjIC08uhFxFnFtf1cyzAmdjYfcK2P0bHNoCh/+GU0fhzHFITICwSMgaBXlKQN7ScPVN9vah4V6YGeTZlqk0CUhAAikKKKA778FI+6dr59VZNcqYgM8CuqnmoDmb+OCnzdQolZcJT9wK5/Y+Lt0AWn+VsZbo6rQFZr0Evw6D8k2hxedpn590hpn98Mq0P/nn6Cnrv1S8Jifd6pWhXtkCGQrT/8acZvJvu/hsyXYOnThjlV26QCQv3VWOutdl8H3kn/rB4nftEc+237rcVp3oZYGfB8Pc1+xQ03lpYKwRYLZfG90Q9q6BqyvZM35CvLiOgpe7QMWnIRB7DDb+YK+PsG0RnD3tHpl5baNwFXvtAvMrqrB71+tsCUhAAn4UUED3I34qt1ZAd16feLtGPg3ou4+cpNY78zGDUgt63k7xuK3wUS17FKL3DggO8XZ7r9zyExJgcHl7a7uWE6FskzQtzKj5K9+u4+vf/7HOLZw7Gy/fVY6GFQqSxbxM7qHjdFw8E5fvtL68OTdt/vbr8tO/2fXWyHq6jiM7khbDS4RuqyBPyXQVo4s8KGAWXjML+MXHpvsVCw/Wxr2izPNkZp+YrfxqdIU733Dvep3tfIFDW2HZSDDrI5jXL84d2fPbWzYWKA95Stnb7pm/s8xrD2eOwcnDcHgrmOd71zJ79f/kR+k7oFpHKFUfgjz0Go/zNVVDCUggQAUU0J3XcZ77idt5bVONUhbwaUA3VWg/ZjkL/jpApzqleKFhGXi7BMRGwxPz4ZpK6idvCexYAmMaQ3gU9Nqc5qJ8f+07RufxK9l64ARm5vpjNUvQ445riQjz3pco0afirC35zIi6WQE+MjyE/zUpR6uqRdL3hcC4B2DLXLitO9zR11uyKtcVgYR4GN0Idi8HE1ge+TLwVkU3o6qTHrZba95HL1XPlZbrHKcLmC9f5g+APyYDSe/cmOnq1ze3R8Dzl3XvWT26C/6aCX9+Yy9Wee7IX85etLLcPe6V53Q/1U8CEshUAgrozutOBXTn9Ym3a+TzgG5W/u40biX5IsP59cV6hE5qCZtnZc49ub3de+6UP+N5WP4R3NgKmo287JVz1u+n28RVnIqL56qc4XzQ8maqlczrzt0ydK5ZUK731D9YseOIVU7N0vkY1OJGCuTM6l65G76HyY+AGQHrsV7Tkt3T8+zZvw6HWS9CWA54emngTvv9/llY8am9AOFTS+zRVB2BKXDmJCx8G5YOh3j7FRvKNITqT9vrI3hilpAZlTdbiq4aZ38RbY5CN9m7ApSqG5huqrUEJJCpBRTQnde9CujO6xNv18jnAd3smV39zXkcPB7LyNaVaHR0MsztA9fdBa0meLu9V2b5Znr7oHL2ommtJsN1jVJ1GPPLNl7/fr31GoIJxu+3vIm8kb7fAs8sKmhG0gfO2sjpuATyRYYx+KGbqFUmv+t9qMXiXLfy5pnRu2FYVXva8N1DoEoHb97Nu2WbUPdJXTiw0Q5zD0/2TJDzbq1V+sUCW36yV+c/Nx3dBPIGfb03i8ssLGfW/1g6wl5gzhwVH4CGAyBHQfWPBCQgAccIKKA7pivOV0QB3Xl94u0a+Tygmwa9/eNGRizYau2F/fkdWexVnbPlhl5/6x09b/S4C9PbExMTGTjrL4Yv2GrVoFXVorx+XwVCPbX1WTrbZUbTnx7/u7VFmxnQevr20tZUe7OFm0uH2fPd7P2uxeJc4vLKSVPawvpvoWh16DAz8APtvnXwST37XfpGb8OtnbzCpkK9IGBWZZ/TB5aNsAvPWRiaDITrGvvmuTxx0P7zaPnH9irw4TntXUxuedw39/cCqYqUgAQyZCJ1uwAAIABJREFUl4ACuvP608WfeJ1XcdUo3QJ+Ceg7Dp2gzsAFVuBa9GxNinxcFuJOwlO/wlXl090YXZiKQBrT20047/f9Bkb/ss0qoHejsnSqUzJ97317oRPMInJmVH/Csp1W6XWvy8/7rW4mZ9bQtO+WfLG4rr9D3lJpX6MzPCdgRirH3Q9mZeuOi6BgRc+V7c+Sln0EM5+H4HDotBjyX+fP2ujergiY6eZTO9ir8Zuj6pN2OA7P4crVnj3H1OG77rDnd7tcs4DcfR9CzkKevY9Kk4AEJOCmgAK6m2A+OF0B3QfIDruFXwK6MXhk1FJ+2XKIbvVK8+y+5+HvBdDkXaj6hMOIArw6yVdvT2F6uwnnfb9bb00nN0e/phVpc2sxRzb629X/8PzUP4g9m2BtxzaqbRWK58uedl21WFzaRt44w4xWjqhh7x9d7Slo/JY37uKfMs07IOMftBchvKYyPDpbu1D4pydcu6tZtO2rx+3p5dnyQNMRl33Vx7VCM3iWWTjxt1Ew51V7Kzczi+yeD6D8vRksWJdLQAISSL+AAnr67bx1pQK6t2SdW67fAvr3f+yhy4RV1iJkS6qvJHjhAKhwPzQf41ytQKzZjl9hTCN7KmWvLZes3j54zibe/2mzNZvh7ftvoMUtRRzdyj92H+WJsSvYHxNLVLZQhj9SidtKp7FQlxaL80+fLn4PfnodsheArivsvc8z0xH9Dwyvbi/+ZUZiaz2XmVqXOdpivkgx737PfsVeob3YbfDAKMh5tXPad+Av+PqJ/0b2q3ex34fXtqPO6SPVRAJXkIACuvM6WwHdeX3i7Rr5LaDHno23Fos7fOIMUxslUGVBa3tl5Of+0rt4nuz1y0xvNwvCmdFzc/S7rwJtqhf35J29Vtb+mNM8+cVK1uw6SkhQFt564AYerFw49ftpsTiv9UWqBcfsgaGV7VdXmn0MNz7k+zr44o6rJ8K0ThAUCh0XwlUVfHFX3cMVAfP7/ofn4PfP7bMrd7DfNw924dUYV8r35Dlnz8C812HJULvUYjXtL6sjC3jyLirLqQLmWTUzjQ5vgyPbwHz5Z774iz0GZmHKoBD7uQ3Jau9KYl6FyFEI8pWxtwEM8f1Crk6lVL0yLqCAnnFDT5eggG6LmpdUzTLD5t/PAP8CjQHzAuyfnkb3c3l+C+im3QNmbODjRX/T6NooRv7TzN7qRu8Je+6RuMz0djNd/JlJq617PXvHtXSrX8Zz9/VBSea9dDPdffqaPdbdejW8js63l0r9vXktFueDXkl2i2lPw+pxULgqPDY7837pZkZoJ7aCTTOh4A3wxDxnBkDf9r7/7xZ3Cr5sD5t+hCxB9mrp1To5/zk0iylO62xPxc9xNbQYC0Vu8b+nauBZARO6ty2C7Yth9wrYu9p+zSE9h1nfI9+1ULgyFK8FxWsG7jaW6Wm/rvG4gAK6x0kzXKACOtQBZgK/ALWBcsDfwAtAFeDBDCs7qwC/BnSzQnf99xZiFuTeWOJ9wvYsg3uHQqW2zlIK1NqkMr19xfbDPPzJMs7EJ9C+RnH63FPeMQvCuUOdkJDI27M28tFC81sU69351+6tkPIK70d3wpAb7Gmu+hLIHWb3z937B3xk/vhMhMfmZv6AcWw/DK8Gp45AnReg7ovum+kKzwmYUUfzpYkJP2bEsfnn/n/f3J3WmSnvk1vDwU0QHGa/L399ZvvRwx2QTHLu6Wh7NwvzytW2hZcGcvMaWp4SkLsE5CoK2XLZr6aFRkDCWXsAw3zxdOJfiNkLMf/Avxvg9NFLgUxgL3sXlL0Hrr5Zu+NkkkfIV81QQPeVtOv3UUCHX4EvgUHAMeDGpIBeFfgGuMZ1zoA4068B3Qg99NGvLNt2mCll5lJ112i4sRU0GxkQeI6v5Lnp7Te0hPs/sqq7+8hJ7hv2C4dOnKFRhYLWO9xBrm5Z5tAGJ9+73bRpSMubyBoafGltx5lFvebAbc/AHa87tDUBXi0zojz2PvsH0CtpTYm1U+Grx+ypqI//BFffFOAdGaDVP3kYzKKQZnX0sBz2PvXFbwu8xpgvGb7pBBu/t+te72Wo1dP5MwACT9q7NTZ/Hpo/C3//wu7L5KPkUUWgdH0ocisUrgJ5SrkfpE355nWifWth5xLY/jPsWWVv4XfuiCoKNz1s/8rtzAVgvdsJKt1dAQV0d8W8f74COhwHrgfMflPJA7p5OXcjkNX73eDTO/g9oE9b9Q/dJ6+mWY6/GBzX1/7muPtanyJkyptZ09srwLE90GqStc/vidizPDBiibWnePlCOZn6VHUiwkIyRfN/+GMvPSavtmYFVC2eh0/aVbEWkbvg0GJx3u/rTbNhQnN75K/Lb5A7MNY1yDCM+UH5y3b2CFmBCvDkAggJy3CxKsANgVNHYey99mJrZqX21l/BNZXcKMBhp5pV3s0K72aRO3Pc1BruHqznymHdlGJ14k7D2i9h6Qj4N9mbkfmugxtawHVNoEA573zhYkbqN8+BDd/Z/4478V8VS9SByu2h3L1ahDAQniM/1VEB3U/wl7mtAjrsBloASy4K6M2Ad5PeS3dez6W/Rn4P6OZd4moDfuLsqRjWZnuSoMR46L4Ocjl7NfH0k/voyn9Wwif1ICwSem0lMSScTuNWMuvP/eSLDOfbLrdxTa5sPqqMb26z9O9D1grvx06fpWzBHIx9tCoFcib7Tu2CxeI+hwpNfVOxK+Uu8WftbdUO/gU1usKdb3ik5WYrwJhTZ9l99CT/HDllzf44fvosx07HcSz2LPEJidZrDcFZshAcnIUc4SHkzh5Gnogw8mQP45rc2SgUlS3lVx88UsOkQk4chA+rwslDUKc31P2fJ0tXWZcTMCPOY5vCPysgIi+0/8EOQJnhMFuxzehlj4qWqA0tvrCnP+twnoAJ5is/g58HwfH9dv1Cs8ONLeHmR+DqSt4J5alJmCnxG3+AVV/YW9meO8zovVmToVKbzLe7hvOeioCrkQK687pMAd0O4dWA5sAmwHz9fhUwNulXX+d1W4Zq5PeAbmrf97s/GfPLduZH9aVE7F9w/yf2t8w60i9gtrcy21yVbwotPmfU4r9544cNhAUHMfHJW6lcLHf6y3bwlRv2xtB29HIOHIulSJ5sfPFotQv3Sv+pHyx+F0rWhbbTHNySAKzab5/CD8/ao5fdVqUrRJgwvvXACcx2euv3xLB+r/3r6Mm4DIGY5948D8XzZqdcoZxUuDonFa+JonDubJ5df2Hd1zC1gz3V/Yn5UMise6DDqwJnToB5fcVM8c2aC9p/DwXNRLhMdJiZKea5MovHmRkaZnaAWclbhzMEzJe/q8bBooH2u+HmyFkYqnW019RxwhcqR3bYdVwxGk4etOtoXgOp0gFqdIPI/M6wVC28J2Bm5Zgvko/vA7N2ivkSyXy5aXZbMa9fJL2CEXPyLFHN3jb1MHujxnivQirZVQEFdDBzEj8E2gPmJdazSf+ekPTf4l3FDJDzHBHQN+0/xp2DF/Fy6HgeD/4BKrWDez8IEEKHVnNYVXsk8/5RrIxqYL3rfzYhkX5NK1qLqWXmY9fhk7T5dBnbD50kX2QYn3WoaoUx6ziyHd437wcn2iEyT8nMTOG7tpmQZFzNAkaN37F/MHXx2Bd9mkWbDrBk60GWbD3Ev8diU7wyb9JoeP7IcHJkDSFH1lAis4ZYW+2ZUfT4xETi4xOtGRSHT57hyIkzHDweyz9HTxEXn5himeY1iFuK56ZqiTxUK5HXCu4hwUEu1jyF08xU9yltYcN0OySakO7Ebb3S30JnXWlGLCe0sN/zNQtqtf02sKe1X07XvGdsvogwP1ybV8HaTIO8ZrMZHX4V2DQLfnwBDtuLlZLzGqjdC25u7czf+2ZU/Y8p8OuH9s8I5jAL0VV9wg7q2fP5lVM395CAWZtg92+w/097wckDm+yt/OJT/vs1+V1jYhOJesu85auA7qHeyHAxCuj/ERYFKgKRwCpgc4Z1nVmAIwK6oTHvRufeNZdRYe9B3jLQdYUzxQKhVgc3w7Aq1t7MR7pspMlHa9gbfZq7byjE0FY3e3bE0KEeZgS9/Zjl/LknhsjwED5uW5kapZJ+8Pjiftj6E9TsAQ1ec2gLAqxaPw+BuX0gVzHosiLN92TNlyg/rtvHzHV7+X3nhasQh4UEcWPhKCpcHUX5q3Na6yWUyh9JtrAUFv5zgcmE9z1HT7Hz8EnMzhFmZH7dnmg27TturVmQ/MgeFmyF9XplC1C3bAEK545w4Q4XnXL8X/jQrOp+GOq+BHWed78MXZG2gFlnwyzM9+fX9qs8bb6BImY910x8mC8Yv2hmh0GzH7YZSS9k1rLV4XOBQ1vtYL55tn1r0x+1noPKHSA0AJYrMr9/TN0XvmUvLGcOMx3fBHWzkGpEHp+T6obpFDBfDJsQvnU+7PgFzCuO52ZyXFJkFogsAJFXQY6CSTsFZIPQbBASbp0dc+wUUQ+atbIV0NPZIx6/TAHd46SOL9AxAX3qyt30+/IXVmXtSJAZ3ey52f5DRIf7Aj8PhrmvkViyHh3iX2TBXwcomS8707vWtMLqlXKYd5SfHLuSX/8+ZE3t/6DVTTSqWMhePMdsY2R+oOqxPs0weaV4pbudp2Pg/RvtQGq2hDKrBadwnDxzlu//2Mvk33axcseRC864qUguapXJR/VSealUNHfKq/Cnu4IpX3jmbALmlYjl2w6zbNsh698xp82kqf+Oa6+KpO51BazAbl4LcXl0/fyq7qHQcSFcVcHDtVdxnHuNx7xO0PprKGl2Sb0CDvMFkFmpft8f9g/XrSbae1/r8I2AmbWx6B345QNIiLO+COfWp+wv4sJz+KYOnryLCXcmqC9487+gHh4FtZ61Z0KZ4KbDeQJnTsKWuWBmcPw9/9JAniXI/nun0E2Q/zowW++ZX2b9geDL/xyod9Cd190K6GAMzIajdQGTDi+e63i/87otQzVyTEA/dSaeqgPmMiWhJ+WCdtp712oRr/R17qgG1tSmhWVepN3a6wkPCWLa07dZ795eaYdZhLD7pNX8+Oc+zG5ybzS9noerFLJXuDfvX7UYC+Xvu9JYPNvehe/A/P72zJfOSy/5y9+E4LG/7uC7NXs4HmsHYNMXZqS6yfWFaFihIFclX8zPs7VzuTQz0r5xXwyLNh1k/sZ/WbnziDV1/txhptg3rFiQJhULcWvJPJcP6+aH3kmPwF8/2COcZus1TXV3uS/SPNG8S/vt0/Zp9w23F+C6kg6zUvfEh2HHzxAcDg+OhnJ3X0kC/mnrjl9hehd7qrA5SjeARm9BvjL+qY8n72r+zDJhb14/2L/OLtm8R2+2+DNrAgWlbwaTJ6t4xZdlvgw3X6aY3UJMODfvjp87zJ8DxaqDWanfzCQywTzcTAJ2/1BAd9/M21cooMP7gHl5cj5gluC8+MXFDt7uBB+X75iAbtr96rfrKPlbX9qHzIaqHaHJOz7myAS3i9kLg8paDalx5kP2JOTm7Qeu56FbzFsbV+ZhQtbL09YxcflOC+C5O66lS+JEsvz8HpSqZ0+N1ZE+gVNHYMiNEBtth4SKD1jlmMXeFm0+aC1OuHhz0oJEQLG8EbSoUoQHKxd2RCi/XKOjT8axcPMBK6zP/+vfCxaqM6vDN6xwFY0rFrJG/UNTem/92D57qvvpo1DvFajdM33GuupCgW2L7GneCWftvcHrv3JlCpmRXDPF3+yvbUbL7vnAXpVbh+cFzEJaZsbG8k/sHwvN9OC73oOyd/t2VXbPt+zSEs1CYuYd9XlvQIzZ2MgslXw93NHX3rddh28FTH+YEfJV4+0V+ZO/Q27Woih7D5RpAEWre2y2gwK6b7vYlbspoMNhoDUwwxWwTHCOowK6eTd02LCBDA/7gLP5KxDytNntTodbAkkraf8ZdB13nezDXdcXYtjDV8Z755dzMoFx0JxNDJ1nj3x0rxxG9z/NZBngmTVXzn7dbj1MLpx8blV8s7J0p5+JS4RvV++xgvnGfdYiM9ZoeePrC9G6WjGqlchDkPkPAXbExSdgtvGbsXavtVXh4RNnzrcgV0QoDcsX5O4bC1G9ZN4LR9bXTIZvnrT3he+4KPNs/eWv/jMLHX3aAMwIcoX74YFPIcj1Rf3Ml3Wm78waFWYBwXP/Nlv3xZyKs2Z4mF8nYs02fmeJPZvA2YQEzOu65t/mejOpwmzrF2p+hQRZX86YX2HBWax1EszihWYRw5xJ/zavFeWOCCNfjjDyZg8nX45wa/HK8BAPjEiarQ2/f8ZendscDfpCze7+6p3Med+/F9qzNaJ32e27uQ3c2Q+yZc6dUM53ollMbtlHsHiQ/QWsOczuJ6btmW2XBCc+uWYtodXjYc0kOLb3vxrmLW3P+jN72ZvZWVk8//epArrzHgjP97Lz2phWjbYBjYGNaZ3opc/NnL1eQEFgDdAVWH6Ze5nt4PoBxZMWsuvt5pcLjgropp3thn7H54dak0gWsvTelvn/EvT0g2RGlrbO4624lnyTvTmzutcmV4TZnECHEfjsl2289t16C2NmnsGUO/mbvbBP/VcF5K6A2a5lyA0Qd4L45uOYdvpmPpi3mR2H7Gl3EWHB/2fvPMCjqrY2/CYEQu9VulRBiqKgYkUFLKiAKCJ27A29etXrvb+9iyL23ntXsGChi4gNpPfeO6EkpPzPOmcGIiZkJpkzc2bm28+TJ2XO2Xvtd50k8+299lqcfWhDLu7alIbVi5FsLVx7onR9dk4ukxZuYISJ9WmrnLrsweburNd1EjLaYoRlmOfd/jDnG7cG8iXfFXn+L0rTiL9h7Hl7sRtsWgwNOsMFXxaYjGvzjl0sWJvhJAVctnEHS9Zvd75eunG7kywz/7GFWEIwEW8VCWpVSqd+1XLUq1qW/aqWY78qe742kV9ks9BkS9A4wQIALXTqWjjxHk/euBdpSyJdkJ3p7ppPfMqdle1WWpRCMzsBmURt+wa3ZOsvL0CO/a1LgY7nQrfbofJ+SQQiClO1cn2WI8ciNaxsZLDZYlC7s9z8Lh6J8vyzk0CPgq/DHEICHS4AegIXAzvC5FfSy88O1Fq/Aphkm3yBeuytgDUFdH44MA64DRgOnAPcGqjdHjhAVKRJvhPo7/2yhEOHd6dZ6kryznmPlFa2XqIWEoEdm8h9uBmpedkclzmEuy8+naNaqLbp3uw+/3M5//pgCicwiefKDCW3Qh1Sb5yuM8IhPWT5Lhr5X/jpSTZVbUufXfexICDM7az2JUc15dzOjalSPgSBEe64PrrexN6kBesZ/tdKJyt9/p112yXteWBdzmhWik4jepJiu75WNcCqB6iFR8DCud84DZZOcqNdBv3A5tQqzF29lblrMrBSnXNXZzB3zVZWb9l3GSHbcLJntGZF28l2BbL5ysRwhfQ0p3Sf7Xrb1+VKlyKtVAqlUlKcXfPg11ay0qIq3A/3a0s6uC0rB0tOabvvez5ns3G7W/JvfYb7ubCyf3tDMTvqVXGFe/1q5Rwh73xUK+f8rE6l9D0RG5a07LtAuL8JKBOTRSSDCs8JSXT1mpnw8aA9Z7EPudhd9AjhTK9Fa+3YlYMtFDlRGLtyycrJcaIx7BlxPgLPS/Br+zti6yx2ptLut+Z+v+fn9gbdklTaop89h87n1NTA18HPKU40R9nSpZxnt2xp92v3w/26wOM4objWKgjYgsW0j92r08q5i0Fdr4vP5HihzDla11hN8t9ec2vUWxlFayml3BwHll+jZc/dGdajYZIEejQohzeGBDpYuko7kNoVWATs2gvhweEhDetqE+WTgWsCd1ncnsVUPQk8WEBP71thDyB/ZpifgT8BE/mhNN8JdAst/Pr+fpyZ8iPLDhhEg7OHhDIPXQNkTH6XiiOuYG5ufd4+5EPuPE2Zowt7MMbMWcs1b07ix9SrqJWyma2nv0qlgxItB6R3vxZ5W1aSO7QDpXIzuTDr34zO7YiFel9+dDMuOKIx5cskT7WAIGXbWf95ge2sr+Draav+dmb9wvITuDP3aXJTLdR9HKl13DwRaiEQyM0l84OLSZ/1KTvTKvFAvSf5fm0Vp759Ya1u5bI0qlGeRtXL07BaeRrVKOd8tkgOE+chZ+MPwbxwLzEBtmVHNmsz3DD71Vt2smLTTlZu3uF8tpKA9vXG7Xu//fjnSLZoYHMNivbuWT/QY8F9pOblkNGkO6X6vUq5CsVLFBXuvBLiejvL8MsL5H33f6TkZJJTrgYrj3mE5bWPdQR38MOOQ+T/fs/X2c5Rib3LN/qJjQn7vUW7RTsFRb19beLejmvYZ+e1fF/X2zqNdjMepdq635xpZZerxaYuN5HTcSBl09Od64u9COAnUF7bYiswS39xn7cZn5NiFQGA3PK12NH+fDa3PZfMcnV3L/7tXhQMLPAEFwbzLxIGFwrzv+Ys/gQWfKx/57tAdq3gglBgTWj3dTu3Z/BA/y52eRWruuY1CvVfNAEJdPggkMH9o0KSxN1VNMZiXWExyBYXaodiP8vXw+sWWGV5agvo1TJeWaHCofleM/vOAAorjGpFDt1Ch26zmiDLNm/eTOXK/snw/fGrj9J38T0sTG9N09ts3UItFAK/P3oaB2eM4e0y/eh78/NRKVUVil1+veaPJRv5/ZXBXMJn/FLqIOpf+7XzRldt3wSmLtvE8neu5aTtX/BrbksuTr2Hyxxh3sQ5f6uG86bqp/nrGTF1hXNmffOOLF4t/TDHlZrCXykt+KTjK5zSoYFTUi4ez+R76WM7Fz5t+Wb+CnwcsfhZLsr5iF15pTh/161MzN2z8Gi7yy3qVKJl7Yq0qGMflWhRu2JCPIdW2WTF5h2sDIj2ZZt2sHyjifgdzuKEifiCduJPSP2Np0sPIz1lF5NyW3Nz2m1UqVbT+dtW0E58tfKlSfHgHKuXz0gofeffyXYE9Pa/i+q9RXZqxmou3zSEzjluTfAfczpyy67LWOu8BQu/2eJJ5bJpTq6BMmmp7oflKgh8bdVVgt/b3wB7A25+cD+7JYWC3zvf5FkehDwnF0J2jn0OfORYnoQ85+iGLRLaTr19WAUT+7Dd/J27csOfwD7vyKNH6q/cmvYOTVMtnzLOxsD92QMYldvR2dkPCvz8n/eIf4tOSQ0sBLiRKsGFgLJpbjRAKYsOSA1ErgQ+G1MnkiU1NfDZ/T7Y9o46sJ/bc7BHoLrKNMdySlj0S4CZ/R4Fc0w4X+d7zVjvCjIP/HyXk5siz1mIsa+DItn53vyRE3gtGGWTHYiyycklNTuTbtnjOCvvK9pgp2rdZv9L38juzte5ndlFbBe4czO3s3ToWWaWBHqEf3OK250EOmwDegDjiwuxmPfZQZ7ldnoMmJivD0tjbsVdnaWsvZodBrKQ/Hfz/fwq4A7LuVmIHXcGXv/by34T6Ivmz6LJm13IzktlzdVz2a92zWJiTZ7bRk5ZxBGfdKFiyk7mnf4lzQ86OnkmX4KZLpr7F03ePpLcvBTOTH+Ghy7p5bzJV/snARMGj3w7m0l/TGFU+o2kp2TzXpunOanX2VQpJ2Fe2DNjYawT5q9j/G9TGDznPCqxg/t2DeDFnFOpUzndqbF+bKvadG1e0wmtTqa2aXuWI8SnLtvMlKWbnK/tnHiwnVlqDI+Wft759uH0a1nWpC/t6lehbf3KtN2vSlI/dybIbDHDxLrzkU+8V1s7mTsz7qZSyg5m5DbmgqxbChWapUulOMnralQsQw0L+69gn92vLdrA8irYwps9m3Zu3j7bMQCvd0lzc91Q8eBxgS07s9nyj+MDu5xoBDtO8Pcd7fB2sk9M/ZWHSr9A9ZQMduaV5t7sgbyVc4IjEu1vm31UDnx2v0/b/XP3+zJ7vi/vXl+hTCnfLHyYSN0j2nMDoj2/gM9hR1Yu27OyHVG/PcsV9s6HfZ2Vw3YT+vY58Jpdl5W5k5Myv2FQzgdUS3GTgk7Iacv92ecyPc9SI6kFCdRiEwPTvufcUt9TM8XdlLZn7fOcrryRcyLT85ruhmULNM7ijSWgdBJRukcXnO/tmEP+79Pc1/a8bkcg9iSudBd/UnYv+tggzgJQYFHOEX7OgpArAe3HmdsyuOPMQ+1bCXSfPMIS6G5yOFs2mhplnxQm0B8BjgIOK8CeggS6JZmzQ2iWZK6gFhc76Gb42ntaUitnNe+3HsbZ/W0dQq0wAvYm945HH+eJ3PvZWqYWlW6bqwRBYTwuma/0In3JWJ7MPoOXy5zLyxccSqfGCZ6hNww+ltX62dHzeGncQudN3v1pLzIgbRSZDbqSPihZCl6EAWwfl+6a/BqlR1zPrpQy9M59mGmZtXdfbW/CujStwbGtanFc69rsX7OCb97gR2L2dnzJdsZNjE91Pm/anVAwf//2BtHm3rvqAq5cdjOl8rLJPHww6T28CmCLxOz810feyinkvXUmqdvWsL1iI77q8AxzdtV0hHxwN95C7Ivb7ExzxfTSgZBmVyTYrvBusZDm7nLm2g5mvvPV+Xc5bfFqZ7a7w2uCLygi3XPbkdn1NRsKE9k1yuTQfflTtF3+oYMho3pbVh3/JOXqt/GdyC6un6Jy345N5Fm290nPOUcDLMlvRqu+rOh0E1vL1Nkj9AOCf/cCQAELAfY82OKTExHwt8/uzrTzWl4wYsD9HGz5Iw/+9rOAugkK1dSUwBl+R8judZ7ffhY857/7a/c6p3pDPqHsPOtpKQUL50Df1bbMpPGc16i5eASpgTD2XRXqsaX9Rew88FzSKtUM/M7sEdr5owKi4r+9BtEZ9FhQ3/eYEuhwSiBzup3htjPo0WrRCnHfez6+O4MeNHD5K+dTf8nnvJTSl/NufzEyJWmi5c0oj3PjB3/Seeod9E8bTXanQaT10rn9sFww/VP48EI2pFan8/ahlC6dzjPnHuyIpGRuFub3wa/LeOy72azLcDOV92q4k2HrLiUlLwcu/hYaFbR2mMzUipi7qZO3+jiVFnIbdGbckW8yas56fpy1xsk0nr/pQOmzAAAgAElEQVTVrpRO56bVnWzwnZvWcEK34yUc3pLlzVq5hZmrtmLlM/9avol5azKcEmV7t8Y1yju74h0aVKV9A9sdr0LFrQvhJSuntgna9oa+r4RVTk1PYIDAhgXwxhlu5nur3T3wE6h74G48JoqtCsEGS163zU1it96S2W3bk9TOEtxlWNI7K0G3M9sRW9FsJlZs5975SHdL2NmOfuVye0rZ2c8KFuHuzn+BIfyrp8NHF8PaQNEeS3jW7X9RTcYVTY5RGWvjYvjxHvjLXfAgrSx0uRyOuA4qJFEkpNUut5rlPz/792zsDbtAlyvggF6+TkorgR6V35awBpFAh41WHcj+rATOhO+dpaV6WETDu9gOW1tJNSutZs2SxNk5c6vxUViSOLO1V75hrC6D7f7HbZK44Fxyfn2NUsOvd87Qrej9Mb0PahAezSS5etTsNVzy6iR+Sb/KDZs6/3PY/9gkmX2EppmdBY8dANvXMbTmnQxd1tKp3f3vnq25/Oj9E2oXM1RilkTvvhEzmLM6w7mlSY3y3HbyAXSfcwcpVpe1+Ykw0FJ1qIVNYNNSeOZwyNoKPR6Aw69yzkkuXLfNEeqjZ6/ll4Ub/rGDaGeFOzas6oR2HxgI8W5QrVxMn08LOV60bhsL1m5z6t7PXLmFWau2FJpJ3RKamQjv0LCqI8rt63+UgbRyai8dD5Y1usGhgXJqyg0R9nMWvGHrKnirr5uRPL0KnPV6iUqF2RnbYJ14i66x3dA9Ge2DWcrznLO5trsZDKe1v6nuDqcbbmvNdtzTS5dyPjuJy9LcbOP2MzuLHDy/HNEz8rZIZmWsrApFTiZUqA29n4PmxxcbsW7ci8Dy312+iye4L5SuAJ0HJb5Q37ER/njLLUm3yd6+2zv5NHeRscuV0KBTXDwqEuj+c5MEunume1/NkrZ51YJl1i4LCHUrs2bh9pbu17JwvBE4p25l1azZefWxgNU+HwH0B/4T72XWdsNdNw+e6kRmXmnOq/0hH1ydZLVHQ3jK7Nxdj8fHst+WP/ko/W4oWwVunu/rldkQphWbS777P6eOcG6zE7it3B28/6sVUIBT2tfjkTPbJ01W8tmrtnLfVzMZO2etM3/blbr++BYMPKwxZTbOg2e6QF4uXDoK6ntZ1CI2j0HURv31VRg+2C1VdOUEqNHsb0PbzuafSzc5Qt0+flu8scCdS0tCtX+tis4CSpOaFWhSowINq5ejVsWy1KxUpkTPrS0a2LneVVt2smpz4GPLTidEetH6bc6CQjCyoiBulkH9gHqVaF238m4xXrty2X0jzl9OrWpjp5waFVUqssTP5Y5N8G5/WDLRLd90yhA45KISdxt3HWxbD59fDXO+dk1v0QNOf1rPmBeOtIWQOd/C6AdgpRUXMqFeHg69BA6/BioVdhLTC2M87NPmufw3t0SalaDLDuTQKFcdrDyfzTfO6sVLoHv4vBSzawn0YoKL4G1WYu3mwBly+4t2XaAmug0xOhB2f2G+8foB99oGlyXRBP4NhHMo1Lch7nZoLfeRFqRuX8tZmf/jf1dfSrsGlq9CLUjg9k//4u1JS3iw4vv0z/4c2p8NfV4QoOIQWD8fnjTBmULe9VN4a1Yed305wzkD17puJZ4/rxONa1hVw8Rsa7bu5LGRc/jg16VOGLKdtzv/8CZc2635nh3ODy+C6Z9A61Oh/9uJCSJas7I3dW+eAQtGQ6Mj4MIR+wzhth1KO7/tfmxh2orNTu3vouppW2Zkq/Vt4cC2O2k7krZTaTuWZkLwnKedE87MztmdcMtNzJUd0jlgqyPetEYFWtat6IjxA+pVplXdSuEnvDODrPb0tI/cnd5B30GtVtHySOKPY4sfX1wLf1mxGlyRdOLdkFoq8eduM5w/Cj69wq0zXSodut8DnS9TvhavvW+/13NHukJ9hZshn9TScGAfOOwq2K+j1xZ403/mVjeU34T5qr/2jFG7rRvW3/4sKB2fkT8S6N48MiXpNVkFuonUYJ2/omqNJVo9QP8KdHuSP7wQpn/Ko7v6sbrjtTzSr7DqcSV57OPz3onz13POi1b2Po+Ztf5Dua2Lod/r0Naq7KkVi8Drp8HCMXD0zdDtv0xetIEr3/rdqVVs5xjv630gp3esX6yu/XqTZed9cdwCnhsz3wlVtXZyu7r8u0drZ0d2d1s1DZ7r6qZ7tR3fOntKXfl1br63y85rWqj7rm1w0sPum7owmiXYmr82wwkxX7R+u/N54fptThkue2YjVVrJQuvrVC5L3SplnZrb9aqUo2mtCo4ob1KzfORKmv14H4x92A0JHfixjuqE8SyEfKmJpbGPwKj73FtanQx9XoT0BK6Vnp0JP94LPz3p1iqr2QrOfOVvZ/FD5qcLi0/AEerfwbghsNTeuwRa467uuexWJ/k/+i8nGxaOhqkfwMzh7t9ua7bgYwsOnS6Chp3jftFHAr34j7lXdyarQLd3pfWANYClDS0gjU2wCiWJttTsb4Fu58S+uomxOe0YlHc7P93azdkNSvZmoqrnE2OdDMiDO+QwePZ5UKoM/HsBpKtEWLGfj2mfwEcXQcW6cMN0KJXm1Bq+9p0/+HWxpaeAPgfV567T20ZOlBTb2JLdaCWMPv59GY+OnL37vLCdb/7vKQdwSJMCUm28OwBmj4C2faDfqyUbXHfvITD5JRjxLzf00xY+qu8fEToWnr4tK4d1WzNZm5HpnBnOXxPZvrZMxsG6wqVSUpz6zLbTbgm4gom4rMyW7bh73v58Fz4LpE457Sk4+DzPh0zqAf76CD67yj2DbTt+Z7/5j2MWCcFnxZ/w2ZWwZoY7HQs57n4flLH0PWoxI2Ah4ZZAzRK05ma7ZpSv6e46dxwAddvFzLR/DJybCyt+B3t/YNE9GW7dd6fVaO4+Ux3OgfJepqiKLg4J9OjyDmW0ZBXoVmfcMlnYXwn7el9tTCgg4+gafwt0y7L67BHsoCztdr7AtSe04foTWsQRXm9MvXf4DF4av5B6Vcoy+rDfSR9zr5J2RQJ1vmRxnPUGtDnd6dWymT81ah7DfpjrhH/b2drHzupQsJCNhB0e9mHCbeSM1Tz+3RwnqZc1SzR2S8/WnNq+XsEJxyzhz4vHQUoqXDUJarX00MIk69re/L1xGiwaBw06w0VfOwtDSdUWjoM3e4OVIDryBjjhzqSafswmu/QXeG8AbFsL6ZXhjGfhgFNjZk5EB87ZBVb2yyIyTABWqAW9noDWVqhHzTcENi8HW6T88+2/C19bNDJftT4Z6nWM/o501nY3wd2s4TD7G/dYRLDZ2fID+7pHChscEn3bouA8CfQoQA5ziGQV6Ibp/4BHA5nbw8QW15f7W6Dbm9eHmzqldk7PvJvlFdow/pZu0dnR8albf1+ykb7P/uScH331wkM5btw5sPxXOPVxdyVXrWQEfrgHxj0KTY6CC4f/rS8LeR/83p8s37TD+fnAwxo5md4rly1dsjGjcLcJ89Fz1jrC3OpQW7Nd0muOa84FRzTZ9++UZYCe9727S2DZjtUiS8BC3Z87CjI3w1E3wfH/i2z/fu7NkoFaxnYrp9bmDDjzVZVTi6a/tqx0j5IFQ46tHNbxd8T3ItHqGe6ueTAx2QGnuf8fk6nMVzSfoUiMZaHj839whfrsryHHLevptMr1ofkJYKHwTbpCFQ8q+th5cou2WDQeFo5131Plt6FMJWhxorvD3+x4SLPKyInbJND959tkFuj5w9z95xnvLPK3QLd5v3sOzP6Kp9Iu4NGMHjzctz1nHdrQOyI+7tmSOJ0ybLxTT9hCrR87uS4MCSRRunEWVLaTGmolIrB5GQxtD1bn+8qf/nHW2rJaW/kxqw9urU7ldG4/pQ29Ctt9LpExJb/ZEeaz1zoRAJYJ3JolDru4a1MuPWp/qpQvYnFhyc/wSg/3XPA1kyMWgl3ymSVYD8HjFXaa6oIvoOnRCTbBAqaTsRZePsEtp1b/EHdBLE6TKsW1s2y3+fs7YaJVdLWQms7Q5/n4+13ftcM9Xz/hCXfXvGxVN1u97XYG67rFtaOSxPjtG9zs73akat6Pe855B6dvgr3Oge7/5toHQJWGrmivVG/fC0u2CLBjg1v+bNNi2LDQLT24cipsWPDP0602Tsse7k6+LdinJc/xSgl0//2uJbNAt7PnVvPBzqEnU/O/QLfELiP/y+KaR3PMsitoWaci3w4+Oqa1f2P1gAwZOZsnf5xHzYpl+O6GY6g28223VFP9TnDpj7EyK/HGff88mPmFm/Cl19AC5/fT/HXc/uk0p9SUNavrfPvJB9C5qT/OoVkCsS+nrOCFsQuYvdoNZbfM3bZbbrXda4Say+G1U93w604XuiGiat4RsAzbv7/hvtG8YgJUqOHdWLHu2UJIX+/l7lQ55dS+h4q1Y21Vco8//TM3y3vmFrdudc/74eAL4kPczv8Rht/gLvZYs+R3pzymRet4f6Kt8oDtaC8aC4t/cne5bfG8sFamopuHx3J6WDopCzW0xZqdm93nel+t0n7Q+HBXjNsCqeUDSdKFHQl0//3iJLtArwO4xX+Tp/lfoFsykRe7kZdehXY7niMjK4/XL+7MMS2Tqzbu9BWbOe2pCU5ZpGfPPZiT2tWDt/u55Uu6/Q+Ovil5nlqvZ2phbq+d4v6Tv3EmlKta4IiWaMsEcP4M6Me2qsWVxzRzhHpKDP65WwZvK5X23i9LnfrV1iwD/YAujRh0ZFOKrEOdf6YLxrjnoy0B4XV/eBNa6LUv46n/rG3wwrGwbg607AnnvJeYbxBzc+CD893zneWqwSXfQU3lFvHFo2q7i59eCYvHu+ZYOO8pj/p3N93KY9ruvy2oWjORdfIjiXOW3hcPhY+MyMxwd72trJl9Nv9vXgp2lt1yWBTZUtwF0GqNoWojqN3GTUhXtz1UTK73lPtCJYFe5IMU9QuSXaDbwcyCMrjnd4Q/tsci92j4X6BbWNJDjSErg+cPeIMH/kjjqBY1efOSLpGj4POerAbyGU9PYPqKLZx0YF2eHdgJ7B/Vw/u7WXiv+tkN9VKLDAFbdX/2CDfzb48H4PCr9tmv1RAf+v1c3p+81FlAsWYZ0S8+sind29TxPGeCLRRYGPv7k5cwZs5aJ5GdNatPbaHsJs6rlAvznLwxsND2pZOg8+Vw8sORYate9k3A3ni+2M09/2jZpo+4JvGIfX0rTHrWLU10/ufurpWafwhY7pefn4Yf7nafw7SycNS/oOv1/gnztTBoC2e3Si8mzCyBpf2d6na7Kpn450mKniW26Ldjk5vHw86TW4SOLZDbc5FSCspWcRcD7XOyJeEshhck0IsBzeNbkl2gDwbc7EmFt9c99kG0u/e/QDcib/ZxEohsPOZeOo3c3xEgw689kgPrV4k2r5iM9/SoeTzy7Wyqli/NyBuOpnalsjDjc3cXqlpTd3czBru1MYERrUF/fcUNmbQwt2t+CylxldWhtpriH/62DAsxt2aJ2E5tvx+9OtTjkMbVnVJWkWgbt2Xx0/z1fDN9FT/OXO2U1Aq2w/avzjmdG9HzwLqkpxWzRNackfBOP0grB9f/CZXsBJBaVAgEyks6byzP/yyxzqNPfAa+vc3FaLWo7Xywmj8JWAK/ETfCwkDxmmpN4Nj/QLszIbWYf1dKOtMdG2HSC+4CgoUtW7MEYifeA3XalLR33S8CIgBIoPvvMUh2ga4z6P57Jl2Lxj4KP97jlL26LucGvpiygpPb1eWZczv51eKI2TVn9VZOHTaerJxcp7RXn4MDGUw/uRymvgeHXwM97ovYeOooQMAiFB5r467In/sxtDghZDRrt2by5sRFfPTbMlZsdsPMrVUoU4rDm9XgsP1r0KZeZVrXq0z1CkVng7XkgPPXbGPWqi1MW76FnxesZ+aqLc7xumCzknunddiP/p0b0bRmhZBtLfBC20F74RhYNRWOuBa631uy/nR3eATMsZ9e4f5+W23gy8ckxvGCaR/DR5e4gWon3u3uyKr5m4A9i+a3b2/fU2rKwoKPvRVanxo9oW7Z5n95wd0xz3Jzajj127vfA82P9zdDWScCcUZAAt1/Dktmga4s7pVtM92nbfFEeLWnU8t09sDf6fHEOGfD+LsbjqZ57Uo+NbrkZln97b7PTWTK0k0c16oWr1x4qHuu2cL+H20Otptw4Vdu6RG1yBP45j/uTk2L7nDuh2H3n5ub54jpj39fzujZa1i/LV/pmEBv1cqXdkLRa1RIp3I5t/61vSe2BZl1GZmY2F+XkbU7dD6/ES1qV+S41rWdYw8dGlQlNTVCf8Knf+qWXrLSMoOnQvlEO9kTtiujf4OFaL7S3T1rud/Bbn300mWjb0ekRrSszFZz2xI2HXqpe05YUT+Rout9P5YfYdLzMGHonp1rO8Nrvjz4PDd8ONLNFgoXjAKLZrLSW8HkYLZAYCH3bXtHb4Eg0nNTfyLgYwIS6P5zToTe3flvYiFYpCzufhbo2ZnwQEP3vPU1v3LpV5v5bsZq+h7cgCFndQjBvfF5yfNj5vPA17OolJ7GyBuPpl6Vcu5EFo6D10+FctXhprk6U+WVey0BzZMWpZHnPHclSWRlYn3Gyi2MnbuWP5dsYtaqrSzZsD1kyyuXTaN1Xdt1r0SnxtWcnXjnqEOkmy3+PHu4m6js2NvcnTK12BCwjNSWNM4W4tr3d2vQx6OotaSLb/WF7J3Qrh/0fiGkIyOxga5R90nAnsWJT8Pkl92SVdYsiaQlk2t7BrQ6yT3nW9xm/+sXT4CZX8KsEZCxek9PDQ+DrtdBy5P0/BSXr+4TgRAISKCHACnKlySzQI8yat8MFx9n0A3Xq6e4mWVPHcqUOr05/ekJlEpNYfRNx9KwupXUSKw2f20GJz0xzjnL/FDfdpx9aKM9E/zmNvj5GegwAHo/m1gT99ts3h3g1mP1oMxYRmY2S9ZvZ8O2LNZvy2TLzmyrgk1qSgppqSnUrFSGWhXLOrXWbZc9Klnh/3gbPr/KXfy5fgqU9XFkjd+eFS/ssfJRb53p7h4ecyscFzi/7cVYXvRpVTheP81J8ukIq7PfhFJhJiz0wi71WTICVnP8rw/dXXXLph1sljehXntodATUPRBqtYIqjdwonPzn1m13fOcmtyb1+nnucZolk2DFH+5CfLClV4EO/eGQi5QItWQe090iEDIBCfSQUUXtQgn0qKH2zUDxI9BHPQBjHoS2faDfq5z38iTGzV3HwMMace8Z7XwDNBKGWCbws5+fyK+LNzoZ69+4uPMecWbxz090gE2L4ey34IBekRhSfRRGwGqvvnqSm8l48LTELsViu1dPHgKbl7hJl2y3Si32BH57Hb4M+OL0Z+Cgc2NvUygWrJzqlumzXVerLXzuR/Edph/KnJPxmjUzwWqoz/gM1s4qhECKm13dsmpbRNJOq0ldSNGcCrWh9cnu/7YmR0Na0Xk6khG75iwCXhGQQPeKbPH7lUAvPrt4vTN+BHpQKFnSpJvm8vOijfR/4WcnK/bYm4+jbhUPwn1j5NVXxi/k7uEznKRiI288hvpVA6HtZs/q6W4JMBOM/14AZUqYECxGc4ybYW1BxMperfg9PncwwwEdzB5udWKtMkDpfM9dOP3o2sgTsJJX44ZAahoM+MD/ibGW/w5v9nZ3Set3csupmUBTS2wCm5eB5YxZ9osr1tfOhow1+xDjtaB6M6jVEhp2AQtjr9EsPo9yJLZnNbskIiCB7j9nS6D7zydeWxQ/Aj07y62Hvms7XDGBvDptOfuFn/ll4QanpNQDfRJjF33x+m30GDqWnbtyufeMAxl4WOO/PwNjHoFR90LLnjDgfa+fD/VvBKZ9Ah9dBOVrwA3TE1O4WlKyYR3dM5+nDIFDB8n3fiJgIcGfXArTPnJL31nSwqZH+cnCPbYs/cU9c565BRp0hoEflexcsj9nKatCJWB5Ley8ev5dczunXraqdsdDZajrRCCKBCTQowg7xKEk0EMElUCXxY9AN+j2pm/e99Djfjj8an5dtIEzn5vonEW3jO7716oY166xRGLnvPgzkxZu4PD9a/D2oC7/zMxtSaPsnF6vYdDpgrieb9wYb28whx3khn6f+jgccnHcmB6yoeOHwvd3QNXGbkI8hZWGjC5qF9oRhPcHwtyRULoCDPwYGh8eteFDGsjOzL9/nnvmvHFXdxFRO+chodNFIiACIuAHAhLofvDC322QQPefT7y2KL4E+oRh8N3/oEUPOPcDh83Fr03mx1lrOLV9PZ4acLDXvDzt/+XxC7ln+AzKlS7Ft4OPplGNvZLfbVkBjx0AlkrspjlQsban9qjzfAR+fha+uRVqNIerf0ms8j7bN7gLEBaOfMZz0PEcud6vBHbthPfOARPCZSrCwE+gURd/WPvHW/Dl9W4ptabHwDnv6giOPzwjK0RABEQgZAIS6CGjitqFEuhRQ+2bgeJLoK+cAs8f7b4xvWWRkw14xootnDxsnAN0+LVHcmD9EpR4iaFbZq/aSq+nxjtZ2wsMbTfbJr8EI/7lho0O+i6G1ibh0Jlb4fG2bg3gfq+5NXgTpX17O0x8Cqy+8BXjE2vxIVF8lH8elkH7nbNg4VgoXd59Hlv2iN1MLU/DaEvi+ZBrg5VSO/1pSEuPnU0aWQREQAREoFgEJNCLhc3TmyTQPcXry87jS6DbOcxHmrnn2S7+Fhod5kC97t0/+GLKCo5pWYvXL+7sS9D7MiozO4fTn5rg1Mbu1ro2L19wSMEltd7sA/N/gBPuhCNviLt5xr3Bo+53RUidA+HycYlRi3fDQni6M+RkuSHTzU+IezclxQQsZ8AH57lHfqy0lR29iMWRFztXbGX5rG61taNugm7/VZKvpHgINUkREIFEJCCB7j+vSqD7zydeWxRfAt1ofHCBW87l2P/Asbc4fBat28YJj40hOzfPObfdtXlNr7lFtP/7v5rJC2MXUKNCGb4ZfLRT8/ofzd4IP7w/5O6Cqye7WW/VokvAQsGHtnPP1/Z/B1qfEt3xvRjtw4tg+ifQrBuc96kXI6hPrwjk7HJDyv982x3hkEug5wPR27leNQ0+OB82zIfU0m5ywVgsEnjFV/2KgAiIQBISkED3n9Ml0P3nE68tij+B/usrMPwGNwHRRV/t5nPH59N4feJiWtapyFfXHUVaKau36v/20/x1nPvSJJxqXucfwolt6hRsdDCTuJ2BvvY3/08sUS38/k4Y/zjsdxBcOiq+dwqXToaXbcc8xQ1tr3tgonotcedlfzjGPOyGmFtdaStp1vclqL6/d3POzYGfhoFFlFjkReUGcNbr0OAQ78ZUzyIgAiIgAlEhIIEeFcxhDSKBHhauhLg4/gT6+vnw5MHujs2ti3cnIdq0PYtjHx3Npu27uLNXGy7s2tT3Dtq4LYtTho1jxeadnNO5IQ/0aV+4zR8Pgr8+hCOug+73+H5uCWvgtnXuLrqV+zv3Y2gRpyHhJuxe6QlLf4aOA+GMpxPWZUkxsTkj3TJslujPzqUf/3/Q+bLI5xNY9ht8fTMsDywStjzJPW9eoUZSYNYkRUAERCDRCUig+8/DEuj+84nXFsWfQDdhYQJp89J/CKS3fl7Mfz+bRuWyaYy++TiqVyjjNb9i928l1S55fTKjZq+lac0KToK7CulpBfdnNeAfbe4mKMt39r7Yg+vGkhEIJlVr2MX1R0oc/umc8YV7htlqal/3O1Ter2RMdHfsCWxcDJ9fDYvcpJnUbQ8n3AHNji/5M2oLo7ZTP/U9t+/0ynDSQ9DhnJL3HXtyskAEREAERCBAQALdf49CHL7L9B/EOLMo/gS6Af7savjzLTjiWuh+727kObl5nPrkeGau3EK/Tg14pF8H37rj2dHzeeibWZRJS+Wzq7rSZj9zRSFt3g/wVh+oUAv+NTvyu2K+peRTw7augqHtISczPnfRrVTXM4fBxoVw9L+h2+0+BS2zwiZgiTR/fw1G/h9kbXVvb3QEdL4UWp8aXn1762vJRJj8Isz4HPJy3f46DHB36CvXC9s83SACIiACIuBvAhLo/vOPBLr/fOK1RfEp0Kd+CJ8McneIrgjsFgVI/bZ4A2c+N9E50/3mJZ05qkUtrxmG3f+kBesZ8NIkbEHhwT7t6N+50b77sERQv70GnS6CXkPDHk83eEAguItepx1cPja+MrrbTuio+6BSPbhmMqRX8gCQuowpATuKMW6IW5rRzolbK18TWpzo7qhbDoVqjZ1SlbubnS3fsgKWTYYlP8Os4bBl+Z7XW3SHY291z7mriYAIiIAIJCQBCXT/uVUC3X8+8dqi+BToW1fDEMtingL/XgDlq/+NUzBhXINq5fh28NGFh457TbeA/tds2ens8q/Zmkmfg+oz5KwOBZdUC95rb5qHtIJta2HgJ9D8+BhYrSH/QcAyuj/RATK3QJ8Xof1Z8QFp4yJ4ugtk74QzX4ED+8aH3bKyeAQ2L3cX935/AzJW/b0PK89WvgaUKgN5OZCxxv2cv6VXgTa9oMuVSiJYPA/oLhEQARGIKwIS6P5zlwS6/3zitUXxKdCNytOHwdqZ0O81aNv7b5y2ZWbT/fGxLN+0gwuPaMKdp7X1mmNI/e/clcPZz09kyrLNtKhdkc+v6Ur5MoWcOw/2uPgnePUkKFsFbpoXXohqSFbpomITsB3KH+6Gqo3gml+jV96q2AYD7w6A2SOg6dFw/hc6P1wSlvF0r5VkWzwB7LjMwrGwbo6b6HDvZqK9ThtoeBjsfww0PxFKl42nmcpWERABERCBEhCQQC8BPI9ulUD3CGwI3doW8JNAL8AO+n0MXA9k7OPe0cAxe73+PHBFCOMFL4lfgf7Nf+Dnp+GggW4W4b3amDlrueCVX5yfvnrRoRzXqnYYWCJ/aV5eHte99ydfTllB1fKl+fzqrjSuUaHogb65DX5+Btr3hz7mXjXfEMjaDsMOcncmez4Ih13pG9MKNMQyfb/TD1LT4IoJULu1v+2Vdd4RsDNAFs6+YwOYeLdEh2eHXI4AACAASURBVBXrQsXaynHhHXX1LAIiIAK+JyCB7j8XSaDHzidfA5Zx53LADgW+CkwGBhQh0OcA/5fvGtsS2RLGNOJXoAcTp9k52htnFrgTGAx1r1GhDF9ffxS1K8duJ2jYD3N57Ls5pKWm8OYlXTi8WQhlifJnrO//DrQ+JQzX6tKoELDwYcsRUK46XP+nG+ngx2aLCc8eDhbivldyRT+aK5tEQAREQAREQASiT0ACPfrMixpRAr0oQt68fgAwAzgU+DUwRE/gK6ABsKKQYW0H/U9gcAnMil+BbpmoH2oC2Tvgyp+gzj/D2C2kvPczPzlZ3Y9oVsMRxqVSo/+Yf/zbMv714RTHTSElhQs6dPnv8OJxbl1jO2tfulwJXK1bPSGQk+1mRF8/Fw67Gnre78kwJe40GIlRuT5cPUmJ4UoMVB2IgAiIgAiIQOIRkED3n0+jr1z8xyAWFl0MDAGq5RvcDibvBPoBn+5DoJsqNb9Z9p8vgXuAAg4WFjqt+BXoNqW3+8HckXDCXXBkwesU89dm0OvJ8WzPyuGSI5vyv1PbRNXH305fxVVv/+5kbL/0qKbcfkoY439/F4x/DNqcDme9EVW7NVgYBOZ+D2/3BTu/a1UFClgsCqO3yF9qGblfsTW/vPgsCxd5IupRBERABERABESgAAIS6P57LCTQY+OT/wAXAK32Gn4NcAfwbCFmXQYsDuywtwceAuzQdZ99TCMdsI9gs/pKyzZv3kzlyvuowx0bLkWPOul5+Prf0OQouHB4odcPn7qCa975w3n9vt4Hcm6XxkX3HYErxs5Zy6DXfyUrJ9epy/5Q3/akhrqDb+HtTx0C6+dB35eh3ZkRsEhdeEbg/YEw80u35vRFX/kn+dquHfDcke5z1PFcOOMZzxCoYxEQAREQAREQgfgmIIHuP/9JoEfWJw8CtxTRpYW3m6AuSKCvBf4HPBeiWd2AH4DmwPxC7rkzIPr/9nLcCvT18+HJgyG1NNyycJ9hu0/+MJch381xQtxfOv8QjmvtbdK4kdNXOYsCJs57tq3LUwMOIq1UaoiuBNbMgme6uCWQbp4PZeNwASX02cb/lZuWwlOHukcuzngOOp7jjzl9938w4Qk3AdjVP0O5/IE6/jBRVoiACIiACIiACPiDgAS6P/yQ3woJ9Mj6pBZQVCawBcDAYoa4722tpQS3rO8Wy/ptIVNJrB10m+QTHWHjQigiiZplUf/XB1P45I/llCmVyvPndfJMpH/6xzJu+nCqE9Z+0oF1Gdq/I+lppcJ7usY8AqPuhRY94NwPwrtXV8eGwLjH4Ie7oGxV95x3pbqxsSM46sJx8MZpkJcL/d+F1ifH1h6NLgIiIAIiIAIi4GsCEuj+c48Eemx8EkwSdwjwW8CE7sA3RSSJ29varsB4oAMwNcSpxPcZdJvkiJtg8otwyMVw6uP7nPaunFyufecPvpm+itKlUnh6wMF0bxs5EWWCfMjI2Twz2g1g6HuwhbW3C2/nPDgDC0te9Rec9hQcfF6I7tRlMSVg5apeOh5WToGWJ8E578Yu1H3beniuK2xdCR0Hwhn/LEUYU1YaXAREQAREQAREwHcEJNB95xIn2ZhabAhYmbU6gRrmwTJrltE9WGatfiB8/fzAOfNmgdcs0/t6wM6gmzpdVkBt9H3NKP4F+pxv4Z2zoEojGDy1SEFkIn3we38y4q+V2HHw2046gEFHNSXF6gCXoK3LyOTmD6cwaradTIDLj9mfW3q0Dv3Mef6x182Dpzq5ScdumgsVigrEKIHhujWyBFbPgBeOgZwsOONZ6LivSomRHXp3b5a/4N3+MOcbqNECLh8DZSzARk0EREAEREAEREAECicgge6/p6NkCsV/84kni6oDTwG9gFzgY+C6QMi6zaMJsBA4DrDyag2Bt4ADAXvnvTSQ7f3epKmDHvRu1ja33JoJoqsnQ62WRfo9OyeX/342jfcmGzbo0bYO9/duR42K+fPnFdmNc4GFzg+fupI7vpjOhm1ZpKel8vCZ7Tm9o62pFLONeRhG3QfNjofzPilmJ7otZgSCoe5lKsFlo6GmpYWIYhs3BH64G0qlw6U/QN12URxcQ4mACIiACIiACMQrAQl0/3lOAt1/PvHaovjfQTdCb5wOC0ZD9/vgiGtCYmbC+rWfFnH/VzPZlZNH1fKlGXx8CwZ0aUyZtNCSuf2xZCNDRs5h/Lx1zpit61ZiyFkdaLtflZBsKPSiZw6HNTPg9KfhIEtRoBZXBKw2+uu9YMlPULsNDPo+ejvYs76C92zXPs898mFHP9REQAREQAREQAREIAQCEughQIryJRLoUQbug+ESQ6BPfAa+vQ0aHwkXjQgL6/QVm53kcbNWbXXuq1Upnf6HNqRH27ocUK+yk/U92EzUL9+0g1Gz1jjJ5v5Yssl5yc6zX3Vsc64+rnnI4r5QI4PZ2y0z/c1zlXU7LG/66OKtq+C5o2DbGmh/NvR+vsjjFyW2fvV0eLk7ZGXAoYPglCEl7lIdiIAIiIAIiIAIJA8BCXT/+VoC3X8+8dqixBDoGxfBEx0gJdUtSVbeTgyE3izk/d3JS7FSbGu2Zu6+sWzpVBpXr0DFsmnsyMph5eYdbNy+a/frJswtlP3641vQsHr50Afc15Wj7ocxD0HLnjDg/cj0qV5iQ2DRBHcnPS8Huv0Pjr7JOzs2LIRXT3KTwjU5Cs77FEpZOgs1ERABERABERABEQiNgAR6aJyieZUEejRp+2OsxBDoxvLZrrB6WolqUGdl5/L1tJWMmLqScXPXsWNXzj+8ZDvqHRtWpXubOvQ5uIGz4x6xZsm9rJb2+rnQ+wXocHbEulZHMSIw6Xn4+t/u4L2GQacLIm/I5uXwak/YtMQNqb9wRNiLVJE3Sj2KgAiIgAiIgAjEGwEJdP95TALdfz7x2qLEEeg/3gdjH4YDesHZlj+vZM1Kpi1av43lG3ewLTObcmVKUbNiOs1rV6Rs6TBrmodqipVVs/Jqltzr5nlQ1tyjFvcEvr8Lxj/mRnic+Qq07R25KdnO+Vt9YcN8qL4/XPQNVLKCEGoiIAIiIAIiIAIiEB4BCfTweEXjagn0aFD21xiJI9BX/AEvHAulK8C/F0Dpsv4iHYo1QSHX+lTo/3Yod+iaeCBgkRFfXAt/vOmK9FOHRmYnfflv8M7ZsG2tW2bQ8i9UbRQPRGSjCIiACIiACIiADwlIoPvPKRLo/vOJ1xYljkA3EfR4W9iyHAZ8AC17eM0usv2b/cMOgo0Loe/L0O7MyPav3mJLIDcHht8Av7/u2nHY1XDiXcU7J27PypT3YMSNsGu7W0ZtwIdQuV5s56jRRUAEREAEREAE4pqABLr/3CeB7j+feG1R4gh0IzXiXzD5JTj4AjhtmNfsItv/0l/g5RPdCICb5kB6xcj2r95iT8CEtSUBtKMY1vY7yC2lV6dt6LbZefNv/wMzPnPvaXY8nPU6pFcKvQ9dKQIiIAIiIAIiIAIFEJBA999jIYHuP594bVFiCfR5P8BbfaBiHbhxFqSGVs/ca8gh9T/8Rvj1ZWjfH/o8H9ItuihOCcz8Ej67GjI3Q0op6DgAul4PNVsUPqHNy2DSczD5Fdi1zb3vuNvgyBsh1aOcCHGKV2aLgAiIgAiIgAgUj4AEevG4eXmXBLqXdP3Zd2IJ9OwseKQZZG6BS76Hhof6k/reVmVnwpBWsGOjWx6rWbf4sFtWFp/AlpXw1U0wa/iePup1hCZHQs2WboLArG2wfh4snghLf95zXYPOcMqjUK9D8cfXnSIgAiIgAiIgAiKwFwEJdP89EhLo/vOJ1xYllkA3Wh9eBNM/ga6D3TO+8dBsR/X9gVCpHtwwXTui8eCzSNm4dDKMGwJzR7r10vfVGh8JXa+DFt0hRX+uI+UC9SMCIiACIiACIuASkED335Ogd3z+84nXFiWeQJ/2CXx0EVRtDNdPiQ8h89657k7qEddB93u89rn69yOBjDVgRzSWTXYTHe7cAmUqQJX6YDvrLU6EKg38aLlsEgEREAEREAERSBACEuj+c6QEuv984rVFiSfQLSz4keZudutLf4T6nbxmWLL+t2+AR1tC7i64ciLUaVOy/nS3CIiACIiACIiACIiACBSDgAR6MaB5fIsEuseAfdh94gl0gxwMcz/8Guhxnw+x5zPJss5b9nkrlXXFeH/bKutEQAREQAREQAREQAQSloAEuv9cK4HuP594bVFiCvTgme7KDWDwX/7O5v7SibDsF+h+Hxxxjdf+Vv8iIAIiIAIiIAIiIAIiUCABCXT/PRgS6P7zidcWJaZA37XTzeaelQGXfAcNO3vNsXj9r5sLTx0CKaluWbhKdYrXj+4SAREQAREQAREQAREQgRISkEAvIUAPbpdA9wCqz7tMTIFu0D++FP76ALpcCSc96E83fHs7THwKWp4EA97zp42ySgREQAREQAREQAREICkISKD7z80S6P7zidcWJa5An/01vNsfKtaBG2ZAqTSvWYbXv9U+f+wA2L4eznkfWvUM735dLQIiIAIiIAIiIAIiIAIRJCCBHkGYEepKAj1CIOOom8QV6NlZMKQV7NgA537klqnyU5v2MXx0MVTazz0n77cFBD+xki0iIAIiIAIiIAIiIAKeE5BA9xxx2ANIoIeNLO5vSFyBbq75+haY9By07Q39XvOXs14/DRaOgWNugeP+4y/bZI0IiIAIiIAIiIAIiEDSEZBA95/LJdD95xOvLUpsgb5yCjx/NJQqAzfNgXLVvOYZWv8bFsCwg4AUGDwVqjYK7T5dJQIiIAIiIAIiIAIiIAIeEZBA9whsCbqVQC8BvDi9NbEFel4ePHckrJ4GpwyBQwf5w03B5HDNT4CBH/vDJlkhAiIgAiIgAiIgAiKQ1AQk0P3nfgl0//nEa4sSW6AbvYlPw7f/gfqd4NIfveZZdP+ZGfBYG8jcDAM+hJbdi75HV4iACIiACIiACIiACIiAxwQk0D0GXIzuJdCLAS3Ob0l8gZ6xFh5rDbnZcOVEqNMmti775UX46iao0RyungypqbG1R6OLgAiIgAiIgAiIgAiIACCB7r/HQALdfz7x2qLEF+hG8P2BMPNLOOQSOPUxr5kW3n9uLjzdGdbPhZMegS6Xxc4WjSwCIiACIiACIiACIiAC+QhIoPvvcZBA959PvLYoOQT6wrHwei8oXQH+NRPKVvGaa8H9z/0e3u4L6ZXhxhmQXik2dmhUERABERABERABERABEdiLgAS6/x4JCXT/+cRri5JDoFuyuGcOg7WzoOeDcNiVXnMtuP83zoAFo+Cwq6DnA7GxQaOKgAiIgAiIgAiIgAiIQAEEJND991hIoPvPJ15blBwC3ShOfglG/AuqN4Nrfo3+2e9lv8FL3SClFFz3O1Rr4rVv1b8IiIAIiIAIiIAIiIAIhExAAj1kVFG7UAI9aqj/MdDtwClARyALqBqCKeavu4BLA9dPAGxreG4I9wYvSR6B7mRPPwAyt8C5H0OLE8LAFIFL3z0HZn8FHQZA72cj0KG6EAEREAEREAEREAEREIHIEZBAjxzLSPUkgR4pkuH3Y0J7E9AAuCREgX4LcBtwIbAAuAdoB1ia8p0hmpA8At2AfH0rTHoWmh4NF3wZIqIIXLZqGjzXFUiBayZDzRYR6FRdiIAIiIAIiIAIiIAIiEDkCEigR45lpHqSQI8UyeL3Y2J7aAgC3Xy1AhgCPBoYzjKfrQ4I9vdCNCG5BPqmJTDsILfk2sUjoVGXEDGV8LIPL4Lpn0DbPtDv1RJ2pttFQAREQAREQAREQAREIPIEJNAjz7SkPUqgl5Rgye8PVaDvD8wHDgL+zDfsmMD314doSnIJdIPy+TXwx5vQ/EQY+FGImEpwmbN7fiSQB1dMgLoHlqAz3SoCIiACIiACIiACIiAC3hCQQPeGa0l6lUAvCb3I3BuqQD8CsDPn+wEr8w39gasEObsQc9IB+wg2q/O1bPPmzVSubFo9CdqGBfBkJ8jLhUtHQf2DvZ30m71h/o/Qtjf0e83bsdS7CIiACIiACIiACIiACBSTgAR6McF5eJsEemThPgjYOfF9tQOAWfkuKKlA/xDIAfoXMuidwB17v5ZUAt0m/8llMPV9aHUynPNuZL2ev7d538NbfSG1tHv2vHpT78ZSzyIgAiIgAiIgAiIgAiJQAgIS6CWA59GtEuiRBVsLqFFEl5bczbK2B1uoAr24Ie7aQTfSa+fAM13cXfQLv4ImlsAtwi03B547CtZMh8Ouhp73R3gAdScCIiACIiACIiACIiACkSMggR45lpHqSQI9UiSL30+oAj2YJM4SxFmiOGsWo75GSeJChP/lYPjtVdjvIBj0Y+Trok9+GUbcCGWrwHV/QvnqIRqmy0RABERABERABERABEQg+gQk0KPPvKgRJdCLIuTd640AU3CnATcDRwWGmgdkBL62UHgrq/Zp4HsLn78VuABYGCiz1l5l1kJ0UsYaGHYwZG2F05+GgwaGeGMIl21ZCU93dmuu93wIDrsihJt0iQiIgAiIgAiIgAiIgAjEjoAEeuzYFzayBHrsfGLZw0xo792OA0YHfmjJ3y4CgpnGzF9WP/2yQFm28cBVwJwwppF8Wdzzw5nwBHz3f1C2qntGvGLtMNAVcmleHrw/EGYNh/qd4JLvILVUyftVDyIgAiIgAiIgAiIgAiLgIQEJdA/hFrNrCfRigovj25JboOdkw4vHwaqp0OZ06Pc6pJTw1+D3N+CLayE1DS4bo7JqcfzLIdNFQAREQAREQAREIJkISKD7z9slVCb+m5AsKpJAcgt0w7NyCrxwHOTlQK9h0KmgQIYiOboXrJnlCv5d2+GEu+DIwSHeqMtEQAREQAREQAREQAREILYEJNBjy7+g0SXQ/ecTry2SQDfC4x+H7++EtLJwyUio1yF87tvWw0vdYOMi2P9YGPhp5BPPhW+V7hABERABERABERABERCBkAhIoIeEKaoXSaBHFbcvBpNANzfk5sK7Z8PckVCxjivSqzUJ3UGZW91650snQdXGcOmPUKFm6PfrShEQAREQAREQAREQARGIMQEJ9Bg7oIDhJdD95xOvLZJADxLesQlePdmtW27ifOAnUKNZ0fztvrf7wbJfIL0KDPoOarUq+j5dIQIiIAIiIAIiIAIiIAI+IiCB7iNnBEyRQPefT7y2SAI9P2Erj/ZKD9i0GMpVh74vQfPjC/fBij/gwwvdsHbLBH/ep1D/YK99pv5FQAREQAREQAREQAREIOIEJNAjjrTEHUqglxhh3HUggb63y7audsPdTXxba9sHDrsKGhziZni3Mmqrp8EvL8Afb7vJ5ao0gnPegbrt4u4BkMEiIAIiIAIiIAIiIAIiYAQk0P33HEig+88nXlskgV4Q4axt8P1drgjHys8DZSpBpbqwfT3s2LDnrjZnQK+hUK6a175S/yIgAiIgAiIgAiIgAiLgGQEJdM/QFrtjCfRio4vbGyXQ9+W6FX/CpOdg+meQvWPPlWnloFk36Ho9NOoSt86X4SIgAiIgAiIgAiIgAiIQJCCB7r9nQQLdfz7x2iIJ9FAIZ2fBhgWwbS2UqwrVm0GZ8qHcqWtEQAREQAREQAREQAREIC4ISKD7z00S6P7zidcWSaB7TVj9i4AIiIAIiIAIiIAIiEAcEJBA95+TJND95xOvLZJA95qw+hcBERABERABERABERCBOCAgge4/J0mg+88nXlskge41YfUvAiIgAiIgAiIgAiIgAnFAQALdf06SQPefT7y2SALda8LqXwREQAREQAREQAREQATigIAEuv+cJIHuP594bZEEuteE1b8IiIAIiIAIiIAIiIAIxAEBCXT/OUkC3X8+8doiCXSvCat/ERABERABERABERABEYgDAhLo/nOSBLr/fOK1RRLoXhNW/yIgAiIgAiIgAiIgAiIQBwQk0P3nJAl0//nEa4sk0L0mrP5FQAREQAREQAREQAREIA4ISKD7z0kS6P7zidcWSaB7TVj9i4AIiIAIiIAIiIAIiEAcEJBA95+TJND95xOvLZJA95qw+hcBERABERABERABERCBOCAgge4/J0mg+88nXlskge41YfUvAiIgAiIgAiIgAiIgAnFAQALdf06SQPefT7y2SALda8LqXwREQAREQAREQAREQATigIAEuv+cJIHuP594bZEEuteE1b8IiIAIiIAIiIAIiIAIxAEBCXT/OUkC3X8+8doiCXSvCat/ERABERABERABERABEYgDAhLo/nOSBLr/fOK1RRLoXhNW/yIgAiIgAiIgAiIgAiIQBwQk0P3nJAl0//nEa4sk0L0mrP5FQAREQAREQAREQAREIA4ISKD7z0kS6P7zidcWSaB7TVj9i4AIiIAIiIAIiIAIiEAcEJBA95+TJND95xOvLZJA95qw+hcBERABERABERABERCBOCAgge4/J0mg+88nXlskge41YfUvAiIgAiIgAiIgAiIgAnFAQALdf06SQI+dT24HTgE6AllA1RBMeQ24YK/rvgV6hnBv8BIJ9DBg6VIREAEREAEREAEREAERSFQCEuj+86wEeux8chewCWgAXBKGQK8DXJTP7ExgYxjTkEAPA5YuFQEREAEREAEREAEREIFEJSCB7j/PSqDH3icXAkPDEOi2035GCcyWQC8BPN0qAiIgAiIgAiIgAiIgAolCQALdf56UQI+9T8IV6CbOLSTeds1/BP4LrA9jGhLoYcDSpSIgAiIgAiIgAiIgAiKQqAQk0P3nWQn02PskHIHeH9gOLASaAfcDGcDhQE4hU0kH7CPYKgHLNm/eTOXKptXVREAEREAEREAEREAEREAEkpGABLr/vC6BHlmfPAjcUkSXBwCz8l0TjkDfu+v9gfnACcAPhYx7J3DH3q9JoEfW8epNBERABERABERABERABOKNgAS6/zwmgR5Zn9QCahTR5YJAiHrwspIIdOtjbSDM/flCxtUOemR9rN5EQAREQAREQAREQAREICEISKD7z40S6LH3SUkEumWAXxJIGvdFiFPRGfQQQekyERABERABERABERABEUhkAhLo/vOuBHrsfNIIqA6cBtwMHBUwZV7gXLl9a6HwtwGfAhUDoeofA6sCZ9AfBuxMeTvAyq2F0iTQQ6Gka0RABERABERABERABEQgwQlIoPvPwRLosfPJa8AFBQx/HDA68PO8QM1zu7Yc8BlwUKAk2wpgJPA/YHUY05BADwOWLhUBERABERABERABERCBRCUgge4/z0qg+88nXlskge41YfUvAiIgAiIgAiIgAiIgAnFAQALdf06SQPefT7y2SALda8LqXwREQAREQAREQAREQATigIAEuv+cJIHuP594bZEEuteE1b8IiIAIiIAIiIAIiIAIxAEBCXT/OUkC3X8+8doiCXSvCat/ERABERABERABERABEYgDAhLo/nOSBLr/fOK1RRLoXhNW/yIgAiIgAiIgAiIgAiIQBwQk0P3nJAl0//nEa4sk0L0mrP5FQAREQAREQAREQAREIA4ISKD7z0kS6P7zidcWSaB7TVj9i4AIiIAIiIAIiIAIiEAcEJBA95+TJND95xOvLZJA95qw+hcBERABERABERABERCBOCAgge4/J0mg+88nXlskge41YfUvAiIgAiIgAiIgAiIgAnFAQALdf06SQPefT7y2SALda8LqXwREQAREQAREQAREQATigIAEuv+cJIHuP594bZEEuteE1b8IiIAIiIAIiIAIiIAIxAEBCXT/OUkC3X8+8doiCXSvCat/ERABERABERABERABEYgDAhLo/nOSBLr/fOK1RRLoXhNW/yIgAiIgAiIgAiIgAiIQBwQk0P3nJAl0//nEa4sk0L0mrP5FQAREQAREQAREQAREIA4ISKD7z0kS6P7zidcWSaB7TVj9i4AIiIAIiIAIiIAIiEAcEJBA95+TJND95xOvLZJA95qw+hcBERABERABERABERCBOCAgge4/J0mg+88nXlskge41YfUvAiIgAiIgAiIgAiIgAnFAQALdf06SQPefT7y2SALda8LqXwREQAREQAREQAREQATigIAEuv+cJIHuP594bZEEuteE1b8IiIAIiIAIiIAIiIAIxAEBCXT/OUkC3X8+8doiCXSvCat/ERABERABERABERABEYgDAhLo/nOSBLr/fOK1RRLoXhNW/yIgAiIgAiIgAiIgAiIQBwQk0P3nJAl0//nEa4sk0L0mrP5FQAREQAREQAREQAREIA4ISKD7z0kS6P7zidcWSaB7TVj9i4AIiIAIiIAIiIAIiEAcEJBA95+TJND95xOvLZJA95qw+hcBERABERABERABERCBOCAgge4/J0mg+88nXlskge41YfUvAiIgAiIgAiIgAiIgAnFAQALdf06SQPefT7y2SALda8LqXwREQAREQAREQAREQATigIAEuv+cJIHuP594bZEEuteE1b8IiIAIiIAIiIAIiIAIxAEBCXT/OUkC3X8+8doiCXSvCat/ERABERABERABERABEYgDAhLo/nOSBLr/fOK1RRLoXhNW/yIgAiIgAiIgAiIgAiIQBwQk0P3nJAn02PikCfA/oBtQF1gBvAXcB2Ttw6SywBCgP5AOfAtcBawOYxoS6GHA0qUiIAIiIAIiIAIiIAIikKgEJND951kJ9Nj4pCdwNvAuMA84EHgReBO4aR8mPQucAlwIbAaeAnKBrmFMQwI9DFi6VAREQAREQAREQAREQAQSlYAEuv88K4HuH5/cDFwJ7F+ISVWAtcAA4KPANa2BmcDhwM8hTkUCPURQukwEREAEREAEREAEREAEEpmABLr/vCuB7h+f3AvYzvohhZhk4fA/ANWATfmuWQwMBR4v5D4LhbePYKsELFu6dCmVK5tWVxMBERABERABERABERABEUhGAibQGzZsaFO3zcAtycjAb3OWQPeHR5oDvwXC2y3UvaBmO+ev7iW27bpfgFHA+YD7PQAADHpJREFULYXcdydwhz+mKStEQAREQAREQAREQAREQAR8SKApsMiHdiWdSRLokXX5g/sQysGRDgBm5Ru2PjAGGA0M2oc5hQn0yYGd9VsLubfAHXSgAbA1stNXbyLwNwJOtIaeNT0VUSCgZy0KkDWEQ0DPmh6EaBHQsxYt0hon+KxpB90nz4IEemQdUQuoUUSXC/Jlat8vIMzt/LglfrOEb4W14oa4792fcwZdYSyRdbx6K5CAnjU9GNEioGctWqQ1jp41PQPRIqBnLVqkNY6eNZ89AxLosXOI7ZxbaLqFtg8EcoowJZgk7hzg48C1LYHZxUkSJ4EeO8cn0cj6g59Ezo7xVPWsxdgBSTS8nrUkcnaMp6pnLcYOSKLh9az5zNkS6LFxiO2cW1j7EuD8vcT5qoBJJuAtKZy9bufMrVmZtZMDu+2WxOHJwM+PCGMa+iUMA5YuLREBPWslwqebwyCgZy0MWLq0RAT0rJUIn24Og4CetTBg6dISEdCzViJ8kb9ZAj3yTEPp0cLZLeFbQS3okybAQuC4QBi8XVsWGALYLrqdLf8WuAoIivpQxrb7bgMeADJDuUHXiEAxCehZKyY43RY2AT1rYSPTDcUkoGetmOB0W9gE9KyFjUw3FJOAnrVigvPqNgl0r8iqXxEQAREQAREQAREQAREQAREQAREIg4AEehiwdKkIiIAIiIAIiIAIiIAIiIAIiIAIeEVAAt0rsupXBERABERABERABERABERABERABMIgIIEeBixdKgIiIAIiIAIiIAIiIAIiIAIiIAJeEZBA94qs+hUBERABERABERABERABERABERCBMAhIoIcBK0EuvRq4GagLTAGuzVfGLUGmqGnEmMDRgWesE1AP6A18FmObNHxiErCKFH2A1sAO4CfgFmB2Yk5Xs4ohgSsB+7AKK9amA3cDX8fQJg2d+ATsb9z9wBPA4MSfrmYYZQJ3AnfsNab9/7T/qWoxJCCBHkP4MRj6bOAN4ApgUuCPfT+gFbAmBvZoyMQkcBLQFfgd+FgCPTGd7JNZfQO8B0wG0gJvZA8E2gDbfGKjzEgMAr2AHGBeYDoXBBYiDwqI9cSYpWbhJwKHAh8AW4BREuh+ck3C2GIC/UzghHwzygbWJcwM43QiEuhx6rhimm2i3N7IXhO4PxVYCjwJPFjMPnWbCOyLQJ4Euh6QKBKoFVhsPAYYG8VxNVRyEtgQEOkvJ+f0NWsPCVQMLHJfBfwX+FMC3UPaydu1CfQzgI7Ji8CfM5dA96dfvLCqDLA9sFKWP9z4daAqcLoXg6rPpCcggZ70j0BUATQH5gLtgGlRHVmDJROBUoBFn9n/T9tBn5FMk9dco0LAni1bALoBGC2BHhXmyTiICXQ79roZ2AlMBOxYxZJkhOGnOUug+8kb3tqyH7AcOCLwCxgc7WHAdpu6eDu8ek9SAhLoSer4GEzbIoK+CCw4HhmD8TVk4hOwhR97A1sWyAAGAF8l/rQ1wygT6A/cDliIu4kmCfQoOyCJhrMjiRatYefOLWeQnUevD9hRsa1JxMF3U5VA951LPDOoMIH+CHAUcJhnI6vjZCYggZ7M3o/u3J8F7M2GifNl0R1aoyUJAYtEaxRYBOoLDAoscGsHPUkegChMsyHwK9A9kMjXhpRAjwJ4DeEQsIjaxcCNgI7uxPChkECPIfwoD60Q9ygD13AOAQl0PQjRIPBU4JiOVRBYGI0BNYYIAN8D84HLRUMEIkTAzgN/GkhIGOzSjlTY/9JcIH2v1yI0rLoRgd0ELFeV/W2zUHe1GBGQQI8R+BgNa0nifgmUVjMTLCTUzpnYm1sliYuRUxJ8WAn0BHdwjKdn/8MsyaWV8js2cP48xiZp+CQi8GPgf+iFSTRnTdVbApWAxnsN8SowC3hIuTW8ha/enXB30wV2Nn2YeMSOgAR67NjHYuRgmbXLAkLdamqeFah3uDoWBmnMhCRgf+AtWZe1PwKhUlYixhLeKPFIQro8ZpN6JnAO2JJc5q99bglvrC66mghEioDVoraa51b5xESUnT+/BegBfBepQdSPCBRAQCHueiy8IvAo8GUgrN2Owt4VyOhupUrXejWo+i2agAR60YwS7QorsWYZG+sGsoJeF6iJnmjz1HxiR8B2Mk2Q790sK612mmLnl0Qc2SI0CmoXAa8l4oQ1p5gRsPOYxwcSKdkC0NTAjqbEecxckjQDS6AnjaujPtH3ADsaViMgyMcHEhTa0R21GBKQQI8hfA0tAiIgAiIgAiIgAiIgAiIgAiIgAkECEuh6FkRABERABERABERABERABERABETABwQk0H3gBJkgAiIgAiIgAiIgAiIgAiIgAiIgAhLoegZEQAREQAREQAREQAREQAREQAREwAcEJNB94ASZIAIiIAIiIAIiIAIiIAIiIAIiIAIS6HoGREAEREAEREAEREAEREAEREAERMAHBCTQfeAEmSACIiACIiACIiACIiACIiACIiACEuh6BkRABERABERABERABERABERABETABwQk0H3gBJkgAiIgAiIgAlEisAgYGviwIfOA3sBnHoy/91geDKEuRUAEREAERCCxCEigJ5Y/NRsREAEREIH4IXAEMA74Gjg1SmbvLZrrAhuBTKAJsBA4CPgzAvZIoEcAoroQAREQARFILgIS6Mnlb81WBERABETAPwReAjKAS4DWwPIomLYv0SyBHgUHaAgREAEREAER2BcBCXQ9HyIgAiIgAiIQfQIVgJXAocBdwFTg/oAZxwKjgJ7AgwHxPhHoD3QCHgPqA8OBQcD2wH2jgWmBr88DdgHPAv8XCGW3l/YV4m7h7vnbGMBssX5tR31wvhctJH4TcGHgZ7WBl4ETgFXAf4H79gqnrwo8CpwOpAO/AjcAU6KPXyOKgAiIgAiIgD8JSKD70y+ySgREQAREILEJXAxcGRDoFt5u58JbBIR0UKD/DNwUEOAfBHbYLRT9VqAi8CnwCPBQPoFuAt6EsgnzQ4AXAsL6xcA1+xLotljwS0BkTweygA0hCvSvgP2AKwILA8MCofL/yXfe/TtgB3A3sBm4PCDwWwbGSWyPa3YiIAIiIAIiEAIBCfQQIOkSERABERABEYgwgQmAie4ngLTAbnq/gBgOCnTbjf4hMK6J8geAZsCCwM+eC5wbt512a7bTbTvZbfPtmNsO/GlAmxAEemEh7kXtoJvAng10BiYHxrGQ/ZmBHXJbfDgSGBGwzxYZgm0e8HBgISHCiNWdCIiACIiACMQfAQn0+POZLBYBERABEYhvAq0CoegNgNWBqTwFVAbOD4SVW4i7ie21gdcvAuwaC40PNguN7wUcnE+gm3i33flgs3Dyj4CyQE4RIe7FFejBMSxsPTff2JZ8zmw0gX41YLvqtoOev5ULhL3fEt8ulfUiIAIiIAIiEBkCEuiR4aheREAEREAERCBUArZjfHNAMAfvsf/HtrNcLxAabgK9WuCct11jZ71N6No57mC7EzgD6OixQP8R+Au4Pt/Ythtuiwdml9nwYeBceWEC3QT4tYHFh7052Vn2daHC03UiIAIiIAIikMgEJNAT2buamwiIgAiIgN8IWDj7skBY98i9jLPEa5ZEbVYgSVxxBLrtugfD2a17C4u3He5QQtztDLllkrez67/ls+19wN4vnBX4WalAmL0tIphAt4gAszl/iHvwZ5YEzhYWTgyUk2se2MX3m19kjwiIgAiIgAj4goAEui/cICNEQAREQASShIDtNpvgNSFtidLyN0v21i2wu17cHfT/b++OURqIwiAAD4KlpehRvIOlheAxFARrD2DtObyBVl5BsPIGVhYWMvACEkIgsuwK+bZKILy3fJsik2zmb0lcC+Eex63vfXwznnevbSVx/fLgc7SvdwTc168ytzbHN6C/J7lOcjlK6lYt7p3lfjKK775HKO+5rEri+nnjOclRktskb6NU7nys00Z3BwECBAgQ2HsBAX3v3wIACBAgQGBGgackB0kaTNeP/gL9Om4lb3ncX35Bb/t6178at9C3zb0jz1Yj1LYF9J5Px7Z1LFvHuL2MW9IPR5ldQ3nD90OSs7Uxa6dJGupbbNf/1XfP+7Uxaw3nHb12keR4jGNraL9L8jHjNbAVAQIECBD4twIC+r+9NE6MAAECBAjsJLCpbX2nBbyYAAECBAgQWFZAQF/W3+4ECBAgQGAqAQF9KknrECBAgACBhQQE9IXgbUuAAAECBCYWENAnBrUcAQIECBCYW0BAn1vcfgQIECBAgAABAgQIECBAYIPAD0n1KOicMK7YAAAAAElFTkSuQmCC\" width=\"1000\">"
      ],
      "text/plain": [
       "<IPython.core.display.HTML object>"
      ]
     },
     "metadata": {},
     "output_type": "display_data"
    },
    {
     "data": {
      "application/vnd.jupyter.widget-view+json": {
       "model_id": "5f4902bfbe4d457fa442347251ce41e9",
       "version_major": 2,
       "version_minor": 0
      },
      "text/html": [
       "<p>Failed to display Jupyter Widget of type <code>HBox</code>.</p>\n",
       "<p>\n",
       "  If you're reading this message in the Jupyter Notebook or JupyterLab Notebook, it may mean\n",
       "  that the widgets JavaScript is still loading. If this message persists, it\n",
       "  likely means that the widgets JavaScript library is either not installed or\n",
       "  not enabled. See the <a href=\"https://ipywidgets.readthedocs.io/en/stable/user_install.html\">Jupyter\n",
       "  Widgets Documentation</a> for setup instructions.\n",
       "</p>\n",
       "<p>\n",
       "  If you're reading this message in another frontend (for example, a static\n",
       "  rendering on GitHub or <a href=\"https://nbviewer.jupyter.org/\">NBViewer</a>),\n",
       "  it may mean that your frontend doesn't currently support widgets.\n",
       "</p>\n"
      ],
      "text/plain": [
       "HBox(children=(VBox(children=(FloatSlider(value=1.0, description='A 1', max=5.0, min=0.1), FloatSlider(value=1.0, description='\\\\(\\\\lambda\\\\) 1', max=5.0), FloatSlider(value=6.283185307179586, description='\\\\(\\\\omega\\\\) 1', max=12.566370614359172), FloatSlider(value=0.0, description='\\\\(\\\\phi\\\\) 1', max=6.3, min=-6.3))), VBox(children=(FloatSlider(value=1.5, description='A 2', max=5.0, min=0.1), FloatSlider(value=0.5, description='\\\\(\\\\lambda\\\\) 2', max=5.0), FloatSlider(value=6.283185307179586, description='\\\\(\\\\omega\\\\) 2', max=12.566370614359172), FloatSlider(value=0.0, description='\\\\(\\\\phi\\\\) 2', max=6.3, min=-6.3)))))"
      ]
     },
     "metadata": {},
     "output_type": "display_data"
    },
    {
     "data": {
      "application/vnd.jupyter.widget-view+json": {
       "model_id": "d7888cea789547a2aec8bb57b822cb27",
       "version_major": 2,
       "version_minor": 0
      },
      "text/html": [
       "<p>Failed to display Jupyter Widget of type <code>Output</code>.</p>\n",
       "<p>\n",
       "  If you're reading this message in the Jupyter Notebook or JupyterLab Notebook, it may mean\n",
       "  that the widgets JavaScript is still loading. If this message persists, it\n",
       "  likely means that the widgets JavaScript library is either not installed or\n",
       "  not enabled. See the <a href=\"https://ipywidgets.readthedocs.io/en/stable/user_install.html\">Jupyter\n",
       "  Widgets Documentation</a> for setup instructions.\n",
       "</p>\n",
       "<p>\n",
       "  If you're reading this message in another frontend (for example, a static\n",
       "  rendering on GitHub or <a href=\"https://nbviewer.jupyter.org/\">NBViewer</a>),\n",
       "  it may mean that your frontend doesn't currently support widgets.\n",
       "</p>\n"
      ],
      "text/plain": [
       "Output()"
      ]
     },
     "metadata": {},
     "output_type": "display_data"
    }
   ],
   "source": [
    "widget_2 = make_widget_2()\n",
    "display(*widget_2)"
   ]
  },
  {
   "cell_type": "code",
   "execution_count": null,
   "metadata": {},
   "outputs": [],
   "source": []
  }
 ],
 "metadata": {
  "celltoolbar": "Slideshow",
  "kernelspec": {
   "display_name": "Python 3",
   "language": "python",
   "name": "python3"
  },
  "language_info": {
   "codemirror_mode": {
    "name": "ipython",
    "version": 3
   },
   "file_extension": ".py",
   "mimetype": "text/x-python",
   "name": "python",
   "nbconvert_exporter": "python",
   "pygments_lexer": "ipython3",
   "version": "3.6.3"
  },
  "widgets": {
   "application/vnd.jupyter.widget-state+json": {
    "state": {
     "0082df935b7e41f3af1b7473f272bec5": {
      "model_module": "jupyter-js-widgets",
      "model_module_version": "~2.1.4",
      "model_name": "LayoutModel",
      "state": {
       "_model_module_version": "~2.1.4",
       "_view_module_version": "~2.1.4"
      }
     },
     "0333e6dda08b4670a5aa8b273af1f7b9": {
      "model_module": "@jupyter-widgets/controls",
      "model_module_version": "1.0.0",
      "model_name": "VBoxModel",
      "state": {
       "_dom_classes": [
        "widget-interact"
       ],
       "children": [
        "IPY_MODEL_42af0571bdd64c66bfd3c5c1b059beca",
        "IPY_MODEL_2c5b5b4d1c754113b2a88af151a57027",
        "IPY_MODEL_0913e54c41f24fdc877e2cbef27b9f36",
        "IPY_MODEL_4f3831f653f04b71b6a6d8bcd633d079",
        "IPY_MODEL_956e4bcb79ba4f749eeabd3f6c107c81",
        "IPY_MODEL_e4cbff63ca2a403382363ce2fde59745",
        "IPY_MODEL_bbbacd8c0476424d862b56367d2d095c",
        "IPY_MODEL_4f0b1c350c0d4ba8b16a4074e3991164",
        "IPY_MODEL_c193d3c52f3341e996718789df339a38"
       ],
       "layout": "IPY_MODEL_2327f88f61024e2a984549926057c43a"
      }
     },
     "049acad79a564478a68d36ba8acb4765": {
      "model_module": "@jupyter-widgets/controls",
      "model_module_version": "1.0.0",
      "model_name": "SliderStyleModel",
      "state": {
       "description_width": ""
      }
     },
     "0913e54c41f24fdc877e2cbef27b9f36": {
      "model_module": "@jupyter-widgets/controls",
      "model_module_version": "1.0.0",
      "model_name": "FloatSliderModel",
      "state": {
       "description": "omega_1",
       "layout": "IPY_MODEL_2ab93dce0f92409aae513fe5b316f656",
       "max": 12.566370614359172,
       "step": 0.1,
       "style": "IPY_MODEL_5c78285f9d6b4ee1babce1ac363e7e86",
       "value": 6.283185307179586
      }
     },
     "0b21dc30c639447bac6d86c0fc93af9e": {
      "model_module": "jupyter-js-widgets",
      "model_module_version": "~2.1.4",
      "model_name": "LayoutModel",
      "state": {
       "_model_module_version": "~2.1.4",
       "_view_module_version": "~2.1.4"
      }
     },
     "0bfcf6a0ac1b49a7b6f6a0fcd6afeda4": {
      "model_module": "jupyter-js-widgets",
      "model_module_version": "~2.1.4",
      "model_name": "FloatSliderModel",
      "state": {
       "_model_module_version": "~2.1.4",
       "_view_module_version": "~2.1.4",
       "description": "phi_1",
       "layout": "IPY_MODEL_0082df935b7e41f3af1b7473f272bec5",
       "max": 6.3,
       "min": -6.3,
       "step": 0.1
      }
     },
     "0d946b69e883442a916e0af9f80cc751": {
      "model_module": "jupyter-js-widgets",
      "model_module_version": "~2.1.4",
      "model_name": "LayoutModel",
      "state": {
       "_model_module_version": "~2.1.4",
       "_view_module_version": "~2.1.4"
      }
     },
     "155c271e15ea4ed388882a6a8d067cda": {
      "model_module": "jupyter-js-widgets",
      "model_module_version": "~2.1.4",
      "model_name": "OutputModel",
      "state": {
       "_model_module": "jupyter-js-widgets",
       "_model_module_version": "~2.1.4",
       "_view_module": "jupyter-js-widgets",
       "_view_module_version": "~2.1.4",
       "layout": "IPY_MODEL_2593c5e690474fb8b3764e5ec984e827",
       "msg_throttle": 1
      }
     },
     "17ece510f57e43fdb8da33b51cc4f30f": {
      "model_module": "jupyter-js-widgets",
      "model_module_version": "~2.1.4",
      "model_name": "FloatSliderModel",
      "state": {
       "_model_module_version": "~2.1.4",
       "_view_module_version": "~2.1.4",
       "description": "omega_1",
       "layout": "IPY_MODEL_d5db5c8372fc49be81a02b74daa9dfed",
       "max": 12.566370614359172,
       "step": 0.1,
       "value": 6.283185307179586
      }
     },
     "1b02b01e24e64aa787cf344d2ca975d3": {
      "model_module": "jupyter-js-widgets",
      "model_module_version": "~2.1.4",
      "model_name": "LayoutModel",
      "state": {
       "_model_module_version": "~2.1.4",
       "_view_module_version": "~2.1.4"
      }
     },
     "1d5eb88db4e441d0bb806a03ba4f042b": {
      "model_module": "jupyter-js-widgets",
      "model_module_version": "~2.1.4",
      "model_name": "LayoutModel",
      "state": {
       "_model_module_version": "~2.1.4",
       "_view_module_version": "~2.1.4"
      }
     },
     "2327f88f61024e2a984549926057c43a": {
      "model_module": "@jupyter-widgets/base",
      "model_module_version": "1.0.0",
      "model_name": "LayoutModel",
      "state": {}
     },
     "2533a923d05a41f6a595996efcb06c7c": {
      "model_module": "jupyter-js-widgets",
      "model_module_version": "~2.1.4",
      "model_name": "LayoutModel",
      "state": {
       "_model_module_version": "~2.1.4",
       "_view_module_version": "~2.1.4"
      }
     },
     "25430ebf5a1942769749f3aec9170fe2": {
      "model_module": "@jupyter-widgets/controls",
      "model_module_version": "1.0.0",
      "model_name": "SliderStyleModel",
      "state": {
       "description_width": ""
      }
     },
     "2593c5e690474fb8b3764e5ec984e827": {
      "model_module": "jupyter-js-widgets",
      "model_module_version": "~2.1.4",
      "model_name": "LayoutModel",
      "state": {
       "_model_module_version": "~2.1.4",
       "_view_module_version": "~2.1.4"
      }
     },
     "2817445cf1c04266948aab39bbddf7e2": {
      "model_module": "jupyter-js-widgets",
      "model_module_version": "~2.1.4",
      "model_name": "LayoutModel",
      "state": {
       "_model_module_version": "~2.1.4",
       "_view_module_version": "~2.1.4"
      }
     },
     "295533d023d24175874cfd499712e2a1": {
      "model_module": "jupyter-js-widgets",
      "model_module_version": "~2.1.4",
      "model_name": "LayoutModel",
      "state": {
       "_model_module_version": "~2.1.4",
       "_view_module_version": "~2.1.4"
      }
     },
     "2ab93dce0f92409aae513fe5b316f656": {
      "model_module": "@jupyter-widgets/base",
      "model_module_version": "1.0.0",
      "model_name": "LayoutModel",
      "state": {}
     },
     "2c5b5b4d1c754113b2a88af151a57027": {
      "model_module": "@jupyter-widgets/controls",
      "model_module_version": "1.0.0",
      "model_name": "FloatSliderModel",
      "state": {
       "description": "lambda_1",
       "layout": "IPY_MODEL_c6d5e6a962884649a3b20d64badff59f",
       "max": 5,
       "step": 0.1,
       "style": "IPY_MODEL_049acad79a564478a68d36ba8acb4765",
       "value": 1
      }
     },
     "2e536ff3107d4e55946d044ea3b30a2a": {
      "model_module": "jupyter-js-widgets",
      "model_module_version": "~2.1.4",
      "model_name": "FloatSliderModel",
      "state": {
       "_model_module_version": "~2.1.4",
       "_view_module_version": "~2.1.4",
       "description": "omega_2",
       "layout": "IPY_MODEL_cbfe3a71c154416ebc9f3515bb61eb76",
       "max": 12.566370614359172,
       "step": 0.1,
       "value": 6.283185307179586
      }
     },
     "2f6d1aebbd924efca1e1dac7cd9093da": {
      "model_module": "jupyter-js-widgets",
      "model_module_version": "~2.1.4",
      "model_name": "VBoxModel",
      "state": {
       "_dom_classes": [
        "widget-interact"
       ],
       "_model_module_version": "~2.1.4",
       "_view_module_version": "~2.1.4",
       "children": [
        "IPY_MODEL_8c82126dd7f74e54bd8a0d42ad46eb52",
        "IPY_MODEL_dee482da8f1d4af7b4e09d01b42317b4",
        "IPY_MODEL_17ece510f57e43fdb8da33b51cc4f30f",
        "IPY_MODEL_364450e3ac5243648bd9fe121ea454a2",
        "IPY_MODEL_ee5ffdf2632749bd8cd02f0c2ade0da5",
        "IPY_MODEL_54999527c1b045ef95be9da4ab3cece6",
        "IPY_MODEL_9fbb20fa137342ae9bb806bb2702c26c",
        "IPY_MODEL_eb2a2bba715d455dba5c0434eeb20cc7",
        "IPY_MODEL_cd9816bab0544e3f9348dea59a071420"
       ],
       "layout": "IPY_MODEL_6eed08c906274bf482b60fd55b37c3ad"
      }
     },
     "3027d0c0cba14f6daba3fd80d66210d9": {
      "model_module": "@jupyter-widgets/base",
      "model_module_version": "1.0.0",
      "model_name": "LayoutModel",
      "state": {}
     },
     "32487c2a3c9140f5ab4e8864fae3ab1b": {
      "model_module": "jupyter-js-widgets",
      "model_module_version": "~2.1.4",
      "model_name": "LayoutModel",
      "state": {
       "_model_module_version": "~2.1.4",
       "_view_module_version": "~2.1.4"
      }
     },
     "364450e3ac5243648bd9fe121ea454a2": {
      "model_module": "jupyter-js-widgets",
      "model_module_version": "~2.1.4",
      "model_name": "FloatSliderModel",
      "state": {
       "_model_module_version": "~2.1.4",
       "_view_module_version": "~2.1.4",
       "description": "phi_1",
       "layout": "IPY_MODEL_0b21dc30c639447bac6d86c0fc93af9e",
       "max": 6.3,
       "min": -6.3,
       "step": 0.1
      }
     },
     "3ed205dca8e341b1bb6cf6467c45c4c1": {
      "model_module": "jupyter-js-widgets",
      "model_module_version": "~2.1.4",
      "model_name": "LayoutModel",
      "state": {
       "_model_module_version": "~2.1.4",
       "_view_module_version": "~2.1.4"
      }
     },
     "42af0571bdd64c66bfd3c5c1b059beca": {
      "model_module": "@jupyter-widgets/controls",
      "model_module_version": "1.0.0",
      "model_name": "FloatSliderModel",
      "state": {
       "description": "Amp_1",
       "layout": "IPY_MODEL_9275002512fe4e90af5beca5b6e93ba7",
       "max": 5,
       "min": 0.1,
       "step": 0.1,
       "style": "IPY_MODEL_25430ebf5a1942769749f3aec9170fe2",
       "value": 1
      }
     },
     "46fbf0194e674f259f3f5cf4248a266c": {
      "model_module": "@jupyter-widgets/base",
      "model_module_version": "1.0.0",
      "model_name": "LayoutModel",
      "state": {}
     },
     "4708a4386e6d48dc85665ee0139c4d22": {
      "model_module": "jupyter-js-widgets",
      "model_module_version": "~2.1.4",
      "model_name": "FloatSliderModel",
      "state": {
       "_model_module_version": "~2.1.4",
       "_view_module_version": "~2.1.4",
       "description": "Amp_1",
       "layout": "IPY_MODEL_ccf3afd23f3a4d08b86d4d4ba23c1c43",
       "max": 5,
       "min": 0.1,
       "step": 0.1,
       "value": 1
      }
     },
     "4e71b1d9fa554b7cb8bdde0fa3ab3b00": {
      "model_module": "jupyter-js-widgets",
      "model_module_version": "~2.1.4",
      "model_name": "VBoxModel",
      "state": {
       "_dom_classes": [
        "widget-interact"
       ],
       "_model_module_version": "~2.1.4",
       "_view_module_version": "~2.1.4",
       "children": [
        "IPY_MODEL_4708a4386e6d48dc85665ee0139c4d22",
        "IPY_MODEL_5b417b5777f1445e937e82260887e506",
        "IPY_MODEL_5be29ffa2e5047ad8e3417e19d5862f5",
        "IPY_MODEL_7535344df8c845ec8b56537adb1447b3",
        "IPY_MODEL_4f166689fdc24477bb3591268c5be15e",
        "IPY_MODEL_c2e50e792fc64a49b06e6ead704845c2",
        "IPY_MODEL_9915b04ed0ef4cc09587e5aee708afee",
        "IPY_MODEL_87b94afec1a8453fad83be8a7080c114",
        "IPY_MODEL_155c271e15ea4ed388882a6a8d067cda"
       ],
       "layout": "IPY_MODEL_1d5eb88db4e441d0bb806a03ba4f042b"
      }
     },
     "4f0b1c350c0d4ba8b16a4074e3991164": {
      "model_module": "@jupyter-widgets/controls",
      "model_module_version": "1.0.0",
      "model_name": "FloatSliderModel",
      "state": {
       "description": "phi_2",
       "layout": "IPY_MODEL_90b745c9978944389e33117589908a42",
       "max": 6.3,
       "min": -6.3,
       "step": 0.1,
       "style": "IPY_MODEL_9556b1d23b584876bcaeafd3aad709f5"
      }
     },
     "4f166689fdc24477bb3591268c5be15e": {
      "model_module": "jupyter-js-widgets",
      "model_module_version": "~2.1.4",
      "model_name": "FloatSliderModel",
      "state": {
       "_model_module_version": "~2.1.4",
       "_view_module_version": "~2.1.4",
       "description": "Amp_2",
       "layout": "IPY_MODEL_1b02b01e24e64aa787cf344d2ca975d3",
       "max": 5,
       "min": 0.1,
       "step": 0.1,
       "value": 1.5
      }
     },
     "4f3831f653f04b71b6a6d8bcd633d079": {
      "model_module": "@jupyter-widgets/controls",
      "model_module_version": "1.0.0",
      "model_name": "FloatSliderModel",
      "state": {
       "description": "phi_1",
       "layout": "IPY_MODEL_3027d0c0cba14f6daba3fd80d66210d9",
       "max": 6.3,
       "min": -6.3,
       "step": 0.1,
       "style": "IPY_MODEL_c128fb41d69243e5af058854b4f51d06"
      }
     },
     "54999527c1b045ef95be9da4ab3cece6": {
      "model_module": "jupyter-js-widgets",
      "model_module_version": "~2.1.4",
      "model_name": "FloatSliderModel",
      "state": {
       "_model_module_version": "~2.1.4",
       "_view_module_version": "~2.1.4",
       "description": "lambda_2",
       "layout": "IPY_MODEL_85f57be149da4d70a11da663a4c4b94e",
       "max": 5,
       "step": 0.1,
       "value": 0.5
      }
     },
     "5b417b5777f1445e937e82260887e506": {
      "model_module": "jupyter-js-widgets",
      "model_module_version": "~2.1.4",
      "model_name": "FloatSliderModel",
      "state": {
       "_model_module_version": "~2.1.4",
       "_view_module_version": "~2.1.4",
       "description": "lambda_1",
       "layout": "IPY_MODEL_dc7f9f0f62cb47789a7224f8e8d2fe12",
       "max": 5,
       "step": 0.1,
       "value": 1
      }
     },
     "5be29ffa2e5047ad8e3417e19d5862f5": {
      "model_module": "jupyter-js-widgets",
      "model_module_version": "~2.1.4",
      "model_name": "FloatSliderModel",
      "state": {
       "_model_module_version": "~2.1.4",
       "_view_module_version": "~2.1.4",
       "description": "omega_1",
       "layout": "IPY_MODEL_b21c82dca7e14c8091389a04715d8a76",
       "max": 12.566370614359172,
       "step": 0.1,
       "value": 6.283185307179586
      }
     },
     "5c78285f9d6b4ee1babce1ac363e7e86": {
      "model_module": "@jupyter-widgets/controls",
      "model_module_version": "1.0.0",
      "model_name": "SliderStyleModel",
      "state": {
       "description_width": ""
      }
     },
     "5e82047962294ab5a8b76ea66510c5a7": {
      "model_module": "jupyter-js-widgets",
      "model_module_version": "~2.1.4",
      "model_name": "LayoutModel",
      "state": {
       "_model_module_version": "~2.1.4",
       "_view_module_version": "~2.1.4"
      }
     },
     "5e9d28a17f0a4472a3569c55f6208176": {
      "model_module": "jupyter-js-widgets",
      "model_module_version": "~2.1.4",
      "model_name": "LayoutModel",
      "state": {
       "_model_module_version": "~2.1.4",
       "_view_module_version": "~2.1.4"
      }
     },
     "691909eb7b9f40a1befe2111b83a3311": {
      "model_module": "@jupyter-widgets/controls",
      "model_module_version": "1.0.0",
      "model_name": "SliderStyleModel",
      "state": {
       "description_width": ""
      }
     },
     "6eed08c906274bf482b60fd55b37c3ad": {
      "model_module": "jupyter-js-widgets",
      "model_module_version": "~2.1.4",
      "model_name": "LayoutModel",
      "state": {
       "_model_module_version": "~2.1.4",
       "_view_module_version": "~2.1.4"
      }
     },
     "7248580179b4451f84ab6a02c42d150c": {
      "model_module": "jupyter-js-widgets",
      "model_module_version": "~2.1.4",
      "model_name": "LayoutModel",
      "state": {
       "_model_module_version": "~2.1.4",
       "_view_module_version": "~2.1.4"
      }
     },
     "7535344df8c845ec8b56537adb1447b3": {
      "model_module": "jupyter-js-widgets",
      "model_module_version": "~2.1.4",
      "model_name": "FloatSliderModel",
      "state": {
       "_model_module_version": "~2.1.4",
       "_view_module_version": "~2.1.4",
       "description": "phi_1",
       "layout": "IPY_MODEL_7248580179b4451f84ab6a02c42d150c",
       "max": 6.3,
       "min": -6.3,
       "step": 0.1
      }
     },
     "783eb0f42b114234b5105000c9a0e490": {
      "model_module": "@jupyter-widgets/base",
      "model_module_version": "1.0.0",
      "model_name": "LayoutModel",
      "state": {}
     },
     "85f57be149da4d70a11da663a4c4b94e": {
      "model_module": "jupyter-js-widgets",
      "model_module_version": "~2.1.4",
      "model_name": "LayoutModel",
      "state": {
       "_model_module_version": "~2.1.4",
       "_view_module_version": "~2.1.4"
      }
     },
     "86c3b8af4d2f440ead0e8ac1944be176": {
      "model_module": "jupyter-js-widgets",
      "model_module_version": "~2.1.4",
      "model_name": "FloatSliderModel",
      "state": {
       "_model_module_version": "~2.1.4",
       "_view_module_version": "~2.1.4",
       "description": "omega_1",
       "layout": "IPY_MODEL_5e9d28a17f0a4472a3569c55f6208176",
       "max": 12.566370614359172,
       "step": 0.1,
       "value": 6.283185307179586
      }
     },
     "87b94afec1a8453fad83be8a7080c114": {
      "model_module": "jupyter-js-widgets",
      "model_module_version": "~2.1.4",
      "model_name": "FloatSliderModel",
      "state": {
       "_model_module_version": "~2.1.4",
       "_view_module_version": "~2.1.4",
       "description": "phi_2",
       "layout": "IPY_MODEL_3ed205dca8e341b1bb6cf6467c45c4c1",
       "max": 6.3,
       "min": -6.3,
       "step": 0.1
      }
     },
     "88d0a18f0b8f4ed9bc9cde0dc3dc9f6c": {
      "model_module": "jupyter-js-widgets",
      "model_module_version": "~2.1.4",
      "model_name": "LayoutModel",
      "state": {
       "_model_module_version": "~2.1.4",
       "_view_module_version": "~2.1.4"
      }
     },
     "8c82126dd7f74e54bd8a0d42ad46eb52": {
      "model_module": "jupyter-js-widgets",
      "model_module_version": "~2.1.4",
      "model_name": "FloatSliderModel",
      "state": {
       "_model_module_version": "~2.1.4",
       "_view_module_version": "~2.1.4",
       "description": "Amp_1",
       "layout": "IPY_MODEL_c1b1f0a766554543abc5d9c928edd6e7",
       "max": 5,
       "min": 0.1,
       "step": 0.1,
       "value": 1
      }
     },
     "90b745c9978944389e33117589908a42": {
      "model_module": "@jupyter-widgets/base",
      "model_module_version": "1.0.0",
      "model_name": "LayoutModel",
      "state": {}
     },
     "9275002512fe4e90af5beca5b6e93ba7": {
      "model_module": "@jupyter-widgets/base",
      "model_module_version": "1.0.0",
      "model_name": "LayoutModel",
      "state": {}
     },
     "9556b1d23b584876bcaeafd3aad709f5": {
      "model_module": "@jupyter-widgets/controls",
      "model_module_version": "1.0.0",
      "model_name": "SliderStyleModel",
      "state": {
       "description_width": ""
      }
     },
     "956e4bcb79ba4f749eeabd3f6c107c81": {
      "model_module": "@jupyter-widgets/controls",
      "model_module_version": "1.0.0",
      "model_name": "FloatSliderModel",
      "state": {
       "description": "Amp_2",
       "layout": "IPY_MODEL_f31046146c6b42ef94fb44b2b1b1ec8b",
       "max": 5,
       "min": 0.1,
       "step": 0.1,
       "style": "IPY_MODEL_f185aa9cd3dc4ef0ac3148371e6e2a45",
       "value": 1.5
      }
     },
     "9915b04ed0ef4cc09587e5aee708afee": {
      "model_module": "jupyter-js-widgets",
      "model_module_version": "~2.1.4",
      "model_name": "FloatSliderModel",
      "state": {
       "_model_module_version": "~2.1.4",
       "_view_module_version": "~2.1.4",
       "description": "omega_2",
       "layout": "IPY_MODEL_5e82047962294ab5a8b76ea66510c5a7",
       "max": 12.566370614359172,
       "step": 0.1,
       "value": 6.283185307179586
      }
     },
     "9bd9a439ea5140d498028081bbfe0ca6": {
      "model_module": "jupyter-js-widgets",
      "model_module_version": "~2.1.4",
      "model_name": "LayoutModel",
      "state": {
       "_model_module_version": "~2.1.4",
       "_view_module_version": "~2.1.4"
      }
     },
     "9e366111574446e6bb6fdcbd897b505e": {
      "model_module": "jupyter-js-widgets",
      "model_module_version": "~2.1.4",
      "model_name": "FloatSliderModel",
      "state": {
       "_model_module_version": "~2.1.4",
       "_view_module_version": "~2.1.4",
       "description": "Amp_1",
       "layout": "IPY_MODEL_f27477ff092c4e878ccc5b02133a0745",
       "max": 5,
       "min": 0.1,
       "step": 0.1,
       "value": 1
      }
     },
     "9fa1be8026b04e028d823145d087e881": {
      "model_module": "jupyter-js-widgets",
      "model_module_version": "~2.1.4",
      "model_name": "LayoutModel",
      "state": {
       "_model_module_version": "~2.1.4",
       "_view_module_version": "~2.1.4"
      }
     },
     "9fbb20fa137342ae9bb806bb2702c26c": {
      "model_module": "jupyter-js-widgets",
      "model_module_version": "~2.1.4",
      "model_name": "FloatSliderModel",
      "state": {
       "_model_module_version": "~2.1.4",
       "_view_module_version": "~2.1.4",
       "description": "omega_2",
       "layout": "IPY_MODEL_c1adf63aea844d7fbae86b6713fd65a3",
       "max": 12.566370614359172,
       "step": 0.1,
       "value": 6.283185307179586
      }
     },
     "a1359428838442f99613c7b8b79c275b": {
      "model_module": "jupyter-js-widgets",
      "model_module_version": "~2.1.4",
      "model_name": "FloatSliderModel",
      "state": {
       "_model_module_version": "~2.1.4",
       "_view_module_version": "~2.1.4",
       "description": "lambda_1",
       "layout": "IPY_MODEL_9fa1be8026b04e028d823145d087e881",
       "max": 5,
       "step": 0.1,
       "value": 1
      }
     },
     "a7447c27b74e47acb73b8d5092c41c3c": {
      "model_module": "jupyter-js-widgets",
      "model_module_version": "~2.1.4",
      "model_name": "LayoutModel",
      "state": {
       "_model_module_version": "~2.1.4",
       "_view_module_version": "~2.1.4"
      }
     },
     "b21c82dca7e14c8091389a04715d8a76": {
      "model_module": "jupyter-js-widgets",
      "model_module_version": "~2.1.4",
      "model_name": "LayoutModel",
      "state": {
       "_model_module_version": "~2.1.4",
       "_view_module_version": "~2.1.4"
      }
     },
     "b2f433cfcf294d8f8b1fa6791b9c67fd": {
      "model_module": "jupyter-js-widgets",
      "model_module_version": "~2.1.4",
      "model_name": "VBoxModel",
      "state": {
       "_dom_classes": [
        "widget-interact"
       ],
       "_model_module_version": "~2.1.4",
       "_view_module_version": "~2.1.4",
       "children": [
        "IPY_MODEL_9e366111574446e6bb6fdcbd897b505e",
        "IPY_MODEL_a1359428838442f99613c7b8b79c275b",
        "IPY_MODEL_86c3b8af4d2f440ead0e8ac1944be176",
        "IPY_MODEL_0bfcf6a0ac1b49a7b6f6a0fcd6afeda4",
        "IPY_MODEL_c12a6435c3644ed981e54d28f81f4d19",
        "IPY_MODEL_e8222870e1b54a35abfe7ef335923460",
        "IPY_MODEL_2e536ff3107d4e55946d044ea3b30a2a",
        "IPY_MODEL_f9f5d2f0ff404ed3b3d7ca3227bf5b33",
        "IPY_MODEL_bc34bbb30e94403bb87f16b7495cadaa"
       ],
       "layout": "IPY_MODEL_0d946b69e883442a916e0af9f80cc751"
      }
     },
     "bbbacd8c0476424d862b56367d2d095c": {
      "model_module": "@jupyter-widgets/controls",
      "model_module_version": "1.0.0",
      "model_name": "FloatSliderModel",
      "state": {
       "description": "omega_2",
       "layout": "IPY_MODEL_fb9b3483202c4a72817d0e6630b6d895",
       "max": 12.566370614359172,
       "step": 0.1,
       "style": "IPY_MODEL_d7cc8a15782f413c8f09ee83215a3dbb",
       "value": 6.283185307179586
      }
     },
     "bc34bbb30e94403bb87f16b7495cadaa": {
      "model_module": "jupyter-js-widgets",
      "model_module_version": "~2.1.4",
      "model_name": "OutputModel",
      "state": {
       "_model_module": "jupyter-js-widgets",
       "_model_module_version": "~2.1.4",
       "_view_module": "jupyter-js-widgets",
       "_view_module_version": "~2.1.4",
       "layout": "IPY_MODEL_c4dcce06b6464f6fb5efeaabb166ea1c",
       "msg_throttle": 1
      }
     },
     "bfaebaaaf724466390968e2ed349b445": {
      "model_module": "jupyter-js-widgets",
      "model_module_version": "~2.1.4",
      "model_name": "LayoutModel",
      "state": {
       "_model_module_version": "~2.1.4",
       "_view_module_version": "~2.1.4"
      }
     },
     "c128fb41d69243e5af058854b4f51d06": {
      "model_module": "@jupyter-widgets/controls",
      "model_module_version": "1.0.0",
      "model_name": "SliderStyleModel",
      "state": {
       "description_width": ""
      }
     },
     "c12a6435c3644ed981e54d28f81f4d19": {
      "model_module": "jupyter-js-widgets",
      "model_module_version": "~2.1.4",
      "model_name": "FloatSliderModel",
      "state": {
       "_model_module_version": "~2.1.4",
       "_view_module_version": "~2.1.4",
       "description": "Amp_2",
       "layout": "IPY_MODEL_295533d023d24175874cfd499712e2a1",
       "max": 5,
       "min": 0.1,
       "step": 0.1,
       "value": 1.5
      }
     },
     "c193d3c52f3341e996718789df339a38": {
      "model_module": "@jupyter-widgets/output",
      "model_module_version": "1.0.0",
      "model_name": "OutputModel",
      "state": {
       "layout": "IPY_MODEL_783eb0f42b114234b5105000c9a0e490"
      }
     },
     "c1adf63aea844d7fbae86b6713fd65a3": {
      "model_module": "jupyter-js-widgets",
      "model_module_version": "~2.1.4",
      "model_name": "LayoutModel",
      "state": {
       "_model_module_version": "~2.1.4",
       "_view_module_version": "~2.1.4"
      }
     },
     "c1b1f0a766554543abc5d9c928edd6e7": {
      "model_module": "jupyter-js-widgets",
      "model_module_version": "~2.1.4",
      "model_name": "LayoutModel",
      "state": {
       "_model_module_version": "~2.1.4",
       "_view_module_version": "~2.1.4"
      }
     },
     "c2e50e792fc64a49b06e6ead704845c2": {
      "model_module": "jupyter-js-widgets",
      "model_module_version": "~2.1.4",
      "model_name": "FloatSliderModel",
      "state": {
       "_model_module_version": "~2.1.4",
       "_view_module_version": "~2.1.4",
       "description": "lambda_2",
       "layout": "IPY_MODEL_bfaebaaaf724466390968e2ed349b445",
       "max": 5,
       "step": 0.1,
       "value": 0.5
      }
     },
     "c4dcce06b6464f6fb5efeaabb166ea1c": {
      "model_module": "jupyter-js-widgets",
      "model_module_version": "~2.1.4",
      "model_name": "LayoutModel",
      "state": {
       "_model_module_version": "~2.1.4",
       "_view_module_version": "~2.1.4"
      }
     },
     "c6d5e6a962884649a3b20d64badff59f": {
      "model_module": "@jupyter-widgets/base",
      "model_module_version": "1.0.0",
      "model_name": "LayoutModel",
      "state": {}
     },
     "cbfe3a71c154416ebc9f3515bb61eb76": {
      "model_module": "jupyter-js-widgets",
      "model_module_version": "~2.1.4",
      "model_name": "LayoutModel",
      "state": {
       "_model_module_version": "~2.1.4",
       "_view_module_version": "~2.1.4"
      }
     },
     "ccf3afd23f3a4d08b86d4d4ba23c1c43": {
      "model_module": "jupyter-js-widgets",
      "model_module_version": "~2.1.4",
      "model_name": "LayoutModel",
      "state": {
       "_model_module_version": "~2.1.4",
       "_view_module_version": "~2.1.4"
      }
     },
     "cd9816bab0544e3f9348dea59a071420": {
      "model_module": "jupyter-js-widgets",
      "model_module_version": "~2.1.4",
      "model_name": "OutputModel",
      "state": {
       "_model_module": "jupyter-js-widgets",
       "_model_module_version": "~2.1.4",
       "_view_module": "jupyter-js-widgets",
       "_view_module_version": "~2.1.4",
       "layout": "IPY_MODEL_a7447c27b74e47acb73b8d5092c41c3c",
       "msg_throttle": 1
      }
     },
     "d5db5c8372fc49be81a02b74daa9dfed": {
      "model_module": "jupyter-js-widgets",
      "model_module_version": "~2.1.4",
      "model_name": "LayoutModel",
      "state": {
       "_model_module_version": "~2.1.4",
       "_view_module_version": "~2.1.4"
      }
     },
     "d7cc8a15782f413c8f09ee83215a3dbb": {
      "model_module": "@jupyter-widgets/controls",
      "model_module_version": "1.0.0",
      "model_name": "SliderStyleModel",
      "state": {
       "description_width": ""
      }
     },
     "dc7f9f0f62cb47789a7224f8e8d2fe12": {
      "model_module": "jupyter-js-widgets",
      "model_module_version": "~2.1.4",
      "model_name": "LayoutModel",
      "state": {
       "_model_module_version": "~2.1.4",
       "_view_module_version": "~2.1.4"
      }
     },
     "dee482da8f1d4af7b4e09d01b42317b4": {
      "model_module": "jupyter-js-widgets",
      "model_module_version": "~2.1.4",
      "model_name": "FloatSliderModel",
      "state": {
       "_model_module_version": "~2.1.4",
       "_view_module_version": "~2.1.4",
       "description": "lambda_1",
       "layout": "IPY_MODEL_2817445cf1c04266948aab39bbddf7e2",
       "max": 5,
       "step": 0.1,
       "value": 1
      }
     },
     "e4cbff63ca2a403382363ce2fde59745": {
      "model_module": "@jupyter-widgets/controls",
      "model_module_version": "1.0.0",
      "model_name": "FloatSliderModel",
      "state": {
       "description": "lambda_2",
       "layout": "IPY_MODEL_46fbf0194e674f259f3f5cf4248a266c",
       "max": 5,
       "step": 0.1,
       "style": "IPY_MODEL_691909eb7b9f40a1befe2111b83a3311",
       "value": 0.5
      }
     },
     "e8222870e1b54a35abfe7ef335923460": {
      "model_module": "jupyter-js-widgets",
      "model_module_version": "~2.1.4",
      "model_name": "FloatSliderModel",
      "state": {
       "_model_module_version": "~2.1.4",
       "_view_module_version": "~2.1.4",
       "description": "lambda_2",
       "layout": "IPY_MODEL_88d0a18f0b8f4ed9bc9cde0dc3dc9f6c",
       "max": 5,
       "step": 0.1,
       "value": 0.5
      }
     },
     "eb2a2bba715d455dba5c0434eeb20cc7": {
      "model_module": "jupyter-js-widgets",
      "model_module_version": "~2.1.4",
      "model_name": "FloatSliderModel",
      "state": {
       "_model_module_version": "~2.1.4",
       "_view_module_version": "~2.1.4",
       "description": "phi_2",
       "layout": "IPY_MODEL_32487c2a3c9140f5ab4e8864fae3ab1b",
       "max": 6.3,
       "min": -6.3,
       "step": 0.1
      }
     },
     "ee5ffdf2632749bd8cd02f0c2ade0da5": {
      "model_module": "jupyter-js-widgets",
      "model_module_version": "~2.1.4",
      "model_name": "FloatSliderModel",
      "state": {
       "_model_module_version": "~2.1.4",
       "_view_module_version": "~2.1.4",
       "description": "Amp_2",
       "layout": "IPY_MODEL_2533a923d05a41f6a595996efcb06c7c",
       "max": 5,
       "min": 0.1,
       "step": 0.1,
       "value": 4
      }
     },
     "f185aa9cd3dc4ef0ac3148371e6e2a45": {
      "model_module": "@jupyter-widgets/controls",
      "model_module_version": "1.0.0",
      "model_name": "SliderStyleModel",
      "state": {
       "description_width": ""
      }
     },
     "f27477ff092c4e878ccc5b02133a0745": {
      "model_module": "jupyter-js-widgets",
      "model_module_version": "~2.1.4",
      "model_name": "LayoutModel",
      "state": {
       "_model_module_version": "~2.1.4",
       "_view_module_version": "~2.1.4"
      }
     },
     "f31046146c6b42ef94fb44b2b1b1ec8b": {
      "model_module": "@jupyter-widgets/base",
      "model_module_version": "1.0.0",
      "model_name": "LayoutModel",
      "state": {}
     },
     "f9f5d2f0ff404ed3b3d7ca3227bf5b33": {
      "model_module": "jupyter-js-widgets",
      "model_module_version": "~2.1.4",
      "model_name": "FloatSliderModel",
      "state": {
       "_model_module_version": "~2.1.4",
       "_view_module_version": "~2.1.4",
       "description": "phi_2",
       "layout": "IPY_MODEL_9bd9a439ea5140d498028081bbfe0ca6",
       "max": 6.3,
       "min": -6.3,
       "step": 0.1
      }
     },
     "fb9b3483202c4a72817d0e6630b6d895": {
      "model_module": "@jupyter-widgets/base",
      "model_module_version": "1.0.0",
      "model_name": "LayoutModel",
      "state": {}
     }
    },
    "version_major": 2,
    "version_minor": 0
   }
  }
 },
 "nbformat": 4,
 "nbformat_minor": 2
}
